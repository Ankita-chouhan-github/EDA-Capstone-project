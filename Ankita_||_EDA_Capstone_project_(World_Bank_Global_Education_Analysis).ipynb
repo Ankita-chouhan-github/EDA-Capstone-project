{
  "nbformat": 4,
  "nbformat_minor": 0,
  "metadata": {
    "colab": {
      "provenance": [],
      "collapsed_sections": [
        "4Of9eVA-YrdM",
        "iky9q4vBYrdO",
        "F6T5p64dYrdO",
        "y-Ehk30pYrdP",
        "bamQiAODYuh1",
        "QHF8YVU7Yuh3",
        "GwzvFGzlYuh3",
        "qYpmQ266Yuh3",
        "OH-pJp9IphqM",
        "bbFf2-_FphqN",
        "_ouA3fa0phqN",
        "Seke61FWphqN",
        "PIIx-8_IphqN",
        "t27r6nlMphqO",
        "r2jJGEOYphqO",
        "b0JNsNcRphqO",
        "BZR9WyysphqO",
        "jj7wYXLtphqO",
        "eZrbJ2SmphqO",
        "rFu4xreNphqO",
        "YJ55k-q6phqO",
        "gCFgpxoyphqP",
        "OVtJsKN_phqQ",
        "lssrdh5qphqQ",
        "U2RJ9gkRphqQ",
        "1M8mcRywphqQ",
        "tgIPom80phqQ",
        "JMzcOPDDphqR",
        "x-EpHcCOp1ci",
        "X_VqEhTip1ck",
        "8zGJKyg5p1ck",
        "PVzmfK_Ep1ck",
        "n3dbpmDWp1ck",
        "ylSl6qgtp1ck",
        "ZWILFDl5p1ck",
        "M7G43BXep1ck",
        "Ag9LCva-p1cl",
        "E6MkPsBcp1cl",
        "2cELzS2fp1cl",
        "3MPXvC8up1cl",
        "UV0SzAkaZNRQ",
        "YPEH6qLeZNRQ",
        "EXh0U9oCveiU",
        "22aHeOlLveiV",
        "8G2x9gOozGDZ",
        "gIfDvo9L0UH2"
      ],
      "include_colab_link": true
    },
    "kernelspec": {
      "name": "python3",
      "display_name": "Python 3"
    },
    "language_info": {
      "name": "python"
    },
    "gpuClass": "standard"
  },
  "cells": [
    {
      "cell_type": "markdown",
      "metadata": {
        "id": "view-in-github",
        "colab_type": "text"
      },
      "source": [
        "<a href=\"https://colab.research.google.com/github/Ankita-chouhan-github/EDA-Capstone-project/blob/main/Ankita_%7C%7C_EDA_Capstone_project_(World_Bank_Global_Education_Analysis).ipynb\" target=\"_parent\"><img src=\"https://colab.research.google.com/assets/colab-badge.svg\" alt=\"Open In Colab\"/></a>"
      ]
    },
    {
      "cell_type": "markdown",
      "source": [
        "# **Project Name**    - \n",
        "\n"
      ],
      "metadata": {
        "id": "vncDsAP0Gaoa"
      }
    },
    {
      "cell_type": "markdown",
      "source": [
        "##### **Project Type**    - EDA\n",
        "##### **Contribution**    - Individual\n",
        "##### **Team Member 1 -** Ankita Chouhan\n"
      ],
      "metadata": {
        "id": "beRrZCGUAJYm"
      }
    },
    {
      "cell_type": "markdown",
      "source": [
        "# **Project Summary -**"
      ],
      "metadata": {
        "id": "FJNUwmbgGyua"
      }
    },
    {
      "cell_type": "markdown",
      "source": [
        "Write the summary here within 500-600 words."
      ],
      "metadata": {
        "id": "F6v_1wHtG2nS"
      }
    },
    {
      "cell_type": "code",
      "source": [
        "# World Bank Global Education Analysis :"
      ],
      "metadata": {
        "id": "X8ctwIEVC6Ka"
      },
      "execution_count": null,
      "outputs": []
    },
    {
      "cell_type": "markdown",
      "source": [
        "# **GitHub Link -**"
      ],
      "metadata": {
        "id": "w6K7xa23Elo4"
      }
    },
    {
      "cell_type": "markdown",
      "source": [
        "https://github.com/Ankita-chouhan-github/EDA-Capstone-project"
      ],
      "metadata": {
        "id": "h1o69JH3Eqqn"
      }
    },
    {
      "cell_type": "markdown",
      "source": [
        "# **Problem Statement**\n"
      ],
      "metadata": {
        "id": "yQaldy8SH6Dl"
      }
    },
    {
      "cell_type": "markdown",
      "source": [
        "\n",
        "**In this project we are going to analyze the World Bank EdStats Data in order to find out valuable insights and use those insights to suggest some policies to bring out better learning outcomes for different countries**"
      ],
      "metadata": {
        "id": "DpeJGUA3kjGy"
      }
    },
    {
      "cell_type": "markdown",
      "source": [
        "#### **Define Your Business Objective?**"
      ],
      "metadata": {
        "id": "PH-0ReGfmX4f"
      }
    },
    {
      "cell_type": "markdown",
      "source": [
        "Policymakers in different countries who are working to improve student learning often find themselves flying blind. They see the budget that goes into education and (sometimes) the learning that students come out with, but they lack information on the crucial factors in between— the practices, policies, and politics—that drive those learning outcomes. using the world bank global education dataset, i aim to draw conclusions which will help in policy making.\n",
        "\n",
        "**How to improve outcome of \"expenditure on education\" by government policies.**\n",
        "\n",
        "The World Bank EdStats All Indicator Query holds over 4,000 internationally comparable indicators that describe education access, progression, completion, literacy, teachers, population, and expenditures.The indicators cover the education cycle from pre-primary to vocational and tertiary education and also holds learning outcome data from international and regional learning assessments (e.g. PISA, TIMSS, PIRLS), equity data from household surveys, and projection/attainment data.\n",
        "so we will use this data to carry out analysis to find out impacts of different factors on learning outcomes and how to improve these inputs so as to maximise the output"
      ],
      "metadata": {
        "id": "PhDvGCAqmjP1"
      }
    },
    {
      "cell_type": "markdown",
      "source": [
        "# **General Guidelines** : -  "
      ],
      "metadata": {
        "id": "mDgbUHAGgjLW"
      }
    },
    {
      "cell_type": "markdown",
      "source": [
        "1.   Well-structured, formatted, and commented code is required. \n",
        "2.   Exception Handling, Production Grade Code & Deployment Ready Code will be a plus. Those students will be awarded some additional credits. \n",
        "     \n",
        "     The additional credits will have advantages over other students during Star Student selection.\n",
        "       \n",
        "             [ Note: - Deployment Ready Code is defined as, the whole .ipynb notebook should be executable in one go\n",
        "                       without a single error logged. ]\n",
        "\n",
        "3.   Each and every logic should have proper comments.\n",
        "4. You may add as many number of charts you want. Make Sure for each and every chart the following format should be answered.\n",
        "        \n",
        "\n",
        "```\n",
        "# Chart visualization code\n",
        "```\n",
        "            \n",
        "\n",
        "*   Why did you pick the specific chart?\n",
        "*   What is/are the insight(s) found from the chart?\n",
        "* Will the gained insights help creating a positive business impact? \n",
        "Are there any insights that lead to negative growth? Justify with specific reason.\n",
        "\n",
        "5. You have to create at least 20 logical & meaningful charts having important insights.\n",
        "\n",
        "\n",
        "[ Hints : - Do the Vizualization in  a structured way while following \"UBM\" Rule. \n",
        "\n",
        "U - Univariate Analysis,\n",
        "\n",
        "B - Bivariate Analysis (Numerical - Categorical, Numerical - Numerical, Categorical - Categorical)\n",
        "\n",
        "M - Multivariate Analysis\n",
        " ]\n",
        "\n",
        "\n",
        "\n"
      ],
      "metadata": {
        "id": "ZrxVaUj-hHfC"
      }
    },
    {
      "cell_type": "markdown",
      "source": [
        "# ***Let's Begin !***"
      ],
      "metadata": {
        "id": "O_i_v8NEhb9l"
      }
    },
    {
      "cell_type": "markdown",
      "source": [
        "## ***1. Know Your Data***"
      ],
      "metadata": {
        "id": "HhfV-JJviCcP"
      }
    },
    {
      "cell_type": "markdown",
      "source": [
        "### Import Libraries"
      ],
      "metadata": {
        "id": "Y3lxredqlCYt"
      }
    },
    {
      "cell_type": "code",
      "source": [
        "# Import Libraries\n",
        "import numpy as np\n",
        "import pandas as pd\n",
        "from numpy import math\n",
        "from numpy import loadtxt\n",
        "import seaborn as sns\n",
        "import matplotlib.pyplot as plt\n",
        "%matplotlib inline\n",
        "from matplotlib import rcParams"
      ],
      "metadata": {
        "id": "M8Vqi-pPk-HR"
      },
      "execution_count": 1,
      "outputs": []
    },
    {
      "cell_type": "markdown",
      "source": [
        "### Dataset Loading"
      ],
      "metadata": {
        "id": "3RnN4peoiCZX"
      }
    },
    {
      "cell_type": "code",
      "source": [
        "# Load Dataset\n",
        "from google.colab import drive\n",
        "drive.mount('/content/drive')"
      ],
      "metadata": {
        "id": "4CkvbW_SlZ_R",
        "colab": {
          "base_uri": "https://localhost:8080/",
          "height": 0
        },
        "outputId": "717c7626-e7f1-4da2-ef25-8fa3a67ed1d3"
      },
      "execution_count": 2,
      "outputs": [
        {
          "output_type": "stream",
          "name": "stdout",
          "text": [
            "Mounted at /content/drive\n"
          ]
        }
      ]
    },
    {
      "cell_type": "code",
      "source": [
        "file_path = '/content/drive/MyDrive/almabetter/EDA Capstone project/'\n",
        "ed_stats_country_series_df = pd.read_csv(file_path + 'EdStatsCountry-Series.csv')\n",
        "ed_stats_country = pd.read_csv(file_path + 'EdStatsCountry.csv')\n",
        "ed_stats_data = pd.read_csv(file_path + 'EdStatsData.csv')\n",
        "ed_stats_footnote = pd.read_csv(file_path + 'EdStatsFootNote.csv')\n",
        "ed_stats_Series = pd.read_csv(file_path + 'EdStatsSeries.csv')"
      ],
      "metadata": {
        "id": "Srj4gThUGHSK"
      },
      "execution_count": 3,
      "outputs": []
    },
    {
      "cell_type": "markdown",
      "source": [
        "### Dataset First View"
      ],
      "metadata": {
        "id": "x71ZqKXriCWQ"
      }
    },
    {
      "cell_type": "code",
      "source": [
        "# Dataset First Look\n",
        "ed_stats_country_series_df.head()"
      ],
      "metadata": {
        "id": "LWNFOSvLl09H",
        "colab": {
          "base_uri": "https://localhost:8080/",
          "height": 206
        },
        "outputId": "7984b4e5-2978-42fd-f775-c4952cd106bf"
      },
      "execution_count": null,
      "outputs": [
        {
          "output_type": "execute_result",
          "data": {
            "text/plain": [
              "  CountryCode         SeriesCode  \\\n",
              "0         ABW        SP.POP.TOTL   \n",
              "1         ABW        SP.POP.GROW   \n",
              "2         AFG        SP.POP.GROW   \n",
              "3         AFG  NY.GDP.PCAP.PP.CD   \n",
              "4         AFG        SP.POP.TOTL   \n",
              "\n",
              "                                         DESCRIPTION  Unnamed: 3  \n",
              "0  Data sources : United Nations World Population...         NaN  \n",
              "1  Data sources: United Nations World Population ...         NaN  \n",
              "2  Data sources: United Nations World Population ...         NaN  \n",
              "3                 Estimates are based on regression.         NaN  \n",
              "4  Data sources : United Nations World Population...         NaN  "
            ],
            "text/html": [
              "\n",
              "  <div id=\"df-56ea12eb-cd42-4d43-95e1-3a945673b16d\">\n",
              "    <div class=\"colab-df-container\">\n",
              "      <div>\n",
              "<style scoped>\n",
              "    .dataframe tbody tr th:only-of-type {\n",
              "        vertical-align: middle;\n",
              "    }\n",
              "\n",
              "    .dataframe tbody tr th {\n",
              "        vertical-align: top;\n",
              "    }\n",
              "\n",
              "    .dataframe thead th {\n",
              "        text-align: right;\n",
              "    }\n",
              "</style>\n",
              "<table border=\"1\" class=\"dataframe\">\n",
              "  <thead>\n",
              "    <tr style=\"text-align: right;\">\n",
              "      <th></th>\n",
              "      <th>CountryCode</th>\n",
              "      <th>SeriesCode</th>\n",
              "      <th>DESCRIPTION</th>\n",
              "      <th>Unnamed: 3</th>\n",
              "    </tr>\n",
              "  </thead>\n",
              "  <tbody>\n",
              "    <tr>\n",
              "      <th>0</th>\n",
              "      <td>ABW</td>\n",
              "      <td>SP.POP.TOTL</td>\n",
              "      <td>Data sources : United Nations World Population...</td>\n",
              "      <td>NaN</td>\n",
              "    </tr>\n",
              "    <tr>\n",
              "      <th>1</th>\n",
              "      <td>ABW</td>\n",
              "      <td>SP.POP.GROW</td>\n",
              "      <td>Data sources: United Nations World Population ...</td>\n",
              "      <td>NaN</td>\n",
              "    </tr>\n",
              "    <tr>\n",
              "      <th>2</th>\n",
              "      <td>AFG</td>\n",
              "      <td>SP.POP.GROW</td>\n",
              "      <td>Data sources: United Nations World Population ...</td>\n",
              "      <td>NaN</td>\n",
              "    </tr>\n",
              "    <tr>\n",
              "      <th>3</th>\n",
              "      <td>AFG</td>\n",
              "      <td>NY.GDP.PCAP.PP.CD</td>\n",
              "      <td>Estimates are based on regression.</td>\n",
              "      <td>NaN</td>\n",
              "    </tr>\n",
              "    <tr>\n",
              "      <th>4</th>\n",
              "      <td>AFG</td>\n",
              "      <td>SP.POP.TOTL</td>\n",
              "      <td>Data sources : United Nations World Population...</td>\n",
              "      <td>NaN</td>\n",
              "    </tr>\n",
              "  </tbody>\n",
              "</table>\n",
              "</div>\n",
              "      <button class=\"colab-df-convert\" onclick=\"convertToInteractive('df-56ea12eb-cd42-4d43-95e1-3a945673b16d')\"\n",
              "              title=\"Convert this dataframe to an interactive table.\"\n",
              "              style=\"display:none;\">\n",
              "        \n",
              "  <svg xmlns=\"http://www.w3.org/2000/svg\" height=\"24px\"viewBox=\"0 0 24 24\"\n",
              "       width=\"24px\">\n",
              "    <path d=\"M0 0h24v24H0V0z\" fill=\"none\"/>\n",
              "    <path d=\"M18.56 5.44l.94 2.06.94-2.06 2.06-.94-2.06-.94-.94-2.06-.94 2.06-2.06.94zm-11 1L8.5 8.5l.94-2.06 2.06-.94-2.06-.94L8.5 2.5l-.94 2.06-2.06.94zm10 10l.94 2.06.94-2.06 2.06-.94-2.06-.94-.94-2.06-.94 2.06-2.06.94z\"/><path d=\"M17.41 7.96l-1.37-1.37c-.4-.4-.92-.59-1.43-.59-.52 0-1.04.2-1.43.59L10.3 9.45l-7.72 7.72c-.78.78-.78 2.05 0 2.83L4 21.41c.39.39.9.59 1.41.59.51 0 1.02-.2 1.41-.59l7.78-7.78 2.81-2.81c.8-.78.8-2.07 0-2.86zM5.41 20L4 18.59l7.72-7.72 1.47 1.35L5.41 20z\"/>\n",
              "  </svg>\n",
              "      </button>\n",
              "      \n",
              "  <style>\n",
              "    .colab-df-container {\n",
              "      display:flex;\n",
              "      flex-wrap:wrap;\n",
              "      gap: 12px;\n",
              "    }\n",
              "\n",
              "    .colab-df-convert {\n",
              "      background-color: #E8F0FE;\n",
              "      border: none;\n",
              "      border-radius: 50%;\n",
              "      cursor: pointer;\n",
              "      display: none;\n",
              "      fill: #1967D2;\n",
              "      height: 32px;\n",
              "      padding: 0 0 0 0;\n",
              "      width: 32px;\n",
              "    }\n",
              "\n",
              "    .colab-df-convert:hover {\n",
              "      background-color: #E2EBFA;\n",
              "      box-shadow: 0px 1px 2px rgba(60, 64, 67, 0.3), 0px 1px 3px 1px rgba(60, 64, 67, 0.15);\n",
              "      fill: #174EA6;\n",
              "    }\n",
              "\n",
              "    [theme=dark] .colab-df-convert {\n",
              "      background-color: #3B4455;\n",
              "      fill: #D2E3FC;\n",
              "    }\n",
              "\n",
              "    [theme=dark] .colab-df-convert:hover {\n",
              "      background-color: #434B5C;\n",
              "      box-shadow: 0px 1px 3px 1px rgba(0, 0, 0, 0.15);\n",
              "      filter: drop-shadow(0px 1px 2px rgba(0, 0, 0, 0.3));\n",
              "      fill: #FFFFFF;\n",
              "    }\n",
              "  </style>\n",
              "\n",
              "      <script>\n",
              "        const buttonEl =\n",
              "          document.querySelector('#df-56ea12eb-cd42-4d43-95e1-3a945673b16d button.colab-df-convert');\n",
              "        buttonEl.style.display =\n",
              "          google.colab.kernel.accessAllowed ? 'block' : 'none';\n",
              "\n",
              "        async function convertToInteractive(key) {\n",
              "          const element = document.querySelector('#df-56ea12eb-cd42-4d43-95e1-3a945673b16d');\n",
              "          const dataTable =\n",
              "            await google.colab.kernel.invokeFunction('convertToInteractive',\n",
              "                                                     [key], {});\n",
              "          if (!dataTable) return;\n",
              "\n",
              "          const docLinkHtml = 'Like what you see? Visit the ' +\n",
              "            '<a target=\"_blank\" href=https://colab.research.google.com/notebooks/data_table.ipynb>data table notebook</a>'\n",
              "            + ' to learn more about interactive tables.';\n",
              "          element.innerHTML = '';\n",
              "          dataTable['output_type'] = 'display_data';\n",
              "          await google.colab.output.renderOutput(dataTable, element);\n",
              "          const docLink = document.createElement('div');\n",
              "          docLink.innerHTML = docLinkHtml;\n",
              "          element.appendChild(docLink);\n",
              "        }\n",
              "      </script>\n",
              "    </div>\n",
              "  </div>\n",
              "  "
            ]
          },
          "metadata": {},
          "execution_count": 5
        }
      ]
    },
    {
      "cell_type": "code",
      "source": [
        "ed_stats_country.head()"
      ],
      "metadata": {
        "colab": {
          "base_uri": "https://localhost:8080/",
          "height": 540
        },
        "id": "gIDeItUyIFVd",
        "outputId": "41a5c921-edc3-4350-f7d3-c33d76238176"
      },
      "execution_count": null,
      "outputs": [
        {
          "output_type": "execute_result",
          "data": {
            "text/plain": [
              "  Country Code   Short Name   Table Name                     Long Name  \\\n",
              "0          ABW        Aruba        Aruba                         Aruba   \n",
              "1          AFG  Afghanistan  Afghanistan  Islamic State of Afghanistan   \n",
              "2          AGO       Angola       Angola   People's Republic of Angola   \n",
              "3          ALB      Albania      Albania           Republic of Albania   \n",
              "4          AND      Andorra      Andorra       Principality of Andorra   \n",
              "\n",
              "  2-alpha code   Currency Unit  \\\n",
              "0           AW   Aruban florin   \n",
              "1           AF  Afghan afghani   \n",
              "2           AO  Angolan kwanza   \n",
              "3           AL    Albanian lek   \n",
              "4           AD            Euro   \n",
              "\n",
              "                                       Special Notes  \\\n",
              "0  SNA data for 2000-2011 are updated from offici...   \n",
              "1  Fiscal year end: March 20; reporting period fo...   \n",
              "2  April 2013 database update: Based on IMF data,...   \n",
              "3                                                NaN   \n",
              "4                                                NaN   \n",
              "\n",
              "                      Region          Income Group WB-2 code  ...  \\\n",
              "0  Latin America & Caribbean  High income: nonOECD        AW  ...   \n",
              "1                 South Asia            Low income        AF  ...   \n",
              "2         Sub-Saharan Africa   Upper middle income        AO  ...   \n",
              "3      Europe & Central Asia   Upper middle income        AL  ...   \n",
              "4      Europe & Central Asia  High income: nonOECD        AD  ...   \n",
              "\n",
              "            IMF data dissemination standard  \\\n",
              "0                                       NaN   \n",
              "1  General Data Dissemination System (GDDS)   \n",
              "2  General Data Dissemination System (GDDS)   \n",
              "3  General Data Dissemination System (GDDS)   \n",
              "4                                       NaN   \n",
              "\n",
              "                            Latest population census  \\\n",
              "0                                               2010   \n",
              "1                                               1979   \n",
              "2                                               1970   \n",
              "3                                               2011   \n",
              "4  2011. Population figures compiled from adminis...   \n",
              "\n",
              "                             Latest household survey  \\\n",
              "0                                                NaN   \n",
              "1  Multiple Indicator Cluster Survey (MICS), 2010/11   \n",
              "2               Malaria Indicator Survey (MIS), 2011   \n",
              "3       Demographic and Health Survey (DHS), 2008/09   \n",
              "4                                                NaN   \n",
              "\n",
              "   Source of most recent Income and expenditure data  \\\n",
              "0                                                NaN   \n",
              "1            Integrated household survey (IHS), 2008   \n",
              "2            Integrated household survey (IHS), 2008   \n",
              "3  Living Standards Measurement Study Survey (LSM...   \n",
              "4                                                NaN   \n",
              "\n",
              "  Vital registration complete Latest agricultural census  \\\n",
              "0                         Yes                        NaN   \n",
              "1                         NaN                    2013/14   \n",
              "2                         NaN                       2015   \n",
              "3                         Yes                       2012   \n",
              "4                         Yes                        NaN   \n",
              "\n",
              "  Latest industrial data Latest trade data Latest water withdrawal data  \\\n",
              "0                    NaN            2012.0                          NaN   \n",
              "1                    NaN            2012.0                         2000   \n",
              "2                    NaN               NaN                         2005   \n",
              "3                 2010.0            2012.0                         2006   \n",
              "4                    NaN            2006.0                          NaN   \n",
              "\n",
              "  Unnamed: 31  \n",
              "0         NaN  \n",
              "1         NaN  \n",
              "2         NaN  \n",
              "3         NaN  \n",
              "4         NaN  \n",
              "\n",
              "[5 rows x 32 columns]"
            ],
            "text/html": [
              "\n",
              "  <div id=\"df-dff39cd5-ee3a-4522-b1f1-6acc4eeea5c4\">\n",
              "    <div class=\"colab-df-container\">\n",
              "      <div>\n",
              "<style scoped>\n",
              "    .dataframe tbody tr th:only-of-type {\n",
              "        vertical-align: middle;\n",
              "    }\n",
              "\n",
              "    .dataframe tbody tr th {\n",
              "        vertical-align: top;\n",
              "    }\n",
              "\n",
              "    .dataframe thead th {\n",
              "        text-align: right;\n",
              "    }\n",
              "</style>\n",
              "<table border=\"1\" class=\"dataframe\">\n",
              "  <thead>\n",
              "    <tr style=\"text-align: right;\">\n",
              "      <th></th>\n",
              "      <th>Country Code</th>\n",
              "      <th>Short Name</th>\n",
              "      <th>Table Name</th>\n",
              "      <th>Long Name</th>\n",
              "      <th>2-alpha code</th>\n",
              "      <th>Currency Unit</th>\n",
              "      <th>Special Notes</th>\n",
              "      <th>Region</th>\n",
              "      <th>Income Group</th>\n",
              "      <th>WB-2 code</th>\n",
              "      <th>...</th>\n",
              "      <th>IMF data dissemination standard</th>\n",
              "      <th>Latest population census</th>\n",
              "      <th>Latest household survey</th>\n",
              "      <th>Source of most recent Income and expenditure data</th>\n",
              "      <th>Vital registration complete</th>\n",
              "      <th>Latest agricultural census</th>\n",
              "      <th>Latest industrial data</th>\n",
              "      <th>Latest trade data</th>\n",
              "      <th>Latest water withdrawal data</th>\n",
              "      <th>Unnamed: 31</th>\n",
              "    </tr>\n",
              "  </thead>\n",
              "  <tbody>\n",
              "    <tr>\n",
              "      <th>0</th>\n",
              "      <td>ABW</td>\n",
              "      <td>Aruba</td>\n",
              "      <td>Aruba</td>\n",
              "      <td>Aruba</td>\n",
              "      <td>AW</td>\n",
              "      <td>Aruban florin</td>\n",
              "      <td>SNA data for 2000-2011 are updated from offici...</td>\n",
              "      <td>Latin America &amp; Caribbean</td>\n",
              "      <td>High income: nonOECD</td>\n",
              "      <td>AW</td>\n",
              "      <td>...</td>\n",
              "      <td>NaN</td>\n",
              "      <td>2010</td>\n",
              "      <td>NaN</td>\n",
              "      <td>NaN</td>\n",
              "      <td>Yes</td>\n",
              "      <td>NaN</td>\n",
              "      <td>NaN</td>\n",
              "      <td>2012.0</td>\n",
              "      <td>NaN</td>\n",
              "      <td>NaN</td>\n",
              "    </tr>\n",
              "    <tr>\n",
              "      <th>1</th>\n",
              "      <td>AFG</td>\n",
              "      <td>Afghanistan</td>\n",
              "      <td>Afghanistan</td>\n",
              "      <td>Islamic State of Afghanistan</td>\n",
              "      <td>AF</td>\n",
              "      <td>Afghan afghani</td>\n",
              "      <td>Fiscal year end: March 20; reporting period fo...</td>\n",
              "      <td>South Asia</td>\n",
              "      <td>Low income</td>\n",
              "      <td>AF</td>\n",
              "      <td>...</td>\n",
              "      <td>General Data Dissemination System (GDDS)</td>\n",
              "      <td>1979</td>\n",
              "      <td>Multiple Indicator Cluster Survey (MICS), 2010/11</td>\n",
              "      <td>Integrated household survey (IHS), 2008</td>\n",
              "      <td>NaN</td>\n",
              "      <td>2013/14</td>\n",
              "      <td>NaN</td>\n",
              "      <td>2012.0</td>\n",
              "      <td>2000</td>\n",
              "      <td>NaN</td>\n",
              "    </tr>\n",
              "    <tr>\n",
              "      <th>2</th>\n",
              "      <td>AGO</td>\n",
              "      <td>Angola</td>\n",
              "      <td>Angola</td>\n",
              "      <td>People's Republic of Angola</td>\n",
              "      <td>AO</td>\n",
              "      <td>Angolan kwanza</td>\n",
              "      <td>April 2013 database update: Based on IMF data,...</td>\n",
              "      <td>Sub-Saharan Africa</td>\n",
              "      <td>Upper middle income</td>\n",
              "      <td>AO</td>\n",
              "      <td>...</td>\n",
              "      <td>General Data Dissemination System (GDDS)</td>\n",
              "      <td>1970</td>\n",
              "      <td>Malaria Indicator Survey (MIS), 2011</td>\n",
              "      <td>Integrated household survey (IHS), 2008</td>\n",
              "      <td>NaN</td>\n",
              "      <td>2015</td>\n",
              "      <td>NaN</td>\n",
              "      <td>NaN</td>\n",
              "      <td>2005</td>\n",
              "      <td>NaN</td>\n",
              "    </tr>\n",
              "    <tr>\n",
              "      <th>3</th>\n",
              "      <td>ALB</td>\n",
              "      <td>Albania</td>\n",
              "      <td>Albania</td>\n",
              "      <td>Republic of Albania</td>\n",
              "      <td>AL</td>\n",
              "      <td>Albanian lek</td>\n",
              "      <td>NaN</td>\n",
              "      <td>Europe &amp; Central Asia</td>\n",
              "      <td>Upper middle income</td>\n",
              "      <td>AL</td>\n",
              "      <td>...</td>\n",
              "      <td>General Data Dissemination System (GDDS)</td>\n",
              "      <td>2011</td>\n",
              "      <td>Demographic and Health Survey (DHS), 2008/09</td>\n",
              "      <td>Living Standards Measurement Study Survey (LSM...</td>\n",
              "      <td>Yes</td>\n",
              "      <td>2012</td>\n",
              "      <td>2010.0</td>\n",
              "      <td>2012.0</td>\n",
              "      <td>2006</td>\n",
              "      <td>NaN</td>\n",
              "    </tr>\n",
              "    <tr>\n",
              "      <th>4</th>\n",
              "      <td>AND</td>\n",
              "      <td>Andorra</td>\n",
              "      <td>Andorra</td>\n",
              "      <td>Principality of Andorra</td>\n",
              "      <td>AD</td>\n",
              "      <td>Euro</td>\n",
              "      <td>NaN</td>\n",
              "      <td>Europe &amp; Central Asia</td>\n",
              "      <td>High income: nonOECD</td>\n",
              "      <td>AD</td>\n",
              "      <td>...</td>\n",
              "      <td>NaN</td>\n",
              "      <td>2011. Population figures compiled from adminis...</td>\n",
              "      <td>NaN</td>\n",
              "      <td>NaN</td>\n",
              "      <td>Yes</td>\n",
              "      <td>NaN</td>\n",
              "      <td>NaN</td>\n",
              "      <td>2006.0</td>\n",
              "      <td>NaN</td>\n",
              "      <td>NaN</td>\n",
              "    </tr>\n",
              "  </tbody>\n",
              "</table>\n",
              "<p>5 rows × 32 columns</p>\n",
              "</div>\n",
              "      <button class=\"colab-df-convert\" onclick=\"convertToInteractive('df-dff39cd5-ee3a-4522-b1f1-6acc4eeea5c4')\"\n",
              "              title=\"Convert this dataframe to an interactive table.\"\n",
              "              style=\"display:none;\">\n",
              "        \n",
              "  <svg xmlns=\"http://www.w3.org/2000/svg\" height=\"24px\"viewBox=\"0 0 24 24\"\n",
              "       width=\"24px\">\n",
              "    <path d=\"M0 0h24v24H0V0z\" fill=\"none\"/>\n",
              "    <path d=\"M18.56 5.44l.94 2.06.94-2.06 2.06-.94-2.06-.94-.94-2.06-.94 2.06-2.06.94zm-11 1L8.5 8.5l.94-2.06 2.06-.94-2.06-.94L8.5 2.5l-.94 2.06-2.06.94zm10 10l.94 2.06.94-2.06 2.06-.94-2.06-.94-.94-2.06-.94 2.06-2.06.94z\"/><path d=\"M17.41 7.96l-1.37-1.37c-.4-.4-.92-.59-1.43-.59-.52 0-1.04.2-1.43.59L10.3 9.45l-7.72 7.72c-.78.78-.78 2.05 0 2.83L4 21.41c.39.39.9.59 1.41.59.51 0 1.02-.2 1.41-.59l7.78-7.78 2.81-2.81c.8-.78.8-2.07 0-2.86zM5.41 20L4 18.59l7.72-7.72 1.47 1.35L5.41 20z\"/>\n",
              "  </svg>\n",
              "      </button>\n",
              "      \n",
              "  <style>\n",
              "    .colab-df-container {\n",
              "      display:flex;\n",
              "      flex-wrap:wrap;\n",
              "      gap: 12px;\n",
              "    }\n",
              "\n",
              "    .colab-df-convert {\n",
              "      background-color: #E8F0FE;\n",
              "      border: none;\n",
              "      border-radius: 50%;\n",
              "      cursor: pointer;\n",
              "      display: none;\n",
              "      fill: #1967D2;\n",
              "      height: 32px;\n",
              "      padding: 0 0 0 0;\n",
              "      width: 32px;\n",
              "    }\n",
              "\n",
              "    .colab-df-convert:hover {\n",
              "      background-color: #E2EBFA;\n",
              "      box-shadow: 0px 1px 2px rgba(60, 64, 67, 0.3), 0px 1px 3px 1px rgba(60, 64, 67, 0.15);\n",
              "      fill: #174EA6;\n",
              "    }\n",
              "\n",
              "    [theme=dark] .colab-df-convert {\n",
              "      background-color: #3B4455;\n",
              "      fill: #D2E3FC;\n",
              "    }\n",
              "\n",
              "    [theme=dark] .colab-df-convert:hover {\n",
              "      background-color: #434B5C;\n",
              "      box-shadow: 0px 1px 3px 1px rgba(0, 0, 0, 0.15);\n",
              "      filter: drop-shadow(0px 1px 2px rgba(0, 0, 0, 0.3));\n",
              "      fill: #FFFFFF;\n",
              "    }\n",
              "  </style>\n",
              "\n",
              "      <script>\n",
              "        const buttonEl =\n",
              "          document.querySelector('#df-dff39cd5-ee3a-4522-b1f1-6acc4eeea5c4 button.colab-df-convert');\n",
              "        buttonEl.style.display =\n",
              "          google.colab.kernel.accessAllowed ? 'block' : 'none';\n",
              "\n",
              "        async function convertToInteractive(key) {\n",
              "          const element = document.querySelector('#df-dff39cd5-ee3a-4522-b1f1-6acc4eeea5c4');\n",
              "          const dataTable =\n",
              "            await google.colab.kernel.invokeFunction('convertToInteractive',\n",
              "                                                     [key], {});\n",
              "          if (!dataTable) return;\n",
              "\n",
              "          const docLinkHtml = 'Like what you see? Visit the ' +\n",
              "            '<a target=\"_blank\" href=https://colab.research.google.com/notebooks/data_table.ipynb>data table notebook</a>'\n",
              "            + ' to learn more about interactive tables.';\n",
              "          element.innerHTML = '';\n",
              "          dataTable['output_type'] = 'display_data';\n",
              "          await google.colab.output.renderOutput(dataTable, element);\n",
              "          const docLink = document.createElement('div');\n",
              "          docLink.innerHTML = docLinkHtml;\n",
              "          element.appendChild(docLink);\n",
              "        }\n",
              "      </script>\n",
              "    </div>\n",
              "  </div>\n",
              "  "
            ]
          },
          "metadata": {},
          "execution_count": 6
        }
      ]
    },
    {
      "cell_type": "code",
      "source": [
        "ed_stats_data.head()"
      ],
      "metadata": {
        "colab": {
          "base_uri": "https://localhost:8080/",
          "height": 236
        },
        "id": "H7CGrZCYIFOa",
        "outputId": "d8ec2daa-5546-453d-9bc3-df674e1416bc"
      },
      "execution_count": null,
      "outputs": [
        {
          "output_type": "execute_result",
          "data": {
            "text/plain": [
              "  Country Name Country Code  \\\n",
              "0   Arab World          ARB   \n",
              "1   Arab World          ARB   \n",
              "2   Arab World          ARB   \n",
              "3   Arab World          ARB   \n",
              "4   Arab World          ARB   \n",
              "\n",
              "                                      Indicator Name  Indicator Code  \\\n",
              "0  Adjusted net enrolment rate, lower secondary, ...      UIS.NERA.2   \n",
              "1  Adjusted net enrolment rate, lower secondary, ...    UIS.NERA.2.F   \n",
              "2  Adjusted net enrolment rate, lower secondary, ...  UIS.NERA.2.GPI   \n",
              "3  Adjusted net enrolment rate, lower secondary, ...    UIS.NERA.2.M   \n",
              "4  Adjusted net enrolment rate, primary, both sex...     SE.PRM.TENR   \n",
              "\n",
              "        1970       1971       1972       1973       1974      1975  ...  2060  \\\n",
              "0        NaN        NaN        NaN        NaN        NaN       NaN  ...   NaN   \n",
              "1        NaN        NaN        NaN        NaN        NaN       NaN  ...   NaN   \n",
              "2        NaN        NaN        NaN        NaN        NaN       NaN  ...   NaN   \n",
              "3        NaN        NaN        NaN        NaN        NaN       NaN  ...   NaN   \n",
              "4  54.822121  54.894138  56.209438  57.267109  57.991138  59.36554  ...   NaN   \n",
              "\n",
              "   2065  2070  2075  2080  2085  2090  2095  2100  Unnamed: 69  \n",
              "0   NaN   NaN   NaN   NaN   NaN   NaN   NaN   NaN          NaN  \n",
              "1   NaN   NaN   NaN   NaN   NaN   NaN   NaN   NaN          NaN  \n",
              "2   NaN   NaN   NaN   NaN   NaN   NaN   NaN   NaN          NaN  \n",
              "3   NaN   NaN   NaN   NaN   NaN   NaN   NaN   NaN          NaN  \n",
              "4   NaN   NaN   NaN   NaN   NaN   NaN   NaN   NaN          NaN  \n",
              "\n",
              "[5 rows x 70 columns]"
            ],
            "text/html": [
              "\n",
              "  <div id=\"df-90a2bb01-e6bb-4f24-a63a-6a812e6b6e5d\">\n",
              "    <div class=\"colab-df-container\">\n",
              "      <div>\n",
              "<style scoped>\n",
              "    .dataframe tbody tr th:only-of-type {\n",
              "        vertical-align: middle;\n",
              "    }\n",
              "\n",
              "    .dataframe tbody tr th {\n",
              "        vertical-align: top;\n",
              "    }\n",
              "\n",
              "    .dataframe thead th {\n",
              "        text-align: right;\n",
              "    }\n",
              "</style>\n",
              "<table border=\"1\" class=\"dataframe\">\n",
              "  <thead>\n",
              "    <tr style=\"text-align: right;\">\n",
              "      <th></th>\n",
              "      <th>Country Name</th>\n",
              "      <th>Country Code</th>\n",
              "      <th>Indicator Name</th>\n",
              "      <th>Indicator Code</th>\n",
              "      <th>1970</th>\n",
              "      <th>1971</th>\n",
              "      <th>1972</th>\n",
              "      <th>1973</th>\n",
              "      <th>1974</th>\n",
              "      <th>1975</th>\n",
              "      <th>...</th>\n",
              "      <th>2060</th>\n",
              "      <th>2065</th>\n",
              "      <th>2070</th>\n",
              "      <th>2075</th>\n",
              "      <th>2080</th>\n",
              "      <th>2085</th>\n",
              "      <th>2090</th>\n",
              "      <th>2095</th>\n",
              "      <th>2100</th>\n",
              "      <th>Unnamed: 69</th>\n",
              "    </tr>\n",
              "  </thead>\n",
              "  <tbody>\n",
              "    <tr>\n",
              "      <th>0</th>\n",
              "      <td>Arab World</td>\n",
              "      <td>ARB</td>\n",
              "      <td>Adjusted net enrolment rate, lower secondary, ...</td>\n",
              "      <td>UIS.NERA.2</td>\n",
              "      <td>NaN</td>\n",
              "      <td>NaN</td>\n",
              "      <td>NaN</td>\n",
              "      <td>NaN</td>\n",
              "      <td>NaN</td>\n",
              "      <td>NaN</td>\n",
              "      <td>...</td>\n",
              "      <td>NaN</td>\n",
              "      <td>NaN</td>\n",
              "      <td>NaN</td>\n",
              "      <td>NaN</td>\n",
              "      <td>NaN</td>\n",
              "      <td>NaN</td>\n",
              "      <td>NaN</td>\n",
              "      <td>NaN</td>\n",
              "      <td>NaN</td>\n",
              "      <td>NaN</td>\n",
              "    </tr>\n",
              "    <tr>\n",
              "      <th>1</th>\n",
              "      <td>Arab World</td>\n",
              "      <td>ARB</td>\n",
              "      <td>Adjusted net enrolment rate, lower secondary, ...</td>\n",
              "      <td>UIS.NERA.2.F</td>\n",
              "      <td>NaN</td>\n",
              "      <td>NaN</td>\n",
              "      <td>NaN</td>\n",
              "      <td>NaN</td>\n",
              "      <td>NaN</td>\n",
              "      <td>NaN</td>\n",
              "      <td>...</td>\n",
              "      <td>NaN</td>\n",
              "      <td>NaN</td>\n",
              "      <td>NaN</td>\n",
              "      <td>NaN</td>\n",
              "      <td>NaN</td>\n",
              "      <td>NaN</td>\n",
              "      <td>NaN</td>\n",
              "      <td>NaN</td>\n",
              "      <td>NaN</td>\n",
              "      <td>NaN</td>\n",
              "    </tr>\n",
              "    <tr>\n",
              "      <th>2</th>\n",
              "      <td>Arab World</td>\n",
              "      <td>ARB</td>\n",
              "      <td>Adjusted net enrolment rate, lower secondary, ...</td>\n",
              "      <td>UIS.NERA.2.GPI</td>\n",
              "      <td>NaN</td>\n",
              "      <td>NaN</td>\n",
              "      <td>NaN</td>\n",
              "      <td>NaN</td>\n",
              "      <td>NaN</td>\n",
              "      <td>NaN</td>\n",
              "      <td>...</td>\n",
              "      <td>NaN</td>\n",
              "      <td>NaN</td>\n",
              "      <td>NaN</td>\n",
              "      <td>NaN</td>\n",
              "      <td>NaN</td>\n",
              "      <td>NaN</td>\n",
              "      <td>NaN</td>\n",
              "      <td>NaN</td>\n",
              "      <td>NaN</td>\n",
              "      <td>NaN</td>\n",
              "    </tr>\n",
              "    <tr>\n",
              "      <th>3</th>\n",
              "      <td>Arab World</td>\n",
              "      <td>ARB</td>\n",
              "      <td>Adjusted net enrolment rate, lower secondary, ...</td>\n",
              "      <td>UIS.NERA.2.M</td>\n",
              "      <td>NaN</td>\n",
              "      <td>NaN</td>\n",
              "      <td>NaN</td>\n",
              "      <td>NaN</td>\n",
              "      <td>NaN</td>\n",
              "      <td>NaN</td>\n",
              "      <td>...</td>\n",
              "      <td>NaN</td>\n",
              "      <td>NaN</td>\n",
              "      <td>NaN</td>\n",
              "      <td>NaN</td>\n",
              "      <td>NaN</td>\n",
              "      <td>NaN</td>\n",
              "      <td>NaN</td>\n",
              "      <td>NaN</td>\n",
              "      <td>NaN</td>\n",
              "      <td>NaN</td>\n",
              "    </tr>\n",
              "    <tr>\n",
              "      <th>4</th>\n",
              "      <td>Arab World</td>\n",
              "      <td>ARB</td>\n",
              "      <td>Adjusted net enrolment rate, primary, both sex...</td>\n",
              "      <td>SE.PRM.TENR</td>\n",
              "      <td>54.822121</td>\n",
              "      <td>54.894138</td>\n",
              "      <td>56.209438</td>\n",
              "      <td>57.267109</td>\n",
              "      <td>57.991138</td>\n",
              "      <td>59.36554</td>\n",
              "      <td>...</td>\n",
              "      <td>NaN</td>\n",
              "      <td>NaN</td>\n",
              "      <td>NaN</td>\n",
              "      <td>NaN</td>\n",
              "      <td>NaN</td>\n",
              "      <td>NaN</td>\n",
              "      <td>NaN</td>\n",
              "      <td>NaN</td>\n",
              "      <td>NaN</td>\n",
              "      <td>NaN</td>\n",
              "    </tr>\n",
              "  </tbody>\n",
              "</table>\n",
              "<p>5 rows × 70 columns</p>\n",
              "</div>\n",
              "      <button class=\"colab-df-convert\" onclick=\"convertToInteractive('df-90a2bb01-e6bb-4f24-a63a-6a812e6b6e5d')\"\n",
              "              title=\"Convert this dataframe to an interactive table.\"\n",
              "              style=\"display:none;\">\n",
              "        \n",
              "  <svg xmlns=\"http://www.w3.org/2000/svg\" height=\"24px\"viewBox=\"0 0 24 24\"\n",
              "       width=\"24px\">\n",
              "    <path d=\"M0 0h24v24H0V0z\" fill=\"none\"/>\n",
              "    <path d=\"M18.56 5.44l.94 2.06.94-2.06 2.06-.94-2.06-.94-.94-2.06-.94 2.06-2.06.94zm-11 1L8.5 8.5l.94-2.06 2.06-.94-2.06-.94L8.5 2.5l-.94 2.06-2.06.94zm10 10l.94 2.06.94-2.06 2.06-.94-2.06-.94-.94-2.06-.94 2.06-2.06.94z\"/><path d=\"M17.41 7.96l-1.37-1.37c-.4-.4-.92-.59-1.43-.59-.52 0-1.04.2-1.43.59L10.3 9.45l-7.72 7.72c-.78.78-.78 2.05 0 2.83L4 21.41c.39.39.9.59 1.41.59.51 0 1.02-.2 1.41-.59l7.78-7.78 2.81-2.81c.8-.78.8-2.07 0-2.86zM5.41 20L4 18.59l7.72-7.72 1.47 1.35L5.41 20z\"/>\n",
              "  </svg>\n",
              "      </button>\n",
              "      \n",
              "  <style>\n",
              "    .colab-df-container {\n",
              "      display:flex;\n",
              "      flex-wrap:wrap;\n",
              "      gap: 12px;\n",
              "    }\n",
              "\n",
              "    .colab-df-convert {\n",
              "      background-color: #E8F0FE;\n",
              "      border: none;\n",
              "      border-radius: 50%;\n",
              "      cursor: pointer;\n",
              "      display: none;\n",
              "      fill: #1967D2;\n",
              "      height: 32px;\n",
              "      padding: 0 0 0 0;\n",
              "      width: 32px;\n",
              "    }\n",
              "\n",
              "    .colab-df-convert:hover {\n",
              "      background-color: #E2EBFA;\n",
              "      box-shadow: 0px 1px 2px rgba(60, 64, 67, 0.3), 0px 1px 3px 1px rgba(60, 64, 67, 0.15);\n",
              "      fill: #174EA6;\n",
              "    }\n",
              "\n",
              "    [theme=dark] .colab-df-convert {\n",
              "      background-color: #3B4455;\n",
              "      fill: #D2E3FC;\n",
              "    }\n",
              "\n",
              "    [theme=dark] .colab-df-convert:hover {\n",
              "      background-color: #434B5C;\n",
              "      box-shadow: 0px 1px 3px 1px rgba(0, 0, 0, 0.15);\n",
              "      filter: drop-shadow(0px 1px 2px rgba(0, 0, 0, 0.3));\n",
              "      fill: #FFFFFF;\n",
              "    }\n",
              "  </style>\n",
              "\n",
              "      <script>\n",
              "        const buttonEl =\n",
              "          document.querySelector('#df-90a2bb01-e6bb-4f24-a63a-6a812e6b6e5d button.colab-df-convert');\n",
              "        buttonEl.style.display =\n",
              "          google.colab.kernel.accessAllowed ? 'block' : 'none';\n",
              "\n",
              "        async function convertToInteractive(key) {\n",
              "          const element = document.querySelector('#df-90a2bb01-e6bb-4f24-a63a-6a812e6b6e5d');\n",
              "          const dataTable =\n",
              "            await google.colab.kernel.invokeFunction('convertToInteractive',\n",
              "                                                     [key], {});\n",
              "          if (!dataTable) return;\n",
              "\n",
              "          const docLinkHtml = 'Like what you see? Visit the ' +\n",
              "            '<a target=\"_blank\" href=https://colab.research.google.com/notebooks/data_table.ipynb>data table notebook</a>'\n",
              "            + ' to learn more about interactive tables.';\n",
              "          element.innerHTML = '';\n",
              "          dataTable['output_type'] = 'display_data';\n",
              "          await google.colab.output.renderOutput(dataTable, element);\n",
              "          const docLink = document.createElement('div');\n",
              "          docLink.innerHTML = docLinkHtml;\n",
              "          element.appendChild(docLink);\n",
              "        }\n",
              "      </script>\n",
              "    </div>\n",
              "  </div>\n",
              "  "
            ]
          },
          "metadata": {},
          "execution_count": 7
        }
      ]
    },
    {
      "cell_type": "code",
      "source": [
        "ed_stats_footnote.head()"
      ],
      "metadata": {
        "colab": {
          "base_uri": "https://localhost:8080/",
          "height": 206
        },
        "id": "pQ2LNJJgIFG-",
        "outputId": "51ad8a3c-7493-4c79-d4ac-884f6c79be98"
      },
      "execution_count": null,
      "outputs": [
        {
          "output_type": "execute_result",
          "data": {
            "text/plain": [
              "  CountryCode      SeriesCode    Year          DESCRIPTION  Unnamed: 4\n",
              "0         ABW  SE.PRE.ENRL.FE  YR2001  Country estimation.         NaN\n",
              "1         ABW  SE.TER.TCHR.FE  YR2005  Country estimation.         NaN\n",
              "2         ABW  SE.PRE.TCHR.FE  YR2000  Country estimation.         NaN\n",
              "3         ABW  SE.SEC.ENRL.GC  YR2004  Country estimation.         NaN\n",
              "4         ABW     SE.PRE.TCHR  YR2006  Country estimation.         NaN"
            ],
            "text/html": [
              "\n",
              "  <div id=\"df-2708df91-dc9b-4b8f-9951-03235a3f3fa3\">\n",
              "    <div class=\"colab-df-container\">\n",
              "      <div>\n",
              "<style scoped>\n",
              "    .dataframe tbody tr th:only-of-type {\n",
              "        vertical-align: middle;\n",
              "    }\n",
              "\n",
              "    .dataframe tbody tr th {\n",
              "        vertical-align: top;\n",
              "    }\n",
              "\n",
              "    .dataframe thead th {\n",
              "        text-align: right;\n",
              "    }\n",
              "</style>\n",
              "<table border=\"1\" class=\"dataframe\">\n",
              "  <thead>\n",
              "    <tr style=\"text-align: right;\">\n",
              "      <th></th>\n",
              "      <th>CountryCode</th>\n",
              "      <th>SeriesCode</th>\n",
              "      <th>Year</th>\n",
              "      <th>DESCRIPTION</th>\n",
              "      <th>Unnamed: 4</th>\n",
              "    </tr>\n",
              "  </thead>\n",
              "  <tbody>\n",
              "    <tr>\n",
              "      <th>0</th>\n",
              "      <td>ABW</td>\n",
              "      <td>SE.PRE.ENRL.FE</td>\n",
              "      <td>YR2001</td>\n",
              "      <td>Country estimation.</td>\n",
              "      <td>NaN</td>\n",
              "    </tr>\n",
              "    <tr>\n",
              "      <th>1</th>\n",
              "      <td>ABW</td>\n",
              "      <td>SE.TER.TCHR.FE</td>\n",
              "      <td>YR2005</td>\n",
              "      <td>Country estimation.</td>\n",
              "      <td>NaN</td>\n",
              "    </tr>\n",
              "    <tr>\n",
              "      <th>2</th>\n",
              "      <td>ABW</td>\n",
              "      <td>SE.PRE.TCHR.FE</td>\n",
              "      <td>YR2000</td>\n",
              "      <td>Country estimation.</td>\n",
              "      <td>NaN</td>\n",
              "    </tr>\n",
              "    <tr>\n",
              "      <th>3</th>\n",
              "      <td>ABW</td>\n",
              "      <td>SE.SEC.ENRL.GC</td>\n",
              "      <td>YR2004</td>\n",
              "      <td>Country estimation.</td>\n",
              "      <td>NaN</td>\n",
              "    </tr>\n",
              "    <tr>\n",
              "      <th>4</th>\n",
              "      <td>ABW</td>\n",
              "      <td>SE.PRE.TCHR</td>\n",
              "      <td>YR2006</td>\n",
              "      <td>Country estimation.</td>\n",
              "      <td>NaN</td>\n",
              "    </tr>\n",
              "  </tbody>\n",
              "</table>\n",
              "</div>\n",
              "      <button class=\"colab-df-convert\" onclick=\"convertToInteractive('df-2708df91-dc9b-4b8f-9951-03235a3f3fa3')\"\n",
              "              title=\"Convert this dataframe to an interactive table.\"\n",
              "              style=\"display:none;\">\n",
              "        \n",
              "  <svg xmlns=\"http://www.w3.org/2000/svg\" height=\"24px\"viewBox=\"0 0 24 24\"\n",
              "       width=\"24px\">\n",
              "    <path d=\"M0 0h24v24H0V0z\" fill=\"none\"/>\n",
              "    <path d=\"M18.56 5.44l.94 2.06.94-2.06 2.06-.94-2.06-.94-.94-2.06-.94 2.06-2.06.94zm-11 1L8.5 8.5l.94-2.06 2.06-.94-2.06-.94L8.5 2.5l-.94 2.06-2.06.94zm10 10l.94 2.06.94-2.06 2.06-.94-2.06-.94-.94-2.06-.94 2.06-2.06.94z\"/><path d=\"M17.41 7.96l-1.37-1.37c-.4-.4-.92-.59-1.43-.59-.52 0-1.04.2-1.43.59L10.3 9.45l-7.72 7.72c-.78.78-.78 2.05 0 2.83L4 21.41c.39.39.9.59 1.41.59.51 0 1.02-.2 1.41-.59l7.78-7.78 2.81-2.81c.8-.78.8-2.07 0-2.86zM5.41 20L4 18.59l7.72-7.72 1.47 1.35L5.41 20z\"/>\n",
              "  </svg>\n",
              "      </button>\n",
              "      \n",
              "  <style>\n",
              "    .colab-df-container {\n",
              "      display:flex;\n",
              "      flex-wrap:wrap;\n",
              "      gap: 12px;\n",
              "    }\n",
              "\n",
              "    .colab-df-convert {\n",
              "      background-color: #E8F0FE;\n",
              "      border: none;\n",
              "      border-radius: 50%;\n",
              "      cursor: pointer;\n",
              "      display: none;\n",
              "      fill: #1967D2;\n",
              "      height: 32px;\n",
              "      padding: 0 0 0 0;\n",
              "      width: 32px;\n",
              "    }\n",
              "\n",
              "    .colab-df-convert:hover {\n",
              "      background-color: #E2EBFA;\n",
              "      box-shadow: 0px 1px 2px rgba(60, 64, 67, 0.3), 0px 1px 3px 1px rgba(60, 64, 67, 0.15);\n",
              "      fill: #174EA6;\n",
              "    }\n",
              "\n",
              "    [theme=dark] .colab-df-convert {\n",
              "      background-color: #3B4455;\n",
              "      fill: #D2E3FC;\n",
              "    }\n",
              "\n",
              "    [theme=dark] .colab-df-convert:hover {\n",
              "      background-color: #434B5C;\n",
              "      box-shadow: 0px 1px 3px 1px rgba(0, 0, 0, 0.15);\n",
              "      filter: drop-shadow(0px 1px 2px rgba(0, 0, 0, 0.3));\n",
              "      fill: #FFFFFF;\n",
              "    }\n",
              "  </style>\n",
              "\n",
              "      <script>\n",
              "        const buttonEl =\n",
              "          document.querySelector('#df-2708df91-dc9b-4b8f-9951-03235a3f3fa3 button.colab-df-convert');\n",
              "        buttonEl.style.display =\n",
              "          google.colab.kernel.accessAllowed ? 'block' : 'none';\n",
              "\n",
              "        async function convertToInteractive(key) {\n",
              "          const element = document.querySelector('#df-2708df91-dc9b-4b8f-9951-03235a3f3fa3');\n",
              "          const dataTable =\n",
              "            await google.colab.kernel.invokeFunction('convertToInteractive',\n",
              "                                                     [key], {});\n",
              "          if (!dataTable) return;\n",
              "\n",
              "          const docLinkHtml = 'Like what you see? Visit the ' +\n",
              "            '<a target=\"_blank\" href=https://colab.research.google.com/notebooks/data_table.ipynb>data table notebook</a>'\n",
              "            + ' to learn more about interactive tables.';\n",
              "          element.innerHTML = '';\n",
              "          dataTable['output_type'] = 'display_data';\n",
              "          await google.colab.output.renderOutput(dataTable, element);\n",
              "          const docLink = document.createElement('div');\n",
              "          docLink.innerHTML = docLinkHtml;\n",
              "          element.appendChild(docLink);\n",
              "        }\n",
              "      </script>\n",
              "    </div>\n",
              "  </div>\n",
              "  "
            ]
          },
          "metadata": {},
          "execution_count": 8
        }
      ]
    },
    {
      "cell_type": "code",
      "source": [
        "ed_stats_Series.head()"
      ],
      "metadata": {
        "colab": {
          "base_uri": "https://localhost:8080/",
          "height": 575
        },
        "id": "3bVnFy9vJIYf",
        "outputId": "84cad4d7-b1c5-4c14-8633-891f166ec934"
      },
      "execution_count": null,
      "outputs": [
        {
          "output_type": "execute_result",
          "data": {
            "text/plain": [
              "           Series Code       Topic  \\\n",
              "0  BAR.NOED.1519.FE.ZS  Attainment   \n",
              "1     BAR.NOED.1519.ZS  Attainment   \n",
              "2  BAR.NOED.15UP.FE.ZS  Attainment   \n",
              "3     BAR.NOED.15UP.ZS  Attainment   \n",
              "4  BAR.NOED.2024.FE.ZS  Attainment   \n",
              "\n",
              "                                      Indicator Name  \\\n",
              "0  Barro-Lee: Percentage of female population age...   \n",
              "1  Barro-Lee: Percentage of population age 15-19 ...   \n",
              "2  Barro-Lee: Percentage of female population age...   \n",
              "3  Barro-Lee: Percentage of population age 15+ wi...   \n",
              "4  Barro-Lee: Percentage of female population age...   \n",
              "\n",
              "                                    Short definition  \\\n",
              "0  Percentage of female population age 15-19 with...   \n",
              "1  Percentage of population age 15-19 with no edu...   \n",
              "2  Percentage of female population age 15+ with n...   \n",
              "3  Percentage of population age 15+ with no educa...   \n",
              "4  Percentage of female population age 20-24 with...   \n",
              "\n",
              "                                     Long definition  Unit of measure  \\\n",
              "0  Percentage of female population age 15-19 with...              NaN   \n",
              "1  Percentage of population age 15-19 with no edu...              NaN   \n",
              "2  Percentage of female population age 15+ with n...              NaN   \n",
              "3  Percentage of population age 15+ with no educa...              NaN   \n",
              "4  Percentage of female population age 20-24 with...              NaN   \n",
              "\n",
              "  Periodicity Base Period Other notes Aggregation method  ...  \\\n",
              "0         NaN         NaN         NaN                NaN  ...   \n",
              "1         NaN         NaN         NaN                NaN  ...   \n",
              "2         NaN         NaN         NaN                NaN  ...   \n",
              "3         NaN         NaN         NaN                NaN  ...   \n",
              "4         NaN         NaN         NaN                NaN  ...   \n",
              "\n",
              "  Notes from original source  General comments  \\\n",
              "0                        NaN               NaN   \n",
              "1                        NaN               NaN   \n",
              "2                        NaN               NaN   \n",
              "3                        NaN               NaN   \n",
              "4                        NaN               NaN   \n",
              "\n",
              "                                              Source  \\\n",
              "0  Robert J. Barro and Jong-Wha Lee: http://www.b...   \n",
              "1  Robert J. Barro and Jong-Wha Lee: http://www.b...   \n",
              "2  Robert J. Barro and Jong-Wha Lee: http://www.b...   \n",
              "3  Robert J. Barro and Jong-Wha Lee: http://www.b...   \n",
              "4  Robert J. Barro and Jong-Wha Lee: http://www.b...   \n",
              "\n",
              "  Statistical concept and methodology Development relevance  \\\n",
              "0                                 NaN                   NaN   \n",
              "1                                 NaN                   NaN   \n",
              "2                                 NaN                   NaN   \n",
              "3                                 NaN                   NaN   \n",
              "4                                 NaN                   NaN   \n",
              "\n",
              "  Related source links Other web links  Related indicators  License Type  \\\n",
              "0                  NaN             NaN                 NaN           NaN   \n",
              "1                  NaN             NaN                 NaN           NaN   \n",
              "2                  NaN             NaN                 NaN           NaN   \n",
              "3                  NaN             NaN                 NaN           NaN   \n",
              "4                  NaN             NaN                 NaN           NaN   \n",
              "\n",
              "   Unnamed: 20  \n",
              "0          NaN  \n",
              "1          NaN  \n",
              "2          NaN  \n",
              "3          NaN  \n",
              "4          NaN  \n",
              "\n",
              "[5 rows x 21 columns]"
            ],
            "text/html": [
              "\n",
              "  <div id=\"df-7248afaf-ab61-4310-a48c-e4322ef6b39b\">\n",
              "    <div class=\"colab-df-container\">\n",
              "      <div>\n",
              "<style scoped>\n",
              "    .dataframe tbody tr th:only-of-type {\n",
              "        vertical-align: middle;\n",
              "    }\n",
              "\n",
              "    .dataframe tbody tr th {\n",
              "        vertical-align: top;\n",
              "    }\n",
              "\n",
              "    .dataframe thead th {\n",
              "        text-align: right;\n",
              "    }\n",
              "</style>\n",
              "<table border=\"1\" class=\"dataframe\">\n",
              "  <thead>\n",
              "    <tr style=\"text-align: right;\">\n",
              "      <th></th>\n",
              "      <th>Series Code</th>\n",
              "      <th>Topic</th>\n",
              "      <th>Indicator Name</th>\n",
              "      <th>Short definition</th>\n",
              "      <th>Long definition</th>\n",
              "      <th>Unit of measure</th>\n",
              "      <th>Periodicity</th>\n",
              "      <th>Base Period</th>\n",
              "      <th>Other notes</th>\n",
              "      <th>Aggregation method</th>\n",
              "      <th>...</th>\n",
              "      <th>Notes from original source</th>\n",
              "      <th>General comments</th>\n",
              "      <th>Source</th>\n",
              "      <th>Statistical concept and methodology</th>\n",
              "      <th>Development relevance</th>\n",
              "      <th>Related source links</th>\n",
              "      <th>Other web links</th>\n",
              "      <th>Related indicators</th>\n",
              "      <th>License Type</th>\n",
              "      <th>Unnamed: 20</th>\n",
              "    </tr>\n",
              "  </thead>\n",
              "  <tbody>\n",
              "    <tr>\n",
              "      <th>0</th>\n",
              "      <td>BAR.NOED.1519.FE.ZS</td>\n",
              "      <td>Attainment</td>\n",
              "      <td>Barro-Lee: Percentage of female population age...</td>\n",
              "      <td>Percentage of female population age 15-19 with...</td>\n",
              "      <td>Percentage of female population age 15-19 with...</td>\n",
              "      <td>NaN</td>\n",
              "      <td>NaN</td>\n",
              "      <td>NaN</td>\n",
              "      <td>NaN</td>\n",
              "      <td>NaN</td>\n",
              "      <td>...</td>\n",
              "      <td>NaN</td>\n",
              "      <td>NaN</td>\n",
              "      <td>Robert J. Barro and Jong-Wha Lee: http://www.b...</td>\n",
              "      <td>NaN</td>\n",
              "      <td>NaN</td>\n",
              "      <td>NaN</td>\n",
              "      <td>NaN</td>\n",
              "      <td>NaN</td>\n",
              "      <td>NaN</td>\n",
              "      <td>NaN</td>\n",
              "    </tr>\n",
              "    <tr>\n",
              "      <th>1</th>\n",
              "      <td>BAR.NOED.1519.ZS</td>\n",
              "      <td>Attainment</td>\n",
              "      <td>Barro-Lee: Percentage of population age 15-19 ...</td>\n",
              "      <td>Percentage of population age 15-19 with no edu...</td>\n",
              "      <td>Percentage of population age 15-19 with no edu...</td>\n",
              "      <td>NaN</td>\n",
              "      <td>NaN</td>\n",
              "      <td>NaN</td>\n",
              "      <td>NaN</td>\n",
              "      <td>NaN</td>\n",
              "      <td>...</td>\n",
              "      <td>NaN</td>\n",
              "      <td>NaN</td>\n",
              "      <td>Robert J. Barro and Jong-Wha Lee: http://www.b...</td>\n",
              "      <td>NaN</td>\n",
              "      <td>NaN</td>\n",
              "      <td>NaN</td>\n",
              "      <td>NaN</td>\n",
              "      <td>NaN</td>\n",
              "      <td>NaN</td>\n",
              "      <td>NaN</td>\n",
              "    </tr>\n",
              "    <tr>\n",
              "      <th>2</th>\n",
              "      <td>BAR.NOED.15UP.FE.ZS</td>\n",
              "      <td>Attainment</td>\n",
              "      <td>Barro-Lee: Percentage of female population age...</td>\n",
              "      <td>Percentage of female population age 15+ with n...</td>\n",
              "      <td>Percentage of female population age 15+ with n...</td>\n",
              "      <td>NaN</td>\n",
              "      <td>NaN</td>\n",
              "      <td>NaN</td>\n",
              "      <td>NaN</td>\n",
              "      <td>NaN</td>\n",
              "      <td>...</td>\n",
              "      <td>NaN</td>\n",
              "      <td>NaN</td>\n",
              "      <td>Robert J. Barro and Jong-Wha Lee: http://www.b...</td>\n",
              "      <td>NaN</td>\n",
              "      <td>NaN</td>\n",
              "      <td>NaN</td>\n",
              "      <td>NaN</td>\n",
              "      <td>NaN</td>\n",
              "      <td>NaN</td>\n",
              "      <td>NaN</td>\n",
              "    </tr>\n",
              "    <tr>\n",
              "      <th>3</th>\n",
              "      <td>BAR.NOED.15UP.ZS</td>\n",
              "      <td>Attainment</td>\n",
              "      <td>Barro-Lee: Percentage of population age 15+ wi...</td>\n",
              "      <td>Percentage of population age 15+ with no educa...</td>\n",
              "      <td>Percentage of population age 15+ with no educa...</td>\n",
              "      <td>NaN</td>\n",
              "      <td>NaN</td>\n",
              "      <td>NaN</td>\n",
              "      <td>NaN</td>\n",
              "      <td>NaN</td>\n",
              "      <td>...</td>\n",
              "      <td>NaN</td>\n",
              "      <td>NaN</td>\n",
              "      <td>Robert J. Barro and Jong-Wha Lee: http://www.b...</td>\n",
              "      <td>NaN</td>\n",
              "      <td>NaN</td>\n",
              "      <td>NaN</td>\n",
              "      <td>NaN</td>\n",
              "      <td>NaN</td>\n",
              "      <td>NaN</td>\n",
              "      <td>NaN</td>\n",
              "    </tr>\n",
              "    <tr>\n",
              "      <th>4</th>\n",
              "      <td>BAR.NOED.2024.FE.ZS</td>\n",
              "      <td>Attainment</td>\n",
              "      <td>Barro-Lee: Percentage of female population age...</td>\n",
              "      <td>Percentage of female population age 20-24 with...</td>\n",
              "      <td>Percentage of female population age 20-24 with...</td>\n",
              "      <td>NaN</td>\n",
              "      <td>NaN</td>\n",
              "      <td>NaN</td>\n",
              "      <td>NaN</td>\n",
              "      <td>NaN</td>\n",
              "      <td>...</td>\n",
              "      <td>NaN</td>\n",
              "      <td>NaN</td>\n",
              "      <td>Robert J. Barro and Jong-Wha Lee: http://www.b...</td>\n",
              "      <td>NaN</td>\n",
              "      <td>NaN</td>\n",
              "      <td>NaN</td>\n",
              "      <td>NaN</td>\n",
              "      <td>NaN</td>\n",
              "      <td>NaN</td>\n",
              "      <td>NaN</td>\n",
              "    </tr>\n",
              "  </tbody>\n",
              "</table>\n",
              "<p>5 rows × 21 columns</p>\n",
              "</div>\n",
              "      <button class=\"colab-df-convert\" onclick=\"convertToInteractive('df-7248afaf-ab61-4310-a48c-e4322ef6b39b')\"\n",
              "              title=\"Convert this dataframe to an interactive table.\"\n",
              "              style=\"display:none;\">\n",
              "        \n",
              "  <svg xmlns=\"http://www.w3.org/2000/svg\" height=\"24px\"viewBox=\"0 0 24 24\"\n",
              "       width=\"24px\">\n",
              "    <path d=\"M0 0h24v24H0V0z\" fill=\"none\"/>\n",
              "    <path d=\"M18.56 5.44l.94 2.06.94-2.06 2.06-.94-2.06-.94-.94-2.06-.94 2.06-2.06.94zm-11 1L8.5 8.5l.94-2.06 2.06-.94-2.06-.94L8.5 2.5l-.94 2.06-2.06.94zm10 10l.94 2.06.94-2.06 2.06-.94-2.06-.94-.94-2.06-.94 2.06-2.06.94z\"/><path d=\"M17.41 7.96l-1.37-1.37c-.4-.4-.92-.59-1.43-.59-.52 0-1.04.2-1.43.59L10.3 9.45l-7.72 7.72c-.78.78-.78 2.05 0 2.83L4 21.41c.39.39.9.59 1.41.59.51 0 1.02-.2 1.41-.59l7.78-7.78 2.81-2.81c.8-.78.8-2.07 0-2.86zM5.41 20L4 18.59l7.72-7.72 1.47 1.35L5.41 20z\"/>\n",
              "  </svg>\n",
              "      </button>\n",
              "      \n",
              "  <style>\n",
              "    .colab-df-container {\n",
              "      display:flex;\n",
              "      flex-wrap:wrap;\n",
              "      gap: 12px;\n",
              "    }\n",
              "\n",
              "    .colab-df-convert {\n",
              "      background-color: #E8F0FE;\n",
              "      border: none;\n",
              "      border-radius: 50%;\n",
              "      cursor: pointer;\n",
              "      display: none;\n",
              "      fill: #1967D2;\n",
              "      height: 32px;\n",
              "      padding: 0 0 0 0;\n",
              "      width: 32px;\n",
              "    }\n",
              "\n",
              "    .colab-df-convert:hover {\n",
              "      background-color: #E2EBFA;\n",
              "      box-shadow: 0px 1px 2px rgba(60, 64, 67, 0.3), 0px 1px 3px 1px rgba(60, 64, 67, 0.15);\n",
              "      fill: #174EA6;\n",
              "    }\n",
              "\n",
              "    [theme=dark] .colab-df-convert {\n",
              "      background-color: #3B4455;\n",
              "      fill: #D2E3FC;\n",
              "    }\n",
              "\n",
              "    [theme=dark] .colab-df-convert:hover {\n",
              "      background-color: #434B5C;\n",
              "      box-shadow: 0px 1px 3px 1px rgba(0, 0, 0, 0.15);\n",
              "      filter: drop-shadow(0px 1px 2px rgba(0, 0, 0, 0.3));\n",
              "      fill: #FFFFFF;\n",
              "    }\n",
              "  </style>\n",
              "\n",
              "      <script>\n",
              "        const buttonEl =\n",
              "          document.querySelector('#df-7248afaf-ab61-4310-a48c-e4322ef6b39b button.colab-df-convert');\n",
              "        buttonEl.style.display =\n",
              "          google.colab.kernel.accessAllowed ? 'block' : 'none';\n",
              "\n",
              "        async function convertToInteractive(key) {\n",
              "          const element = document.querySelector('#df-7248afaf-ab61-4310-a48c-e4322ef6b39b');\n",
              "          const dataTable =\n",
              "            await google.colab.kernel.invokeFunction('convertToInteractive',\n",
              "                                                     [key], {});\n",
              "          if (!dataTable) return;\n",
              "\n",
              "          const docLinkHtml = 'Like what you see? Visit the ' +\n",
              "            '<a target=\"_blank\" href=https://colab.research.google.com/notebooks/data_table.ipynb>data table notebook</a>'\n",
              "            + ' to learn more about interactive tables.';\n",
              "          element.innerHTML = '';\n",
              "          dataTable['output_type'] = 'display_data';\n",
              "          await google.colab.output.renderOutput(dataTable, element);\n",
              "          const docLink = document.createElement('div');\n",
              "          docLink.innerHTML = docLinkHtml;\n",
              "          element.appendChild(docLink);\n",
              "        }\n",
              "      </script>\n",
              "    </div>\n",
              "  </div>\n",
              "  "
            ]
          },
          "metadata": {},
          "execution_count": 9
        }
      ]
    },
    {
      "cell_type": "markdown",
      "source": [
        "### Dataset Rows & Columns count"
      ],
      "metadata": {
        "id": "7hBIi_osiCS2"
      }
    },
    {
      "cell_type": "code",
      "source": [
        "# Dataset Rows & Columns count"
      ],
      "metadata": {
        "id": "Kllu7SJgmLij"
      },
      "execution_count": null,
      "outputs": []
    },
    {
      "cell_type": "code",
      "source": [
        "print(ed_stats_country_series_df.columns)\n",
        "print(ed_stats_country_series_df.shape)"
      ],
      "metadata": {
        "colab": {
          "base_uri": "https://localhost:8080/"
        },
        "id": "oOOuUxnuJbcU",
        "outputId": "328c15ba-359e-4bc5-9741-2e16bbfa5654"
      },
      "execution_count": null,
      "outputs": [
        {
          "output_type": "stream",
          "name": "stdout",
          "text": [
            "Index(['CountryCode', 'SeriesCode', 'DESCRIPTION', 'Unnamed: 3'], dtype='object')\n",
            "(613, 4)\n"
          ]
        }
      ]
    },
    {
      "cell_type": "code",
      "source": [
        "print(ed_stats_country.columns)\n",
        "print(ed_stats_country.shape)"
      ],
      "metadata": {
        "colab": {
          "base_uri": "https://localhost:8080/"
        },
        "id": "CW2mu20vJbZg",
        "outputId": "db523aef-0b22-4c1f-da4e-c8c50eac0382"
      },
      "execution_count": null,
      "outputs": [
        {
          "output_type": "stream",
          "name": "stdout",
          "text": [
            "Index(['Country Code', 'Short Name', 'Table Name', 'Long Name', '2-alpha code',\n",
            "       'Currency Unit', 'Special Notes', 'Region', 'Income Group', 'WB-2 code',\n",
            "       'National accounts base year', 'National accounts reference year',\n",
            "       'SNA price valuation', 'Lending category', 'Other groups',\n",
            "       'System of National Accounts', 'Alternative conversion factor',\n",
            "       'PPP survey year', 'Balance of Payments Manual in use',\n",
            "       'External debt Reporting status', 'System of trade',\n",
            "       'Government Accounting concept', 'IMF data dissemination standard',\n",
            "       'Latest population census', 'Latest household survey',\n",
            "       'Source of most recent Income and expenditure data',\n",
            "       'Vital registration complete', 'Latest agricultural census',\n",
            "       'Latest industrial data', 'Latest trade data',\n",
            "       'Latest water withdrawal data', 'Unnamed: 31'],\n",
            "      dtype='object')\n",
            "(241, 32)\n"
          ]
        }
      ]
    },
    {
      "cell_type": "code",
      "source": [
        "print(ed_stats_data.columns)\n",
        "print(ed_stats_data.shape)"
      ],
      "metadata": {
        "colab": {
          "base_uri": "https://localhost:8080/"
        },
        "id": "88UW5y8_JbWY",
        "outputId": "cb1cae36-36f1-44b2-e6e0-d7a8e0d31763"
      },
      "execution_count": null,
      "outputs": [
        {
          "output_type": "stream",
          "name": "stdout",
          "text": [
            "Index(['Country Name', 'Country Code', 'Indicator Name', 'Indicator Code',\n",
            "       '1970', '1971', '1972', '1973', '1974', '1975', '1976', '1977', '1978',\n",
            "       '1979', '1980', '1981', '1982', '1983', '1984', '1985', '1986', '1987',\n",
            "       '1988', '1989', '1990', '1991', '1992', '1993', '1994', '1995', '1996',\n",
            "       '1997', '1998', '1999', '2000', '2001', '2002', '2003', '2004', '2005',\n",
            "       '2006', '2007', '2008', '2009', '2010', '2011', '2012', '2013', '2014',\n",
            "       '2015', '2016', '2017', '2020', '2025', '2030', '2035', '2040', '2045',\n",
            "       '2050', '2055', '2060', '2065', '2070', '2075', '2080', '2085', '2090',\n",
            "       '2095', '2100', 'Unnamed: 69'],\n",
            "      dtype='object')\n",
            "(886930, 70)\n"
          ]
        }
      ]
    },
    {
      "cell_type": "code",
      "source": [
        "print(ed_stats_footnote.columns) \n",
        "print(ed_stats_footnote.shape) "
      ],
      "metadata": {
        "colab": {
          "base_uri": "https://localhost:8080/"
        },
        "id": "qOlIOnhRJbTP",
        "outputId": "84174e1e-1550-45f4-fa73-35e74afe1056"
      },
      "execution_count": null,
      "outputs": [
        {
          "output_type": "stream",
          "name": "stdout",
          "text": [
            "Index(['CountryCode', 'SeriesCode', 'Year', 'DESCRIPTION', 'Unnamed: 4'], dtype='object')\n",
            "(643638, 5)\n"
          ]
        }
      ]
    },
    {
      "cell_type": "code",
      "source": [
        "print(ed_stats_Series.columns)\n",
        "print(ed_stats_Series.shape)"
      ],
      "metadata": {
        "colab": {
          "base_uri": "https://localhost:8080/"
        },
        "id": "vjlS8071JbQP",
        "outputId": "43fce35a-c28b-4cd8-fca8-b5707cbc7fb0"
      },
      "execution_count": null,
      "outputs": [
        {
          "output_type": "stream",
          "name": "stdout",
          "text": [
            "Index(['Series Code', 'Topic', 'Indicator Name', 'Short definition',\n",
            "       'Long definition', 'Unit of measure', 'Periodicity', 'Base Period',\n",
            "       'Other notes', 'Aggregation method', 'Limitations and exceptions',\n",
            "       'Notes from original source', 'General comments', 'Source',\n",
            "       'Statistical concept and methodology', 'Development relevance',\n",
            "       'Related source links', 'Other web links', 'Related indicators',\n",
            "       'License Type', 'Unnamed: 20'],\n",
            "      dtype='object')\n",
            "(3665, 21)\n"
          ]
        }
      ]
    },
    {
      "cell_type": "markdown",
      "source": [
        "### Dataset Information"
      ],
      "metadata": {
        "id": "JlHwYmJAmNHm"
      }
    },
    {
      "cell_type": "code",
      "source": [
        "# Dataset Info"
      ],
      "metadata": {
        "id": "e9hRXRi6meOf"
      },
      "execution_count": null,
      "outputs": []
    },
    {
      "cell_type": "code",
      "source": [
        "ed_stats_country_series_df.info()"
      ],
      "metadata": {
        "colab": {
          "base_uri": "https://localhost:8080/"
        },
        "id": "68RJhh6iK8QY",
        "outputId": "30124f10-9af9-4403-c5ee-18bebe19c55e"
      },
      "execution_count": null,
      "outputs": [
        {
          "output_type": "stream",
          "name": "stdout",
          "text": [
            "<class 'pandas.core.frame.DataFrame'>\n",
            "RangeIndex: 613 entries, 0 to 612\n",
            "Data columns (total 4 columns):\n",
            " #   Column       Non-Null Count  Dtype  \n",
            "---  ------       --------------  -----  \n",
            " 0   CountryCode  613 non-null    object \n",
            " 1   SeriesCode   613 non-null    object \n",
            " 2   DESCRIPTION  613 non-null    object \n",
            " 3   Unnamed: 3   0 non-null      float64\n",
            "dtypes: float64(1), object(3)\n",
            "memory usage: 19.3+ KB\n"
          ]
        }
      ]
    },
    {
      "cell_type": "code",
      "source": [
        "ed_stats_country.info()"
      ],
      "metadata": {
        "colab": {
          "base_uri": "https://localhost:8080/"
        },
        "id": "ypEByqIUK8IS",
        "outputId": "e9ef4272-4f60-4878-9e57-c113f2ad04bf"
      },
      "execution_count": null,
      "outputs": [
        {
          "output_type": "stream",
          "name": "stdout",
          "text": [
            "<class 'pandas.core.frame.DataFrame'>\n",
            "RangeIndex: 241 entries, 0 to 240\n",
            "Data columns (total 32 columns):\n",
            " #   Column                                             Non-Null Count  Dtype  \n",
            "---  ------                                             --------------  -----  \n",
            " 0   Country Code                                       241 non-null    object \n",
            " 1   Short Name                                         241 non-null    object \n",
            " 2   Table Name                                         241 non-null    object \n",
            " 3   Long Name                                          241 non-null    object \n",
            " 4   2-alpha code                                       238 non-null    object \n",
            " 5   Currency Unit                                      215 non-null    object \n",
            " 6   Special Notes                                      145 non-null    object \n",
            " 7   Region                                             214 non-null    object \n",
            " 8   Income Group                                       214 non-null    object \n",
            " 9   WB-2 code                                          240 non-null    object \n",
            " 10  National accounts base year                        205 non-null    object \n",
            " 11  National accounts reference year                   32 non-null     float64\n",
            " 12  SNA price valuation                                197 non-null    object \n",
            " 13  Lending category                                   144 non-null    object \n",
            " 14  Other groups                                       58 non-null     object \n",
            " 15  System of National Accounts                        215 non-null    object \n",
            " 16  Alternative conversion factor                      47 non-null     object \n",
            " 17  PPP survey year                                    145 non-null    object \n",
            " 18  Balance of Payments Manual in use                  181 non-null    object \n",
            " 19  External debt Reporting status                     124 non-null    object \n",
            " 20  System of trade                                    200 non-null    object \n",
            " 21  Government Accounting concept                      161 non-null    object \n",
            " 22  IMF data dissemination standard                    181 non-null    object \n",
            " 23  Latest population census                           213 non-null    object \n",
            " 24  Latest household survey                            141 non-null    object \n",
            " 25  Source of most recent Income and expenditure data  160 non-null    object \n",
            " 26  Vital registration complete                        111 non-null    object \n",
            " 27  Latest agricultural census                         142 non-null    object \n",
            " 28  Latest industrial data                             107 non-null    float64\n",
            " 29  Latest trade data                                  185 non-null    float64\n",
            " 30  Latest water withdrawal data                       179 non-null    object \n",
            " 31  Unnamed: 31                                        0 non-null      float64\n",
            "dtypes: float64(4), object(28)\n",
            "memory usage: 60.4+ KB\n"
          ]
        }
      ]
    },
    {
      "cell_type": "code",
      "source": [
        "ed_stats_data.info()"
      ],
      "metadata": {
        "colab": {
          "base_uri": "https://localhost:8080/"
        },
        "id": "Lql6rAWuK8Eu",
        "outputId": "bacae3c2-bfbf-4419-93c1-bd40f6142570"
      },
      "execution_count": null,
      "outputs": [
        {
          "output_type": "stream",
          "name": "stdout",
          "text": [
            "<class 'pandas.core.frame.DataFrame'>\n",
            "RangeIndex: 886930 entries, 0 to 886929\n",
            "Data columns (total 70 columns):\n",
            " #   Column          Non-Null Count   Dtype  \n",
            "---  ------          --------------   -----  \n",
            " 0   Country Name    886930 non-null  object \n",
            " 1   Country Code    886930 non-null  object \n",
            " 2   Indicator Name  886930 non-null  object \n",
            " 3   Indicator Code  886930 non-null  object \n",
            " 4   1970            72288 non-null   float64\n",
            " 5   1971            35537 non-null   float64\n",
            " 6   1972            35619 non-null   float64\n",
            " 7   1973            35545 non-null   float64\n",
            " 8   1974            35730 non-null   float64\n",
            " 9   1975            87306 non-null   float64\n",
            " 10  1976            37483 non-null   float64\n",
            " 11  1977            37574 non-null   float64\n",
            " 12  1978            37576 non-null   float64\n",
            " 13  1979            36809 non-null   float64\n",
            " 14  1980            89122 non-null   float64\n",
            " 15  1981            38777 non-null   float64\n",
            " 16  1982            37511 non-null   float64\n",
            " 17  1983            38460 non-null   float64\n",
            " 18  1984            38606 non-null   float64\n",
            " 19  1985            90296 non-null   float64\n",
            " 20  1986            39372 non-null   float64\n",
            " 21  1987            38641 non-null   float64\n",
            " 22  1988            38552 non-null   float64\n",
            " 23  1989            37540 non-null   float64\n",
            " 24  1990            124405 non-null  float64\n",
            " 25  1991            74437 non-null   float64\n",
            " 26  1992            75543 non-null   float64\n",
            " 27  1993            75793 non-null   float64\n",
            " 28  1994            77462 non-null   float64\n",
            " 29  1995            131361 non-null  float64\n",
            " 30  1996            76807 non-null   float64\n",
            " 31  1997            73453 non-null   float64\n",
            " 32  1998            84914 non-null   float64\n",
            " 33  1999            118839 non-null  float64\n",
            " 34  2000            176676 non-null  float64\n",
            " 35  2001            123509 non-null  float64\n",
            " 36  2002            124205 non-null  float64\n",
            " 37  2003            130363 non-null  float64\n",
            " 38  2004            128814 non-null  float64\n",
            " 39  2005            184108 non-null  float64\n",
            " 40  2006            140312 non-null  float64\n",
            " 41  2007            137272 non-null  float64\n",
            " 42  2008            134387 non-null  float64\n",
            " 43  2009            142108 non-null  float64\n",
            " 44  2010            242442 non-null  float64\n",
            " 45  2011            146012 non-null  float64\n",
            " 46  2012            147264 non-null  float64\n",
            " 47  2013            137509 non-null  float64\n",
            " 48  2014            113789 non-null  float64\n",
            " 49  2015            131058 non-null  float64\n",
            " 50  2016            16460 non-null   float64\n",
            " 51  2017            143 non-null     float64\n",
            " 52  2020            51436 non-null   float64\n",
            " 53  2025            51436 non-null   float64\n",
            " 54  2030            51436 non-null   float64\n",
            " 55  2035            51436 non-null   float64\n",
            " 56  2040            51436 non-null   float64\n",
            " 57  2045            51436 non-null   float64\n",
            " 58  2050            51436 non-null   float64\n",
            " 59  2055            51436 non-null   float64\n",
            " 60  2060            51436 non-null   float64\n",
            " 61  2065            51436 non-null   float64\n",
            " 62  2070            51436 non-null   float64\n",
            " 63  2075            51436 non-null   float64\n",
            " 64  2080            51436 non-null   float64\n",
            " 65  2085            51436 non-null   float64\n",
            " 66  2090            51436 non-null   float64\n",
            " 67  2095            51436 non-null   float64\n",
            " 68  2100            51436 non-null   float64\n",
            " 69  Unnamed: 69     0 non-null       float64\n",
            "dtypes: float64(66), object(4)\n",
            "memory usage: 473.7+ MB\n"
          ]
        }
      ]
    },
    {
      "cell_type": "code",
      "source": [
        "ed_stats_footnote.info() "
      ],
      "metadata": {
        "colab": {
          "base_uri": "https://localhost:8080/"
        },
        "id": "Yseg4E30K8Bs",
        "outputId": "29110d77-38df-4432-896a-5c3506541b38"
      },
      "execution_count": null,
      "outputs": [
        {
          "output_type": "stream",
          "name": "stdout",
          "text": [
            "<class 'pandas.core.frame.DataFrame'>\n",
            "RangeIndex: 643638 entries, 0 to 643637\n",
            "Data columns (total 5 columns):\n",
            " #   Column       Non-Null Count   Dtype  \n",
            "---  ------       --------------   -----  \n",
            " 0   CountryCode  643638 non-null  object \n",
            " 1   SeriesCode   643638 non-null  object \n",
            " 2   Year         643638 non-null  object \n",
            " 3   DESCRIPTION  643638 non-null  object \n",
            " 4   Unnamed: 4   0 non-null       float64\n",
            "dtypes: float64(1), object(4)\n",
            "memory usage: 24.6+ MB\n"
          ]
        }
      ]
    },
    {
      "cell_type": "code",
      "source": [
        "ed_stats_Series.info()\n"
      ],
      "metadata": {
        "colab": {
          "base_uri": "https://localhost:8080/"
        },
        "id": "gGGBUxKLK7-c",
        "outputId": "a500ad24-3c93-4b56-909f-0a4e04539861"
      },
      "execution_count": null,
      "outputs": [
        {
          "output_type": "stream",
          "name": "stdout",
          "text": [
            "<class 'pandas.core.frame.DataFrame'>\n",
            "RangeIndex: 3665 entries, 0 to 3664\n",
            "Data columns (total 21 columns):\n",
            " #   Column                               Non-Null Count  Dtype  \n",
            "---  ------                               --------------  -----  \n",
            " 0   Series Code                          3665 non-null   object \n",
            " 1   Topic                                3665 non-null   object \n",
            " 2   Indicator Name                       3665 non-null   object \n",
            " 3   Short definition                     2156 non-null   object \n",
            " 4   Long definition                      3665 non-null   object \n",
            " 5   Unit of measure                      0 non-null      float64\n",
            " 6   Periodicity                          99 non-null     object \n",
            " 7   Base Period                          314 non-null    object \n",
            " 8   Other notes                          552 non-null    object \n",
            " 9   Aggregation method                   47 non-null     object \n",
            " 10  Limitations and exceptions           14 non-null     object \n",
            " 11  Notes from original source           0 non-null      float64\n",
            " 12  General comments                     14 non-null     object \n",
            " 13  Source                               3665 non-null   object \n",
            " 14  Statistical concept and methodology  23 non-null     object \n",
            " 15  Development relevance                3 non-null      object \n",
            " 16  Related source links                 215 non-null    object \n",
            " 17  Other web links                      0 non-null      float64\n",
            " 18  Related indicators                   0 non-null      float64\n",
            " 19  License Type                         0 non-null      float64\n",
            " 20  Unnamed: 20                          0 non-null      float64\n",
            "dtypes: float64(6), object(15)\n",
            "memory usage: 601.4+ KB\n"
          ]
        }
      ]
    },
    {
      "cell_type": "markdown",
      "source": [
        "#### Duplicate Values"
      ],
      "metadata": {
        "id": "35m5QtbWiB9F"
      }
    },
    {
      "cell_type": "code",
      "source": [
        "# Dataset Duplicate Value Count\n",
        "ed_stats_country_series_df['CountryCode'].value_counts()"
      ],
      "metadata": {
        "id": "1sLdpKYkmox0",
        "colab": {
          "base_uri": "https://localhost:8080/"
        },
        "outputId": "0fc96e66-8064-430d-a580-e23e75b9d93b"
      },
      "execution_count": null,
      "outputs": [
        {
          "output_type": "execute_result",
          "data": {
            "text/plain": [
              "MDA    18\n",
              "GEO    18\n",
              "CYP    12\n",
              "SRB    12\n",
              "MUS    12\n",
              "       ..\n",
              "GRL     2\n",
              "GTM     2\n",
              "GUM     2\n",
              "HKG     2\n",
              "ZWE     2\n",
              "Name: CountryCode, Length: 211, dtype: int64"
            ]
          },
          "metadata": {},
          "execution_count": 22
        }
      ]
    },
    {
      "cell_type": "code",
      "source": [
        "# ed_stats_country.groupby('Country Code')['Long Name'].count()\n",
        "ed_stats_country['Country Code'].value_counts()"
      ],
      "metadata": {
        "colab": {
          "base_uri": "https://localhost:8080/"
        },
        "id": "2JSg-1h0Lwc3",
        "outputId": "b16abb34-9ba5-45c9-9e48-3264a468ac63"
      },
      "execution_count": null,
      "outputs": [
        {
          "output_type": "execute_result",
          "data": {
            "text/plain": [
              "ABW    1\n",
              "LCA    1\n",
              "MRT    1\n",
              "MUS    1\n",
              "MWI    1\n",
              "      ..\n",
              "GRL    1\n",
              "GTM    1\n",
              "GUM    1\n",
              "GUY    1\n",
              "ZWE    1\n",
              "Name: Country Code, Length: 241, dtype: int64"
            ]
          },
          "metadata": {},
          "execution_count": 23
        }
      ]
    },
    {
      "cell_type": "code",
      "source": [
        "# ed_stats_data.groupby('Country Code')['Country Name'].count()\n",
        "ed_stats_data['Country Code'].value_counts()"
      ],
      "metadata": {
        "colab": {
          "base_uri": "https://localhost:8080/"
        },
        "id": "sdOwVooELwUu",
        "outputId": "207633ef-6c78-473a-ef1a-cf707e65683c"
      },
      "execution_count": null,
      "outputs": [
        {
          "output_type": "execute_result",
          "data": {
            "text/plain": [
              "ARB    3665\n",
              "PRT    3665\n",
              "FSM    3665\n",
              "MDA    3665\n",
              "MCO    3665\n",
              "       ... \n",
              "GNQ    3665\n",
              "ERI    3665\n",
              "EST    3665\n",
              "ETH    3665\n",
              "ZWE    3665\n",
              "Name: Country Code, Length: 242, dtype: int64"
            ]
          },
          "metadata": {},
          "execution_count": 24
        }
      ]
    },
    {
      "cell_type": "code",
      "source": [
        "# ed_stats_footnote.groupby('CountryCode')['SeriesCode'].count()\n",
        "ed_stats_footnote['CountryCode'].value_counts()"
      ],
      "metadata": {
        "colab": {
          "base_uri": "https://localhost:8080/"
        },
        "id": "jwtIl0UwLwOs",
        "outputId": "8fb78aa3-90fc-4053-e64e-7932051a42a8"
      },
      "execution_count": null,
      "outputs": [
        {
          "output_type": "execute_result",
          "data": {
            "text/plain": [
              "LIC    7320\n",
              "CYP    7183\n",
              "LDC    6481\n",
              "SSA    6389\n",
              "SSF    6336\n",
              "       ... \n",
              "IMN      32\n",
              "CUW      23\n",
              "XKX      12\n",
              "MNP       4\n",
              "FRO       2\n",
              "Name: CountryCode, Length: 239, dtype: int64"
            ]
          },
          "metadata": {},
          "execution_count": 25
        }
      ]
    },
    {
      "cell_type": "code",
      "source": [
        "ed_stats_Series['Series Code'].value_counts()"
      ],
      "metadata": {
        "colab": {
          "base_uri": "https://localhost:8080/"
        },
        "id": "1ML31UhaLwGy",
        "outputId": "279d43ad-c831-45e7-b6bb-f0a63857c29d"
      },
      "execution_count": null,
      "outputs": [
        {
          "output_type": "execute_result",
          "data": {
            "text/plain": [
              "BAR.NOED.1519.FE.ZS            1\n",
              "SP.POP.0710.FE.UN              1\n",
              "SP.POP.0710.TO.UN              1\n",
              "SP.POP.0711.FE.UN              1\n",
              "SP.POP.0711.MA.UN              1\n",
              "                              ..\n",
              "LO.PASEC.MAT5.LO.MA            1\n",
              "LO.PASEC.MAT5.MA               1\n",
              "LO.PASEC.REA.2                 1\n",
              "LO.PASEC.REA.2.FE              1\n",
              "XGDP.56.FSGOV.FDINSTADM.FFD    1\n",
              "Name: Series Code, Length: 3665, dtype: int64"
            ]
          },
          "metadata": {},
          "execution_count": 26
        }
      ]
    },
    {
      "cell_type": "markdown",
      "source": [
        "#### Missing Values/Null Values"
      ],
      "metadata": {
        "id": "PoPl-ycgm1ru"
      }
    },
    {
      "cell_type": "code",
      "source": [
        "# Missing Values/Null Values Count\n",
        "ed_stats_country_series_df.isnull().sum()"
      ],
      "metadata": {
        "id": "GgHWkxvamxVg",
        "colab": {
          "base_uri": "https://localhost:8080/"
        },
        "outputId": "b7d0104d-8091-4a39-ecc2-e53227293c6a"
      },
      "execution_count": null,
      "outputs": [
        {
          "output_type": "execute_result",
          "data": {
            "text/plain": [
              "CountryCode      0\n",
              "SeriesCode       0\n",
              "DESCRIPTION      0\n",
              "Unnamed: 3     613\n",
              "dtype: int64"
            ]
          },
          "metadata": {},
          "execution_count": 27
        }
      ]
    },
    {
      "cell_type": "code",
      "source": [
        "ed_stats_country.isnull().sum()"
      ],
      "metadata": {
        "colab": {
          "base_uri": "https://localhost:8080/"
        },
        "id": "_8h5ZU8ewDhC",
        "outputId": "3f1425c4-6e24-4437-b7b1-7947a0e121ba"
      },
      "execution_count": null,
      "outputs": [
        {
          "output_type": "execute_result",
          "data": {
            "text/plain": [
              "Country Code                                           0\n",
              "Short Name                                             0\n",
              "Table Name                                             0\n",
              "Long Name                                              0\n",
              "2-alpha code                                           3\n",
              "Currency Unit                                         26\n",
              "Special Notes                                         96\n",
              "Region                                                27\n",
              "Income Group                                          27\n",
              "WB-2 code                                              1\n",
              "National accounts base year                           36\n",
              "National accounts reference year                     209\n",
              "SNA price valuation                                   44\n",
              "Lending category                                      97\n",
              "Other groups                                         183\n",
              "System of National Accounts                           26\n",
              "Alternative conversion factor                        194\n",
              "PPP survey year                                       96\n",
              "Balance of Payments Manual in use                     60\n",
              "External debt Reporting status                       117\n",
              "System of trade                                       41\n",
              "Government Accounting concept                         80\n",
              "IMF data dissemination standard                       60\n",
              "Latest population census                              28\n",
              "Latest household survey                              100\n",
              "Source of most recent Income and expenditure data     81\n",
              "Vital registration complete                          130\n",
              "Latest agricultural census                            99\n",
              "Latest industrial data                               134\n",
              "Latest trade data                                     56\n",
              "Latest water withdrawal data                          62\n",
              "Unnamed: 31                                          241\n",
              "dtype: int64"
            ]
          },
          "metadata": {},
          "execution_count": 28
        }
      ]
    },
    {
      "cell_type": "code",
      "source": [
        "ed_stats_data.isnull().sum()"
      ],
      "metadata": {
        "colab": {
          "base_uri": "https://localhost:8080/"
        },
        "id": "Tp0_GEcrwDNx",
        "outputId": "f67ac2bd-1e69-43f5-9f23-55d91e2d5294"
      },
      "execution_count": null,
      "outputs": [
        {
          "output_type": "execute_result",
          "data": {
            "text/plain": [
              "Country Name           0\n",
              "Country Code           0\n",
              "Indicator Name         0\n",
              "Indicator Code         0\n",
              "1970              814642\n",
              "                   ...  \n",
              "2085              835494\n",
              "2090              835494\n",
              "2095              835494\n",
              "2100              835494\n",
              "Unnamed: 69       886930\n",
              "Length: 70, dtype: int64"
            ]
          },
          "metadata": {},
          "execution_count": 29
        }
      ]
    },
    {
      "cell_type": "code",
      "source": [
        "ed_stats_footnote.isnull().sum()"
      ],
      "metadata": {
        "colab": {
          "base_uri": "https://localhost:8080/"
        },
        "id": "9kAdDw10wDKP",
        "outputId": "c46dccac-68cf-4bcc-b427-2f90cc9a916a"
      },
      "execution_count": null,
      "outputs": [
        {
          "output_type": "execute_result",
          "data": {
            "text/plain": [
              "CountryCode         0\n",
              "SeriesCode          0\n",
              "Year                0\n",
              "DESCRIPTION         0\n",
              "Unnamed: 4     643638\n",
              "dtype: int64"
            ]
          },
          "metadata": {},
          "execution_count": 30
        }
      ]
    },
    {
      "cell_type": "code",
      "source": [
        "ed_stats_Series.isnull().sum()"
      ],
      "metadata": {
        "colab": {
          "base_uri": "https://localhost:8080/"
        },
        "id": "eS-Zy2NCwDHI",
        "outputId": "d8231bff-409e-471b-c558-29e79034b4ee"
      },
      "execution_count": null,
      "outputs": [
        {
          "output_type": "execute_result",
          "data": {
            "text/plain": [
              "Series Code                               0\n",
              "Topic                                     0\n",
              "Indicator Name                            0\n",
              "Short definition                       1509\n",
              "Long definition                           0\n",
              "Unit of measure                        3665\n",
              "Periodicity                            3566\n",
              "Base Period                            3351\n",
              "Other notes                            3113\n",
              "Aggregation method                     3618\n",
              "Limitations and exceptions             3651\n",
              "Notes from original source             3665\n",
              "General comments                       3651\n",
              "Source                                    0\n",
              "Statistical concept and methodology    3642\n",
              "Development relevance                  3662\n",
              "Related source links                   3450\n",
              "Other web links                        3665\n",
              "Related indicators                     3665\n",
              "License Type                           3665\n",
              "Unnamed: 20                            3665\n",
              "dtype: int64"
            ]
          },
          "metadata": {},
          "execution_count": 31
        }
      ]
    },
    {
      "cell_type": "code",
      "source": [
        "# Visualizing the missing values\n",
        "import missingno as msno\n",
        "plt.figure(figsize=(10,6))"
      ],
      "metadata": {
        "id": "3q5wnI3om9sJ",
        "colab": {
          "base_uri": "https://localhost:8080/",
          "height": 52
        },
        "outputId": "48a38689-29ec-4663-8cd9-c1c3d6472bf1"
      },
      "execution_count": null,
      "outputs": [
        {
          "output_type": "execute_result",
          "data": {
            "text/plain": [
              "<Figure size 720x432 with 0 Axes>"
            ]
          },
          "metadata": {},
          "execution_count": 32
        },
        {
          "output_type": "display_data",
          "data": {
            "text/plain": [
              "<Figure size 720x432 with 0 Axes>"
            ]
          },
          "metadata": {}
        }
      ]
    },
    {
      "cell_type": "code",
      "source": [
        "msno.bar(ed_stats_country_series_df, figsize=(5,2))"
      ],
      "metadata": {
        "colab": {
          "base_uri": "https://localhost:8080/",
          "height": 290
        },
        "id": "V48prigWxWwA",
        "outputId": "2439e1ae-9b3c-4c1b-ca03-e6fd70a56885"
      },
      "execution_count": null,
      "outputs": [
        {
          "output_type": "execute_result",
          "data": {
            "text/plain": [
              "<matplotlib.axes._subplots.AxesSubplot at 0x7f7097c22820>"
            ]
          },
          "metadata": {},
          "execution_count": 33
        },
        {
          "output_type": "display_data",
          "data": {
            "text/plain": [
              "<Figure size 360x144 with 3 Axes>"
            ],
            "image/png": "[encoded data removed]"
          },
          "metadata": {
            "needs_background": "light"
          }
        }
      ]
    },
    {
      "cell_type": "code",
      "source": [
        "msno.bar(ed_stats_country, figsize = (15,5))"
      ],
      "metadata": {
        "colab": {
          "base_uri": "https://localhost:8080/",
          "height": 674
        },
        "id": "j5QidmbcxWFa",
        "outputId": "bef8c53c-3fa5-4f8c-d424-0445b9d2a122"
      },
      "execution_count": null,
      "outputs": [
        {
          "output_type": "execute_result",
          "data": {
            "text/plain": [
              "<matplotlib.axes._subplots.AxesSubplot at 0x7f709528e310>"
            ]
          },
          "metadata": {},
          "execution_count": 34
        },
        {
          "output_type": "display_data",
          "data": {
            "text/plain": [
              "<Figure size 1080x360 with 3 Axes>"
            ],
            "image/png": "[encoded data removed]"
          },
          "metadata": {
            "needs_background": "light"
          }
        }
      ]
    },
    {
      "cell_type": "code",
      "source": [
        "msno.bar(ed_stats_data, figsize=(25,15))"
      ],
      "metadata": {
        "colab": {
          "base_uri": "https://localhost:8080/",
          "height": 902
        },
        "id": "j5W1JF-QxV-a",
        "outputId": "e8bb8755-04a3-45d2-b1c7-453e46adfdc5"
      },
      "execution_count": null,
      "outputs": [
        {
          "output_type": "execute_result",
          "data": {
            "text/plain": [
              "<matplotlib.axes._subplots.AxesSubplot at 0x7f7094c8adc0>"
            ]
          },
          "metadata": {},
          "execution_count": 35
        },
        {
          "output_type": "display_data",
          "data": {
            "text/plain": [
              "<Figure size 1800x1080 with 3 Axes>"
            ],
            "image/png": "[encoded data removed]"
          },
          "metadata": {
            "needs_background": "light"
          }
        }
      ]
    },
    {
      "cell_type": "code",
      "source": [
        "msno.bar(ed_stats_footnote, figsize = (15,5))"
      ],
      "metadata": {
        "colab": {
          "base_uri": "https://localhost:8080/",
          "height": 475
        },
        "id": "2JMHR1ATxV4T",
        "outputId": "9926d752-55a9-4dc0-e269-c406fbf81d29"
      },
      "execution_count": null,
      "outputs": [
        {
          "output_type": "execute_result",
          "data": {
            "text/plain": [
              "<matplotlib.axes._subplots.AxesSubplot at 0x7f709320da60>"
            ]
          },
          "metadata": {},
          "execution_count": 36
        },
        {
          "output_type": "display_data",
          "data": {
            "text/plain": [
              "<Figure size 1080x360 with 3 Axes>"
            ],
            "image/png": "[encoded data removed]"
          },
          "metadata": {
            "needs_background": "light"
          }
        }
      ]
    },
    {
      "cell_type": "code",
      "source": [
        "msno.bar(ed_stats_Series, figsize=(15,5))"
      ],
      "metadata": {
        "colab": {
          "base_uri": "https://localhost:8080/",
          "height": 592
        },
        "id": "jlw0q7oZxVyn",
        "outputId": "0fbf36d3-5e83-4b8a-8163-adfd49741913"
      },
      "execution_count": null,
      "outputs": [
        {
          "output_type": "execute_result",
          "data": {
            "text/plain": [
              "<matplotlib.axes._subplots.AxesSubplot at 0x7f7093102c10>"
            ]
          },
          "metadata": {},
          "execution_count": 37
        },
        {
          "output_type": "display_data",
          "data": {
            "text/plain": [
              "<Figure size 1080x360 with 3 Axes>"
            ],
            "image/png": "[encoded data removed]"
          },
          "metadata": {
            "needs_background": "light"
          }
        }
      ]
    },
    {
      "cell_type": "markdown",
      "source": [
        "### What did you know about your dataset?"
      ],
      "metadata": {
        "id": "H0kj-8xxnORC"
      }
    },
    {
      "cell_type": "markdown",
      "source": [
        "**From the above exercise, I have come to the following colclusions about our datasets:-.**\n",
        "\n",
        "**EdStatsData:-** This file contains Education Statistics data (from year 1970 to 2100) of all the countries that are World Bank members and this data is dependent on various indicators that resembles various factors that affect the overall Education growth and development of the country. These indicators can be access, availabilty, teachers, expenditures, population, lieracy, assessments etc.\n",
        "\n",
        "**EdStatsCountry:-** This file contains information from census and surveys across various departments, segregated in a country-wise manner.\n",
        "\n",
        "**EdStatsCountry-Series:-** This file contains the Series Code for various indicators, as well as the Data sources from which they have been derived.\n",
        "\n",
        "**EdStatsFootNote:-** This file contains year wise indicator names along with their respective descrption. It tells us the nature of the indicators, if its and estimate value or a percentage distribution etc. \n",
        "\n",
        "**EdStatsSeries:-** This file contains regional learning assessments data(e.g. PISA, TIMSS, PIRLS), equity data from household surveys, and projection/attainment data."
      ],
      "metadata": {
        "id": "gfoNAAC-nUe_"
      }
    },
    {
      "cell_type": "markdown",
      "source": [
        "## ***2. Understanding Your Variables***"
      ],
      "metadata": {
        "id": "nA9Y7ga8ng1Z"
      }
    },
    {
      "cell_type": "code",
      "source": [
        "# Dataset Columns\n",
        "ed_stats_country_series_df.columns"
      ],
      "metadata": {
        "id": "j7xfkqrt5Ag5",
        "colab": {
          "base_uri": "https://localhost:8080/"
        },
        "outputId": "2ad54c19-b75b-4c5a-f7fd-7904a33da34e"
      },
      "execution_count": null,
      "outputs": [
        {
          "output_type": "execute_result",
          "data": {
            "text/plain": [
              "Index(['CountryCode', 'SeriesCode', 'DESCRIPTION', 'Unnamed: 3'], dtype='object')"
            ]
          },
          "metadata": {},
          "execution_count": 38
        }
      ]
    },
    {
      "cell_type": "code",
      "source": [
        "ed_stats_country.columns"
      ],
      "metadata": {
        "colab": {
          "base_uri": "https://localhost:8080/"
        },
        "id": "l3cfyQQ88USP",
        "outputId": "bdeb9403-dcff-491c-b800-55881365e773"
      },
      "execution_count": null,
      "outputs": [
        {
          "output_type": "execute_result",
          "data": {
            "text/plain": [
              "Index(['Country Code', 'Short Name', 'Table Name', 'Long Name', '2-alpha code',\n",
              "       'Currency Unit', 'Special Notes', 'Region', 'Income Group', 'WB-2 code',\n",
              "       'National accounts base year', 'National accounts reference year',\n",
              "       'SNA price valuation', 'Lending category', 'Other groups',\n",
              "       'System of National Accounts', 'Alternative conversion factor',\n",
              "       'PPP survey year', 'Balance of Payments Manual in use',\n",
              "       'External debt Reporting status', 'System of trade',\n",
              "       'Government Accounting concept', 'IMF data dissemination standard',\n",
              "       'Latest population census', 'Latest household survey',\n",
              "       'Source of most recent Income and expenditure data',\n",
              "       'Vital registration complete', 'Latest agricultural census',\n",
              "       'Latest industrial data', 'Latest trade data',\n",
              "       'Latest water withdrawal data', 'Unnamed: 31'],\n",
              "      dtype='object')"
            ]
          },
          "metadata": {},
          "execution_count": 39
        }
      ]
    },
    {
      "cell_type": "code",
      "source": [
        "ed_stats_data.columns"
      ],
      "metadata": {
        "colab": {
          "base_uri": "https://localhost:8080/"
        },
        "id": "clXVYg1r8UH7",
        "outputId": "2f88cb21-9314-453e-dcb2-c887e4fc899a"
      },
      "execution_count": null,
      "outputs": [
        {
          "output_type": "execute_result",
          "data": {
            "text/plain": [
              "Index(['Country Name', 'Country Code', 'Indicator Name', 'Indicator Code',\n",
              "       '1970', '1971', '1972', '1973', '1974', '1975', '1976', '1977', '1978',\n",
              "       '1979', '1980', '1981', '1982', '1983', '1984', '1985', '1986', '1987',\n",
              "       '1988', '1989', '1990', '1991', '1992', '1993', '1994', '1995', '1996',\n",
              "       '1997', '1998', '1999', '2000', '2001', '2002', '2003', '2004', '2005',\n",
              "       '2006', '2007', '2008', '2009', '2010', '2011', '2012', '2013', '2014',\n",
              "       '2015', '2016', '2017', '2020', '2025', '2030', '2035', '2040', '2045',\n",
              "       '2050', '2055', '2060', '2065', '2070', '2075', '2080', '2085', '2090',\n",
              "       '2095', '2100', 'Unnamed: 69'],\n",
              "      dtype='object')"
            ]
          },
          "metadata": {},
          "execution_count": 40
        }
      ]
    },
    {
      "cell_type": "code",
      "source": [
        "ed_stats_footnote.columns"
      ],
      "metadata": {
        "colab": {
          "base_uri": "https://localhost:8080/"
        },
        "id": "MiJ8fxm48TJA",
        "outputId": "d3906d46-d2a8-4ef7-beee-eec3f78b1b0d"
      },
      "execution_count": null,
      "outputs": [
        {
          "output_type": "execute_result",
          "data": {
            "text/plain": [
              "Index(['CountryCode', 'SeriesCode', 'Year', 'DESCRIPTION', 'Unnamed: 4'], dtype='object')"
            ]
          },
          "metadata": {},
          "execution_count": 41
        }
      ]
    },
    {
      "cell_type": "code",
      "source": [
        "ed_stats_Series.columns"
      ],
      "metadata": {
        "colab": {
          "base_uri": "https://localhost:8080/"
        },
        "id": "qYOQWc3x8S_m",
        "outputId": "0b454918-f0de-414a-ef55-b19c42d0f09d"
      },
      "execution_count": null,
      "outputs": [
        {
          "output_type": "execute_result",
          "data": {
            "text/plain": [
              "Index(['Series Code', 'Topic', 'Indicator Name', 'Short definition',\n",
              "       'Long definition', 'Unit of measure', 'Periodicity', 'Base Period',\n",
              "       'Other notes', 'Aggregation method', 'Limitations and exceptions',\n",
              "       'Notes from original source', 'General comments', 'Source',\n",
              "       'Statistical concept and methodology', 'Development relevance',\n",
              "       'Related source links', 'Other web links', 'Related indicators',\n",
              "       'License Type', 'Unnamed: 20'],\n",
              "      dtype='object')"
            ]
          },
          "metadata": {},
          "execution_count": 42
        }
      ]
    },
    {
      "cell_type": "code",
      "source": [
        "# Dataset Describe\n",
        "ed_stats_country_series_df.describe()"
      ],
      "metadata": {
        "id": "DnOaZdaE5Q5t",
        "colab": {
          "base_uri": "https://localhost:8080/",
          "height": 300
        },
        "outputId": "ac7164e4-f4cd-4969-8bb8-43338a9d00fb"
      },
      "execution_count": null,
      "outputs": [
        {
          "output_type": "execute_result",
          "data": {
            "text/plain": [
              "       Unnamed: 3\n",
              "count         0.0\n",
              "mean          NaN\n",
              "std           NaN\n",
              "min           NaN\n",
              "25%           NaN\n",
              "50%           NaN\n",
              "75%           NaN\n",
              "max           NaN"
            ],
            "text/html": [
              "\n",
              "  <div id=\"df-79a9cb81-06d4-4cd0-9c1a-6193c42e02a1\">\n",
              "    <div class=\"colab-df-container\">\n",
              "      <div>\n",
              "<style scoped>\n",
              "    .dataframe tbody tr th:only-of-type {\n",
              "        vertical-align: middle;\n",
              "    }\n",
              "\n",
              "    .dataframe tbody tr th {\n",
              "        vertical-align: top;\n",
              "    }\n",
              "\n",
              "    .dataframe thead th {\n",
              "        text-align: right;\n",
              "    }\n",
              "</style>\n",
              "<table border=\"1\" class=\"dataframe\">\n",
              "  <thead>\n",
              "    <tr style=\"text-align: right;\">\n",
              "      <th></th>\n",
              "      <th>Unnamed: 3</th>\n",
              "    </tr>\n",
              "  </thead>\n",
              "  <tbody>\n",
              "    <tr>\n",
              "      <th>count</th>\n",
              "      <td>0.0</td>\n",
              "    </tr>\n",
              "    <tr>\n",
              "      <th>mean</th>\n",
              "      <td>NaN</td>\n",
              "    </tr>\n",
              "    <tr>\n",
              "      <th>std</th>\n",
              "      <td>NaN</td>\n",
              "    </tr>\n",
              "    <tr>\n",
              "      <th>min</th>\n",
              "      <td>NaN</td>\n",
              "    </tr>\n",
              "    <tr>\n",
              "      <th>25%</th>\n",
              "      <td>NaN</td>\n",
              "    </tr>\n",
              "    <tr>\n",
              "      <th>50%</th>\n",
              "      <td>NaN</td>\n",
              "    </tr>\n",
              "    <tr>\n",
              "      <th>75%</th>\n",
              "      <td>NaN</td>\n",
              "    </tr>\n",
              "    <tr>\n",
              "      <th>max</th>\n",
              "      <td>NaN</td>\n",
              "    </tr>\n",
              "  </tbody>\n",
              "</table>\n",
              "</div>\n",
              "      <button class=\"colab-df-convert\" onclick=\"convertToInteractive('df-79a9cb81-06d4-4cd0-9c1a-6193c42e02a1')\"\n",
              "              title=\"Convert this dataframe to an interactive table.\"\n",
              "              style=\"display:none;\">\n",
              "        \n",
              "  <svg xmlns=\"http://www.w3.org/2000/svg\" height=\"24px\"viewBox=\"0 0 24 24\"\n",
              "       width=\"24px\">\n",
              "    <path d=\"M0 0h24v24H0V0z\" fill=\"none\"/>\n",
              "    <path d=\"M18.56 5.44l.94 2.06.94-2.06 2.06-.94-2.06-.94-.94-2.06-.94 2.06-2.06.94zm-11 1L8.5 8.5l.94-2.06 2.06-.94-2.06-.94L8.5 2.5l-.94 2.06-2.06.94zm10 10l.94 2.06.94-2.06 2.06-.94-2.06-.94-.94-2.06-.94 2.06-2.06.94z\"/><path d=\"M17.41 7.96l-1.37-1.37c-.4-.4-.92-.59-1.43-.59-.52 0-1.04.2-1.43.59L10.3 9.45l-7.72 7.72c-.78.78-.78 2.05 0 2.83L4 21.41c.39.39.9.59 1.41.59.51 0 1.02-.2 1.41-.59l7.78-7.78 2.81-2.81c.8-.78.8-2.07 0-2.86zM5.41 20L4 18.59l7.72-7.72 1.47 1.35L5.41 20z\"/>\n",
              "  </svg>\n",
              "      </button>\n",
              "      \n",
              "  <style>\n",
              "    .colab-df-container {\n",
              "      display:flex;\n",
              "      flex-wrap:wrap;\n",
              "      gap: 12px;\n",
              "    }\n",
              "\n",
              "    .colab-df-convert {\n",
              "      background-color: #E8F0FE;\n",
              "      border: none;\n",
              "      border-radius: 50%;\n",
              "      cursor: pointer;\n",
              "      display: none;\n",
              "      fill: #1967D2;\n",
              "      height: 32px;\n",
              "      padding: 0 0 0 0;\n",
              "      width: 32px;\n",
              "    }\n",
              "\n",
              "    .colab-df-convert:hover {\n",
              "      background-color: #E2EBFA;\n",
              "      box-shadow: 0px 1px 2px rgba(60, 64, 67, 0.3), 0px 1px 3px 1px rgba(60, 64, 67, 0.15);\n",
              "      fill: #174EA6;\n",
              "    }\n",
              "\n",
              "    [theme=dark] .colab-df-convert {\n",
              "      background-color: #3B4455;\n",
              "      fill: #D2E3FC;\n",
              "    }\n",
              "\n",
              "    [theme=dark] .colab-df-convert:hover {\n",
              "      background-color: #434B5C;\n",
              "      box-shadow: 0px 1px 3px 1px rgba(0, 0, 0, 0.15);\n",
              "      filter: drop-shadow(0px 1px 2px rgba(0, 0, 0, 0.3));\n",
              "      fill: #FFFFFF;\n",
              "    }\n",
              "  </style>\n",
              "\n",
              "      <script>\n",
              "        const buttonEl =\n",
              "          document.querySelector('#df-79a9cb81-06d4-4cd0-9c1a-6193c42e02a1 button.colab-df-convert');\n",
              "        buttonEl.style.display =\n",
              "          google.colab.kernel.accessAllowed ? 'block' : 'none';\n",
              "\n",
              "        async function convertToInteractive(key) {\n",
              "          const element = document.querySelector('#df-79a9cb81-06d4-4cd0-9c1a-6193c42e02a1');\n",
              "          const dataTable =\n",
              "            await google.colab.kernel.invokeFunction('convertToInteractive',\n",
              "                                                     [key], {});\n",
              "          if (!dataTable) return;\n",
              "\n",
              "          const docLinkHtml = 'Like what you see? Visit the ' +\n",
              "            '<a target=\"_blank\" href=https://colab.research.google.com/notebooks/data_table.ipynb>data table notebook</a>'\n",
              "            + ' to learn more about interactive tables.';\n",
              "          element.innerHTML = '';\n",
              "          dataTable['output_type'] = 'display_data';\n",
              "          await google.colab.output.renderOutput(dataTable, element);\n",
              "          const docLink = document.createElement('div');\n",
              "          docLink.innerHTML = docLinkHtml;\n",
              "          element.appendChild(docLink);\n",
              "        }\n",
              "      </script>\n",
              "    </div>\n",
              "  </div>\n",
              "  "
            ]
          },
          "metadata": {},
          "execution_count": 43
        }
      ]
    },
    {
      "cell_type": "code",
      "source": [
        "ed_stats_country.describe()"
      ],
      "metadata": {
        "colab": {
          "base_uri": "https://localhost:8080/",
          "height": 300
        },
        "id": "CewBca6v8VCN",
        "outputId": "e1f8aa24-42ab-41e0-a8b4-f63e04855cbf"
      },
      "execution_count": null,
      "outputs": [
        {
          "output_type": "execute_result",
          "data": {
            "text/plain": [
              "       National accounts reference year  Latest industrial data  \\\n",
              "count                          32.00000              107.000000   \n",
              "mean                         2001.53125             2008.102804   \n",
              "std                             5.24856                2.616834   \n",
              "min                          1987.00000             2000.000000   \n",
              "25%                          1996.75000             2007.500000   \n",
              "50%                          2002.00000             2009.000000   \n",
              "75%                          2005.00000             2010.000000   \n",
              "max                          2012.00000             2010.000000   \n",
              "\n",
              "       Latest trade data  Unnamed: 31  \n",
              "count         185.000000          0.0  \n",
              "mean         2010.994595          NaN  \n",
              "std             2.569675          NaN  \n",
              "min          1995.000000          NaN  \n",
              "25%          2011.000000          NaN  \n",
              "50%          2012.000000          NaN  \n",
              "75%          2012.000000          NaN  \n",
              "max          2012.000000          NaN  "
            ],
            "text/html": [
              "\n",
              "  <div id=\"df-cf59a421-e190-4205-91a4-10300ef9f063\">\n",
              "    <div class=\"colab-df-container\">\n",
              "      <div>\n",
              "<style scoped>\n",
              "    .dataframe tbody tr th:only-of-type {\n",
              "        vertical-align: middle;\n",
              "    }\n",
              "\n",
              "    .dataframe tbody tr th {\n",
              "        vertical-align: top;\n",
              "    }\n",
              "\n",
              "    .dataframe thead th {\n",
              "        text-align: right;\n",
              "    }\n",
              "</style>\n",
              "<table border=\"1\" class=\"dataframe\">\n",
              "  <thead>\n",
              "    <tr style=\"text-align: right;\">\n",
              "      <th></th>\n",
              "      <th>National accounts reference year</th>\n",
              "      <th>Latest industrial data</th>\n",
              "      <th>Latest trade data</th>\n",
              "      <th>Unnamed: 31</th>\n",
              "    </tr>\n",
              "  </thead>\n",
              "  <tbody>\n",
              "    <tr>\n",
              "      <th>count</th>\n",
              "      <td>32.00000</td>\n",
              "      <td>107.000000</td>\n",
              "      <td>185.000000</td>\n",
              "      <td>0.0</td>\n",
              "    </tr>\n",
              "    <tr>\n",
              "      <th>mean</th>\n",
              "      <td>2001.53125</td>\n",
              "      <td>2008.102804</td>\n",
              "      <td>2010.994595</td>\n",
              "      <td>NaN</td>\n",
              "    </tr>\n",
              "    <tr>\n",
              "      <th>std</th>\n",
              "      <td>5.24856</td>\n",
              "      <td>2.616834</td>\n",
              "      <td>2.569675</td>\n",
              "      <td>NaN</td>\n",
              "    </tr>\n",
              "    <tr>\n",
              "      <th>min</th>\n",
              "      <td>1987.00000</td>\n",
              "      <td>2000.000000</td>\n",
              "      <td>1995.000000</td>\n",
              "      <td>NaN</td>\n",
              "    </tr>\n",
              "    <tr>\n",
              "      <th>25%</th>\n",
              "      <td>1996.75000</td>\n",
              "      <td>2007.500000</td>\n",
              "      <td>2011.000000</td>\n",
              "      <td>NaN</td>\n",
              "    </tr>\n",
              "    <tr>\n",
              "      <th>50%</th>\n",
              "      <td>2002.00000</td>\n",
              "      <td>2009.000000</td>\n",
              "      <td>2012.000000</td>\n",
              "      <td>NaN</td>\n",
              "    </tr>\n",
              "    <tr>\n",
              "      <th>75%</th>\n",
              "      <td>2005.00000</td>\n",
              "      <td>2010.000000</td>\n",
              "      <td>2012.000000</td>\n",
              "      <td>NaN</td>\n",
              "    </tr>\n",
              "    <tr>\n",
              "      <th>max</th>\n",
              "      <td>2012.00000</td>\n",
              "      <td>2010.000000</td>\n",
              "      <td>2012.000000</td>\n",
              "      <td>NaN</td>\n",
              "    </tr>\n",
              "  </tbody>\n",
              "</table>\n",
              "</div>\n",
              "      <button class=\"colab-df-convert\" onclick=\"convertToInteractive('df-cf59a421-e190-4205-91a4-10300ef9f063')\"\n",
              "              title=\"Convert this dataframe to an interactive table.\"\n",
              "              style=\"display:none;\">\n",
              "        \n",
              "  <svg xmlns=\"http://www.w3.org/2000/svg\" height=\"24px\"viewBox=\"0 0 24 24\"\n",
              "       width=\"24px\">\n",
              "    <path d=\"M0 0h24v24H0V0z\" fill=\"none\"/>\n",
              "    <path d=\"M18.56 5.44l.94 2.06.94-2.06 2.06-.94-2.06-.94-.94-2.06-.94 2.06-2.06.94zm-11 1L8.5 8.5l.94-2.06 2.06-.94-2.06-.94L8.5 2.5l-.94 2.06-2.06.94zm10 10l.94 2.06.94-2.06 2.06-.94-2.06-.94-.94-2.06-.94 2.06-2.06.94z\"/><path d=\"M17.41 7.96l-1.37-1.37c-.4-.4-.92-.59-1.43-.59-.52 0-1.04.2-1.43.59L10.3 9.45l-7.72 7.72c-.78.78-.78 2.05 0 2.83L4 21.41c.39.39.9.59 1.41.59.51 0 1.02-.2 1.41-.59l7.78-7.78 2.81-2.81c.8-.78.8-2.07 0-2.86zM5.41 20L4 18.59l7.72-7.72 1.47 1.35L5.41 20z\"/>\n",
              "  </svg>\n",
              "      </button>\n",
              "      \n",
              "  <style>\n",
              "    .colab-df-container {\n",
              "      display:flex;\n",
              "      flex-wrap:wrap;\n",
              "      gap: 12px;\n",
              "    }\n",
              "\n",
              "    .colab-df-convert {\n",
              "      background-color: #E8F0FE;\n",
              "      border: none;\n",
              "      border-radius: 50%;\n",
              "      cursor: pointer;\n",
              "      display: none;\n",
              "      fill: #1967D2;\n",
              "      height: 32px;\n",
              "      padding: 0 0 0 0;\n",
              "      width: 32px;\n",
              "    }\n",
              "\n",
              "    .colab-df-convert:hover {\n",
              "      background-color: #E2EBFA;\n",
              "      box-shadow: 0px 1px 2px rgba(60, 64, 67, 0.3), 0px 1px 3px 1px rgba(60, 64, 67, 0.15);\n",
              "      fill: #174EA6;\n",
              "    }\n",
              "\n",
              "    [theme=dark] .colab-df-convert {\n",
              "      background-color: #3B4455;\n",
              "      fill: #D2E3FC;\n",
              "    }\n",
              "\n",
              "    [theme=dark] .colab-df-convert:hover {\n",
              "      background-color: #434B5C;\n",
              "      box-shadow: 0px 1px 3px 1px rgba(0, 0, 0, 0.15);\n",
              "      filter: drop-shadow(0px 1px 2px rgba(0, 0, 0, 0.3));\n",
              "      fill: #FFFFFF;\n",
              "    }\n",
              "  </style>\n",
              "\n",
              "      <script>\n",
              "        const buttonEl =\n",
              "          document.querySelector('#df-cf59a421-e190-4205-91a4-10300ef9f063 button.colab-df-convert');\n",
              "        buttonEl.style.display =\n",
              "          google.colab.kernel.accessAllowed ? 'block' : 'none';\n",
              "\n",
              "        async function convertToInteractive(key) {\n",
              "          const element = document.querySelector('#df-cf59a421-e190-4205-91a4-10300ef9f063');\n",
              "          const dataTable =\n",
              "            await google.colab.kernel.invokeFunction('convertToInteractive',\n",
              "                                                     [key], {});\n",
              "          if (!dataTable) return;\n",
              "\n",
              "          const docLinkHtml = 'Like what you see? Visit the ' +\n",
              "            '<a target=\"_blank\" href=https://colab.research.google.com/notebooks/data_table.ipynb>data table notebook</a>'\n",
              "            + ' to learn more about interactive tables.';\n",
              "          element.innerHTML = '';\n",
              "          dataTable['output_type'] = 'display_data';\n",
              "          await google.colab.output.renderOutput(dataTable, element);\n",
              "          const docLink = document.createElement('div');\n",
              "          docLink.innerHTML = docLinkHtml;\n",
              "          element.appendChild(docLink);\n",
              "        }\n",
              "      </script>\n",
              "    </div>\n",
              "  </div>\n",
              "  "
            ]
          },
          "metadata": {},
          "execution_count": 44
        }
      ]
    },
    {
      "cell_type": "code",
      "source": [
        "ed_stats_data.describe()"
      ],
      "metadata": {
        "colab": {
          "base_uri": "https://localhost:8080/",
          "height": 428
        },
        "id": "t_-iqda-8U6u",
        "outputId": "7a754d9b-2e6f-4789-e441-63e10730e286"
      },
      "execution_count": null,
      "outputs": [
        {
          "output_type": "execute_result",
          "data": {
            "text/plain": [
              "               1970          1971          1972          1973          1974  \\\n",
              "count  7.228800e+04  3.553700e+04  3.561900e+04  3.554500e+04  3.573000e+04   \n",
              "mean   1.974772e+09  4.253638e+09  4.592365e+09  5.105006e+09  5.401493e+09   \n",
              "std    1.211687e+11  1.804814e+11  1.914083e+11  2.059170e+11  2.112150e+11   \n",
              "min   -1.435564e+00 -1.594625e+00 -3.056522e+00 -4.032582e+00 -4.213563e+00   \n",
              "25%    8.900000e-01  8.853210e+00  9.240920e+00  9.595200e+00  9.861595e+00   \n",
              "50%    6.317724e+00  6.316240e+01  6.655139e+01  6.969595e+01  7.087760e+01   \n",
              "75%    6.251250e+01  5.655200e+04  5.863650e+04  6.202900e+04  6.383675e+04   \n",
              "max    1.903929e+13  1.986457e+13  2.100916e+13  2.238367e+13  2.282991e+13   \n",
              "\n",
              "               1975          1976          1977          1978          1979  \\\n",
              "count  8.730600e+04  3.748300e+04  3.757400e+04  3.757600e+04  3.680900e+04   \n",
              "mean   2.314288e+09  5.731808e+09  6.124437e+09  6.671489e+09  7.436724e+09   \n",
              "std    1.375059e+11  2.215546e+11  2.325489e+11  2.473986e+11  2.660957e+11   \n",
              "min   -3.658569e+00 -2.950945e+00 -3.174870e+00 -3.558749e+00 -2.973612e+00   \n",
              "25%    1.400000e+00  9.312615e+00  9.519913e+00  1.000000e+01  1.000000e+01   \n",
              "50%    9.677420e+00  7.101590e+01  7.133326e+01  7.290512e+01  7.510173e+01   \n",
              "75%    7.854163e+01  5.682800e+04  5.739175e+04  5.940425e+04  6.411500e+04   \n",
              "max    2.300634e+13  2.424128e+13  2.521383e+13  2.622101e+13  2.730873e+13   \n",
              "\n",
              "       ...          2060          2065          2070          2075  \\\n",
              "count  ...  5.143600e+04  5.143600e+04  5.143600e+04  5.143600e+04   \n",
              "mean   ...  7.224868e+02  7.271290e+02  7.283779e+02  7.266484e+02   \n",
              "std    ...  2.215845e+04  2.287990e+04  2.352338e+04  2.408149e+04   \n",
              "min    ... -1.630000e+00 -1.440000e+00 -1.260000e+00 -1.090000e+00   \n",
              "25%    ...  3.000000e-02  3.000000e-02  2.000000e-02  2.000000e-02   \n",
              "50%    ...  2.300000e-01  2.300000e-01  2.300000e-01  2.300000e-01   \n",
              "75%    ...  7.505000e+00  7.500000e+00  7.300000e+00  7.100000e+00   \n",
              "max    ...  2.951569e+06  3.070879e+06  3.169711e+06  3.246239e+06   \n",
              "\n",
              "               2080          2085          2090          2095          2100  \\\n",
              "count  5.143600e+04  5.143600e+04  5.143600e+04  5.143600e+04  5.143600e+04   \n",
              "mean   7.228327e+02  7.176899e+02  7.113072e+02  7.034274e+02  6.940296e+02   \n",
              "std    2.455897e+04  2.496587e+04  2.530183e+04  2.556069e+04  2.574189e+04   \n",
              "min   -9.200000e-01 -7.800000e-01 -6.500000e-01 -5.500000e-01 -4.500000e-01   \n",
              "25%    1.000000e-02  1.000000e-02  1.000000e-02  1.000000e-02  1.000000e-02   \n",
              "50%    2.300000e-01  2.300000e-01  2.300000e-01  2.300000e-01  2.200000e-01   \n",
              "75%    6.722500e+00  6.080000e+00  5.462500e+00  4.680000e+00  4.032500e+00   \n",
              "max    3.301586e+06  3.337871e+06  3.354746e+06  3.351887e+06  3.330484e+06   \n",
              "\n",
              "       Unnamed: 69  \n",
              "count          0.0  \n",
              "mean           NaN  \n",
              "std            NaN  \n",
              "min            NaN  \n",
              "25%            NaN  \n",
              "50%            NaN  \n",
              "75%            NaN  \n",
              "max            NaN  \n",
              "\n",
              "[8 rows x 66 columns]"
            ],
            "text/html": [
              "\n",
              "  <div id=\"df-8322bd1f-fdd0-425a-bfb1-0214b4eb15f5\">\n",
              "    <div class=\"colab-df-container\">\n",
              "      <div>\n",
              "<style scoped>\n",
              "    .dataframe tbody tr th:only-of-type {\n",
              "        vertical-align: middle;\n",
              "    }\n",
              "\n",
              "    .dataframe tbody tr th {\n",
              "        vertical-align: top;\n",
              "    }\n",
              "\n",
              "    .dataframe thead th {\n",
              "        text-align: right;\n",
              "    }\n",
              "</style>\n",
              "<table border=\"1\" class=\"dataframe\">\n",
              "  <thead>\n",
              "    <tr style=\"text-align: right;\">\n",
              "      <th></th>\n",
              "      <th>1970</th>\n",
              "      <th>1971</th>\n",
              "      <th>1972</th>\n",
              "      <th>1973</th>\n",
              "      <th>1974</th>\n",
              "      <th>1975</th>\n",
              "      <th>1976</th>\n",
              "      <th>1977</th>\n",
              "      <th>1978</th>\n",
              "      <th>1979</th>\n",
              "      <th>...</th>\n",
              "      <th>2060</th>\n",
              "      <th>2065</th>\n",
              "      <th>2070</th>\n",
              "      <th>2075</th>\n",
              "      <th>2080</th>\n",
              "      <th>2085</th>\n",
              "      <th>2090</th>\n",
              "      <th>2095</th>\n",
              "      <th>2100</th>\n",
              "      <th>Unnamed: 69</th>\n",
              "    </tr>\n",
              "  </thead>\n",
              "  <tbody>\n",
              "    <tr>\n",
              "      <th>count</th>\n",
              "      <td>7.228800e+04</td>\n",
              "      <td>3.553700e+04</td>\n",
              "      <td>3.561900e+04</td>\n",
              "      <td>3.554500e+04</td>\n",
              "      <td>3.573000e+04</td>\n",
              "      <td>8.730600e+04</td>\n",
              "      <td>3.748300e+04</td>\n",
              "      <td>3.757400e+04</td>\n",
              "      <td>3.757600e+04</td>\n",
              "      <td>3.680900e+04</td>\n",
              "      <td>...</td>\n",
              "      <td>5.143600e+04</td>\n",
              "      <td>5.143600e+04</td>\n",
              "      <td>5.143600e+04</td>\n",
              "      <td>5.143600e+04</td>\n",
              "      <td>5.143600e+04</td>\n",
              "      <td>5.143600e+04</td>\n",
              "      <td>5.143600e+04</td>\n",
              "      <td>5.143600e+04</td>\n",
              "      <td>5.143600e+04</td>\n",
              "      <td>0.0</td>\n",
              "    </tr>\n",
              "    <tr>\n",
              "      <th>mean</th>\n",
              "      <td>1.974772e+09</td>\n",
              "      <td>4.253638e+09</td>\n",
              "      <td>4.592365e+09</td>\n",
              "      <td>5.105006e+09</td>\n",
              "      <td>5.401493e+09</td>\n",
              "      <td>2.314288e+09</td>\n",
              "      <td>5.731808e+09</td>\n",
              "      <td>6.124437e+09</td>\n",
              "      <td>6.671489e+09</td>\n",
              "      <td>7.436724e+09</td>\n",
              "      <td>...</td>\n",
              "      <td>7.224868e+02</td>\n",
              "      <td>7.271290e+02</td>\n",
              "      <td>7.283779e+02</td>\n",
              "      <td>7.266484e+02</td>\n",
              "      <td>7.228327e+02</td>\n",
              "      <td>7.176899e+02</td>\n",
              "      <td>7.113072e+02</td>\n",
              "      <td>7.034274e+02</td>\n",
              "      <td>6.940296e+02</td>\n",
              "      <td>NaN</td>\n",
              "    </tr>\n",
              "    <tr>\n",
              "      <th>std</th>\n",
              "      <td>1.211687e+11</td>\n",
              "      <td>1.804814e+11</td>\n",
              "      <td>1.914083e+11</td>\n",
              "      <td>2.059170e+11</td>\n",
              "      <td>2.112150e+11</td>\n",
              "      <td>1.375059e+11</td>\n",
              "      <td>2.215546e+11</td>\n",
              "      <td>2.325489e+11</td>\n",
              "      <td>2.473986e+11</td>\n",
              "      <td>2.660957e+11</td>\n",
              "      <td>...</td>\n",
              "      <td>2.215845e+04</td>\n",
              "      <td>2.287990e+04</td>\n",
              "      <td>2.352338e+04</td>\n",
              "      <td>2.408149e+04</td>\n",
              "      <td>2.455897e+04</td>\n",
              "      <td>2.496587e+04</td>\n",
              "      <td>2.530183e+04</td>\n",
              "      <td>2.556069e+04</td>\n",
              "      <td>2.574189e+04</td>\n",
              "      <td>NaN</td>\n",
              "    </tr>\n",
              "    <tr>\n",
              "      <th>min</th>\n",
              "      <td>-1.435564e+00</td>\n",
              "      <td>-1.594625e+00</td>\n",
              "      <td>-3.056522e+00</td>\n",
              "      <td>-4.032582e+00</td>\n",
              "      <td>-4.213563e+00</td>\n",
              "      <td>-3.658569e+00</td>\n",
              "      <td>-2.950945e+00</td>\n",
              "      <td>-3.174870e+00</td>\n",
              "      <td>-3.558749e+00</td>\n",
              "      <td>-2.973612e+00</td>\n",
              "      <td>...</td>\n",
              "      <td>-1.630000e+00</td>\n",
              "      <td>-1.440000e+00</td>\n",
              "      <td>-1.260000e+00</td>\n",
              "      <td>-1.090000e+00</td>\n",
              "      <td>-9.200000e-01</td>\n",
              "      <td>-7.800000e-01</td>\n",
              "      <td>-6.500000e-01</td>\n",
              "      <td>-5.500000e-01</td>\n",
              "      <td>-4.500000e-01</td>\n",
              "      <td>NaN</td>\n",
              "    </tr>\n",
              "    <tr>\n",
              "      <th>25%</th>\n",
              "      <td>8.900000e-01</td>\n",
              "      <td>8.853210e+00</td>\n",
              "      <td>9.240920e+00</td>\n",
              "      <td>9.595200e+00</td>\n",
              "      <td>9.861595e+00</td>\n",
              "      <td>1.400000e+00</td>\n",
              "      <td>9.312615e+00</td>\n",
              "      <td>9.519913e+00</td>\n",
              "      <td>1.000000e+01</td>\n",
              "      <td>1.000000e+01</td>\n",
              "      <td>...</td>\n",
              "      <td>3.000000e-02</td>\n",
              "      <td>3.000000e-02</td>\n",
              "      <td>2.000000e-02</td>\n",
              "      <td>2.000000e-02</td>\n",
              "      <td>1.000000e-02</td>\n",
              "      <td>1.000000e-02</td>\n",
              "      <td>1.000000e-02</td>\n",
              "      <td>1.000000e-02</td>\n",
              "      <td>1.000000e-02</td>\n",
              "      <td>NaN</td>\n",
              "    </tr>\n",
              "    <tr>\n",
              "      <th>50%</th>\n",
              "      <td>6.317724e+00</td>\n",
              "      <td>6.316240e+01</td>\n",
              "      <td>6.655139e+01</td>\n",
              "      <td>6.969595e+01</td>\n",
              "      <td>7.087760e+01</td>\n",
              "      <td>9.677420e+00</td>\n",
              "      <td>7.101590e+01</td>\n",
              "      <td>7.133326e+01</td>\n",
              "      <td>7.290512e+01</td>\n",
              "      <td>7.510173e+01</td>\n",
              "      <td>...</td>\n",
              "      <td>2.300000e-01</td>\n",
              "      <td>2.300000e-01</td>\n",
              "      <td>2.300000e-01</td>\n",
              "      <td>2.300000e-01</td>\n",
              "      <td>2.300000e-01</td>\n",
              "      <td>2.300000e-01</td>\n",
              "      <td>2.300000e-01</td>\n",
              "      <td>2.300000e-01</td>\n",
              "      <td>2.200000e-01</td>\n",
              "      <td>NaN</td>\n",
              "    </tr>\n",
              "    <tr>\n",
              "      <th>75%</th>\n",
              "      <td>6.251250e+01</td>\n",
              "      <td>5.655200e+04</td>\n",
              "      <td>5.863650e+04</td>\n",
              "      <td>6.202900e+04</td>\n",
              "      <td>6.383675e+04</td>\n",
              "      <td>7.854163e+01</td>\n",
              "      <td>5.682800e+04</td>\n",
              "      <td>5.739175e+04</td>\n",
              "      <td>5.940425e+04</td>\n",
              "      <td>6.411500e+04</td>\n",
              "      <td>...</td>\n",
              "      <td>7.505000e+00</td>\n",
              "      <td>7.500000e+00</td>\n",
              "      <td>7.300000e+00</td>\n",
              "      <td>7.100000e+00</td>\n",
              "      <td>6.722500e+00</td>\n",
              "      <td>6.080000e+00</td>\n",
              "      <td>5.462500e+00</td>\n",
              "      <td>4.680000e+00</td>\n",
              "      <td>4.032500e+00</td>\n",
              "      <td>NaN</td>\n",
              "    </tr>\n",
              "    <tr>\n",
              "      <th>max</th>\n",
              "      <td>1.903929e+13</td>\n",
              "      <td>1.986457e+13</td>\n",
              "      <td>2.100916e+13</td>\n",
              "      <td>2.238367e+13</td>\n",
              "      <td>2.282991e+13</td>\n",
              "      <td>2.300634e+13</td>\n",
              "      <td>2.424128e+13</td>\n",
              "      <td>2.521383e+13</td>\n",
              "      <td>2.622101e+13</td>\n",
              "      <td>2.730873e+13</td>\n",
              "      <td>...</td>\n",
              "      <td>2.951569e+06</td>\n",
              "      <td>3.070879e+06</td>\n",
              "      <td>3.169711e+06</td>\n",
              "      <td>3.246239e+06</td>\n",
              "      <td>3.301586e+06</td>\n",
              "      <td>3.337871e+06</td>\n",
              "      <td>3.354746e+06</td>\n",
              "      <td>3.351887e+06</td>\n",
              "      <td>3.330484e+06</td>\n",
              "      <td>NaN</td>\n",
              "    </tr>\n",
              "  </tbody>\n",
              "</table>\n",
              "<p>8 rows × 66 columns</p>\n",
              "</div>\n",
              "      <button class=\"colab-df-convert\" onclick=\"convertToInteractive('df-8322bd1f-fdd0-425a-bfb1-0214b4eb15f5')\"\n",
              "              title=\"Convert this dataframe to an interactive table.\"\n",
              "              style=\"display:none;\">\n",
              "        \n",
              "  <svg xmlns=\"http://www.w3.org/2000/svg\" height=\"24px\"viewBox=\"0 0 24 24\"\n",
              "       width=\"24px\">\n",
              "    <path d=\"M0 0h24v24H0V0z\" fill=\"none\"/>\n",
              "    <path d=\"M18.56 5.44l.94 2.06.94-2.06 2.06-.94-2.06-.94-.94-2.06-.94 2.06-2.06.94zm-11 1L8.5 8.5l.94-2.06 2.06-.94-2.06-.94L8.5 2.5l-.94 2.06-2.06.94zm10 10l.94 2.06.94-2.06 2.06-.94-2.06-.94-.94-2.06-.94 2.06-2.06.94z\"/><path d=\"M17.41 7.96l-1.37-1.37c-.4-.4-.92-.59-1.43-.59-.52 0-1.04.2-1.43.59L10.3 9.45l-7.72 7.72c-.78.78-.78 2.05 0 2.83L4 21.41c.39.39.9.59 1.41.59.51 0 1.02-.2 1.41-.59l7.78-7.78 2.81-2.81c.8-.78.8-2.07 0-2.86zM5.41 20L4 18.59l7.72-7.72 1.47 1.35L5.41 20z\"/>\n",
              "  </svg>\n",
              "      </button>\n",
              "      \n",
              "  <style>\n",
              "    .colab-df-container {\n",
              "      display:flex;\n",
              "      flex-wrap:wrap;\n",
              "      gap: 12px;\n",
              "    }\n",
              "\n",
              "    .colab-df-convert {\n",
              "      background-color: #E8F0FE;\n",
              "      border: none;\n",
              "      border-radius: 50%;\n",
              "      cursor: pointer;\n",
              "      display: none;\n",
              "      fill: #1967D2;\n",
              "      height: 32px;\n",
              "      padding: 0 0 0 0;\n",
              "      width: 32px;\n",
              "    }\n",
              "\n",
              "    .colab-df-convert:hover {\n",
              "      background-color: #E2EBFA;\n",
              "      box-shadow: 0px 1px 2px rgba(60, 64, 67, 0.3), 0px 1px 3px 1px rgba(60, 64, 67, 0.15);\n",
              "      fill: #174EA6;\n",
              "    }\n",
              "\n",
              "    [theme=dark] .colab-df-convert {\n",
              "      background-color: #3B4455;\n",
              "      fill: #D2E3FC;\n",
              "    }\n",
              "\n",
              "    [theme=dark] .colab-df-convert:hover {\n",
              "      background-color: #434B5C;\n",
              "      box-shadow: 0px 1px 3px 1px rgba(0, 0, 0, 0.15);\n",
              "      filter: drop-shadow(0px 1px 2px rgba(0, 0, 0, 0.3));\n",
              "      fill: #FFFFFF;\n",
              "    }\n",
              "  </style>\n",
              "\n",
              "      <script>\n",
              "        const buttonEl =\n",
              "          document.querySelector('#df-8322bd1f-fdd0-425a-bfb1-0214b4eb15f5 button.colab-df-convert');\n",
              "        buttonEl.style.display =\n",
              "          google.colab.kernel.accessAllowed ? 'block' : 'none';\n",
              "\n",
              "        async function convertToInteractive(key) {\n",
              "          const element = document.querySelector('#df-8322bd1f-fdd0-425a-bfb1-0214b4eb15f5');\n",
              "          const dataTable =\n",
              "            await google.colab.kernel.invokeFunction('convertToInteractive',\n",
              "                                                     [key], {});\n",
              "          if (!dataTable) return;\n",
              "\n",
              "          const docLinkHtml = 'Like what you see? Visit the ' +\n",
              "            '<a target=\"_blank\" href=https://colab.research.google.com/notebooks/data_table.ipynb>data table notebook</a>'\n",
              "            + ' to learn more about interactive tables.';\n",
              "          element.innerHTML = '';\n",
              "          dataTable['output_type'] = 'display_data';\n",
              "          await google.colab.output.renderOutput(dataTable, element);\n",
              "          const docLink = document.createElement('div');\n",
              "          docLink.innerHTML = docLinkHtml;\n",
              "          element.appendChild(docLink);\n",
              "        }\n",
              "      </script>\n",
              "    </div>\n",
              "  </div>\n",
              "  "
            ]
          },
          "metadata": {},
          "execution_count": 45
        }
      ]
    },
    {
      "cell_type": "code",
      "source": [
        "ed_stats_footnote.describe()"
      ],
      "metadata": {
        "colab": {
          "base_uri": "https://localhost:8080/",
          "height": 300
        },
        "id": "tJorig-E8Ute",
        "outputId": "911991db-25e7-47b9-de98-3a85b4ffa901"
      },
      "execution_count": null,
      "outputs": [
        {
          "output_type": "execute_result",
          "data": {
            "text/plain": [
              "       Unnamed: 4\n",
              "count         0.0\n",
              "mean          NaN\n",
              "std           NaN\n",
              "min           NaN\n",
              "25%           NaN\n",
              "50%           NaN\n",
              "75%           NaN\n",
              "max           NaN"
            ],
            "text/html": [
              "\n",
              "  <div id=\"df-18797350-427a-455c-895d-28bbf014d353\">\n",
              "    <div class=\"colab-df-container\">\n",
              "      <div>\n",
              "<style scoped>\n",
              "    .dataframe tbody tr th:only-of-type {\n",
              "        vertical-align: middle;\n",
              "    }\n",
              "\n",
              "    .dataframe tbody tr th {\n",
              "        vertical-align: top;\n",
              "    }\n",
              "\n",
              "    .dataframe thead th {\n",
              "        text-align: right;\n",
              "    }\n",
              "</style>\n",
              "<table border=\"1\" class=\"dataframe\">\n",
              "  <thead>\n",
              "    <tr style=\"text-align: right;\">\n",
              "      <th></th>\n",
              "      <th>Unnamed: 4</th>\n",
              "    </tr>\n",
              "  </thead>\n",
              "  <tbody>\n",
              "    <tr>\n",
              "      <th>count</th>\n",
              "      <td>0.0</td>\n",
              "    </tr>\n",
              "    <tr>\n",
              "      <th>mean</th>\n",
              "      <td>NaN</td>\n",
              "    </tr>\n",
              "    <tr>\n",
              "      <th>std</th>\n",
              "      <td>NaN</td>\n",
              "    </tr>\n",
              "    <tr>\n",
              "      <th>min</th>\n",
              "      <td>NaN</td>\n",
              "    </tr>\n",
              "    <tr>\n",
              "      <th>25%</th>\n",
              "      <td>NaN</td>\n",
              "    </tr>\n",
              "    <tr>\n",
              "      <th>50%</th>\n",
              "      <td>NaN</td>\n",
              "    </tr>\n",
              "    <tr>\n",
              "      <th>75%</th>\n",
              "      <td>NaN</td>\n",
              "    </tr>\n",
              "    <tr>\n",
              "      <th>max</th>\n",
              "      <td>NaN</td>\n",
              "    </tr>\n",
              "  </tbody>\n",
              "</table>\n",
              "</div>\n",
              "      <button class=\"colab-df-convert\" onclick=\"convertToInteractive('df-18797350-427a-455c-895d-28bbf014d353')\"\n",
              "              title=\"Convert this dataframe to an interactive table.\"\n",
              "              style=\"display:none;\">\n",
              "        \n",
              "  <svg xmlns=\"http://www.w3.org/2000/svg\" height=\"24px\"viewBox=\"0 0 24 24\"\n",
              "       width=\"24px\">\n",
              "    <path d=\"M0 0h24v24H0V0z\" fill=\"none\"/>\n",
              "    <path d=\"M18.56 5.44l.94 2.06.94-2.06 2.06-.94-2.06-.94-.94-2.06-.94 2.06-2.06.94zm-11 1L8.5 8.5l.94-2.06 2.06-.94-2.06-.94L8.5 2.5l-.94 2.06-2.06.94zm10 10l.94 2.06.94-2.06 2.06-.94-2.06-.94-.94-2.06-.94 2.06-2.06.94z\"/><path d=\"M17.41 7.96l-1.37-1.37c-.4-.4-.92-.59-1.43-.59-.52 0-1.04.2-1.43.59L10.3 9.45l-7.72 7.72c-.78.78-.78 2.05 0 2.83L4 21.41c.39.39.9.59 1.41.59.51 0 1.02-.2 1.41-.59l7.78-7.78 2.81-2.81c.8-.78.8-2.07 0-2.86zM5.41 20L4 18.59l7.72-7.72 1.47 1.35L5.41 20z\"/>\n",
              "  </svg>\n",
              "      </button>\n",
              "      \n",
              "  <style>\n",
              "    .colab-df-container {\n",
              "      display:flex;\n",
              "      flex-wrap:wrap;\n",
              "      gap: 12px;\n",
              "    }\n",
              "\n",
              "    .colab-df-convert {\n",
              "      background-color: #E8F0FE;\n",
              "      border: none;\n",
              "      border-radius: 50%;\n",
              "      cursor: pointer;\n",
              "      display: none;\n",
              "      fill: #1967D2;\n",
              "      height: 32px;\n",
              "      padding: 0 0 0 0;\n",
              "      width: 32px;\n",
              "    }\n",
              "\n",
              "    .colab-df-convert:hover {\n",
              "      background-color: #E2EBFA;\n",
              "      box-shadow: 0px 1px 2px rgba(60, 64, 67, 0.3), 0px 1px 3px 1px rgba(60, 64, 67, 0.15);\n",
              "      fill: #174EA6;\n",
              "    }\n",
              "\n",
              "    [theme=dark] .colab-df-convert {\n",
              "      background-color: #3B4455;\n",
              "      fill: #D2E3FC;\n",
              "    }\n",
              "\n",
              "    [theme=dark] .colab-df-convert:hover {\n",
              "      background-color: #434B5C;\n",
              "      box-shadow: 0px 1px 3px 1px rgba(0, 0, 0, 0.15);\n",
              "      filter: drop-shadow(0px 1px 2px rgba(0, 0, 0, 0.3));\n",
              "      fill: #FFFFFF;\n",
              "    }\n",
              "  </style>\n",
              "\n",
              "      <script>\n",
              "        const buttonEl =\n",
              "          document.querySelector('#df-18797350-427a-455c-895d-28bbf014d353 button.colab-df-convert');\n",
              "        buttonEl.style.display =\n",
              "          google.colab.kernel.accessAllowed ? 'block' : 'none';\n",
              "\n",
              "        async function convertToInteractive(key) {\n",
              "          const element = document.querySelector('#df-18797350-427a-455c-895d-28bbf014d353');\n",
              "          const dataTable =\n",
              "            await google.colab.kernel.invokeFunction('convertToInteractive',\n",
              "                                                     [key], {});\n",
              "          if (!dataTable) return;\n",
              "\n",
              "          const docLinkHtml = 'Like what you see? Visit the ' +\n",
              "            '<a target=\"_blank\" href=https://colab.research.google.com/notebooks/data_table.ipynb>data table notebook</a>'\n",
              "            + ' to learn more about interactive tables.';\n",
              "          element.innerHTML = '';\n",
              "          dataTable['output_type'] = 'display_data';\n",
              "          await google.colab.output.renderOutput(dataTable, element);\n",
              "          const docLink = document.createElement('div');\n",
              "          docLink.innerHTML = docLinkHtml;\n",
              "          element.appendChild(docLink);\n",
              "        }\n",
              "      </script>\n",
              "    </div>\n",
              "  </div>\n",
              "  "
            ]
          },
          "metadata": {},
          "execution_count": 46
        }
      ]
    },
    {
      "cell_type": "code",
      "source": [
        "ed_stats_Series.describe()"
      ],
      "metadata": {
        "colab": {
          "base_uri": "https://localhost:8080/",
          "height": 300
        },
        "id": "X9jemcW88Uog",
        "outputId": "74009908-15f6-4b10-a5aa-326c8ceb3371"
      },
      "execution_count": null,
      "outputs": [
        {
          "output_type": "execute_result",
          "data": {
            "text/plain": [
              "       Unit of measure  Notes from original source  Other web links  \\\n",
              "count              0.0                         0.0              0.0   \n",
              "mean               NaN                         NaN              NaN   \n",
              "std                NaN                         NaN              NaN   \n",
              "min                NaN                         NaN              NaN   \n",
              "25%                NaN                         NaN              NaN   \n",
              "50%                NaN                         NaN              NaN   \n",
              "75%                NaN                         NaN              NaN   \n",
              "max                NaN                         NaN              NaN   \n",
              "\n",
              "       Related indicators  License Type  Unnamed: 20  \n",
              "count                 0.0           0.0          0.0  \n",
              "mean                  NaN           NaN          NaN  \n",
              "std                   NaN           NaN          NaN  \n",
              "min                   NaN           NaN          NaN  \n",
              "25%                   NaN           NaN          NaN  \n",
              "50%                   NaN           NaN          NaN  \n",
              "75%                   NaN           NaN          NaN  \n",
              "max                   NaN           NaN          NaN  "
            ],
            "text/html": [
              "\n",
              "  <div id=\"df-592aeb90-b7c7-4305-a932-8f545c0d7bc0\">\n",
              "    <div class=\"colab-df-container\">\n",
              "      <div>\n",
              "<style scoped>\n",
              "    .dataframe tbody tr th:only-of-type {\n",
              "        vertical-align: middle;\n",
              "    }\n",
              "\n",
              "    .dataframe tbody tr th {\n",
              "        vertical-align: top;\n",
              "    }\n",
              "\n",
              "    .dataframe thead th {\n",
              "        text-align: right;\n",
              "    }\n",
              "</style>\n",
              "<table border=\"1\" class=\"dataframe\">\n",
              "  <thead>\n",
              "    <tr style=\"text-align: right;\">\n",
              "      <th></th>\n",
              "      <th>Unit of measure</th>\n",
              "      <th>Notes from original source</th>\n",
              "      <th>Other web links</th>\n",
              "      <th>Related indicators</th>\n",
              "      <th>License Type</th>\n",
              "      <th>Unnamed: 20</th>\n",
              "    </tr>\n",
              "  </thead>\n",
              "  <tbody>\n",
              "    <tr>\n",
              "      <th>count</th>\n",
              "      <td>0.0</td>\n",
              "      <td>0.0</td>\n",
              "      <td>0.0</td>\n",
              "      <td>0.0</td>\n",
              "      <td>0.0</td>\n",
              "      <td>0.0</td>\n",
              "    </tr>\n",
              "    <tr>\n",
              "      <th>mean</th>\n",
              "      <td>NaN</td>\n",
              "      <td>NaN</td>\n",
              "      <td>NaN</td>\n",
              "      <td>NaN</td>\n",
              "      <td>NaN</td>\n",
              "      <td>NaN</td>\n",
              "    </tr>\n",
              "    <tr>\n",
              "      <th>std</th>\n",
              "      <td>NaN</td>\n",
              "      <td>NaN</td>\n",
              "      <td>NaN</td>\n",
              "      <td>NaN</td>\n",
              "      <td>NaN</td>\n",
              "      <td>NaN</td>\n",
              "    </tr>\n",
              "    <tr>\n",
              "      <th>min</th>\n",
              "      <td>NaN</td>\n",
              "      <td>NaN</td>\n",
              "      <td>NaN</td>\n",
              "      <td>NaN</td>\n",
              "      <td>NaN</td>\n",
              "      <td>NaN</td>\n",
              "    </tr>\n",
              "    <tr>\n",
              "      <th>25%</th>\n",
              "      <td>NaN</td>\n",
              "      <td>NaN</td>\n",
              "      <td>NaN</td>\n",
              "      <td>NaN</td>\n",
              "      <td>NaN</td>\n",
              "      <td>NaN</td>\n",
              "    </tr>\n",
              "    <tr>\n",
              "      <th>50%</th>\n",
              "      <td>NaN</td>\n",
              "      <td>NaN</td>\n",
              "      <td>NaN</td>\n",
              "      <td>NaN</td>\n",
              "      <td>NaN</td>\n",
              "      <td>NaN</td>\n",
              "    </tr>\n",
              "    <tr>\n",
              "      <th>75%</th>\n",
              "      <td>NaN</td>\n",
              "      <td>NaN</td>\n",
              "      <td>NaN</td>\n",
              "      <td>NaN</td>\n",
              "      <td>NaN</td>\n",
              "      <td>NaN</td>\n",
              "    </tr>\n",
              "    <tr>\n",
              "      <th>max</th>\n",
              "      <td>NaN</td>\n",
              "      <td>NaN</td>\n",
              "      <td>NaN</td>\n",
              "      <td>NaN</td>\n",
              "      <td>NaN</td>\n",
              "      <td>NaN</td>\n",
              "    </tr>\n",
              "  </tbody>\n",
              "</table>\n",
              "</div>\n",
              "      <button class=\"colab-df-convert\" onclick=\"convertToInteractive('df-592aeb90-b7c7-4305-a932-8f545c0d7bc0')\"\n",
              "              title=\"Convert this dataframe to an interactive table.\"\n",
              "              style=\"display:none;\">\n",
              "        \n",
              "  <svg xmlns=\"http://www.w3.org/2000/svg\" height=\"24px\"viewBox=\"0 0 24 24\"\n",
              "       width=\"24px\">\n",
              "    <path d=\"M0 0h24v24H0V0z\" fill=\"none\"/>\n",
              "    <path d=\"M18.56 5.44l.94 2.06.94-2.06 2.06-.94-2.06-.94-.94-2.06-.94 2.06-2.06.94zm-11 1L8.5 8.5l.94-2.06 2.06-.94-2.06-.94L8.5 2.5l-.94 2.06-2.06.94zm10 10l.94 2.06.94-2.06 2.06-.94-2.06-.94-.94-2.06-.94 2.06-2.06.94z\"/><path d=\"M17.41 7.96l-1.37-1.37c-.4-.4-.92-.59-1.43-.59-.52 0-1.04.2-1.43.59L10.3 9.45l-7.72 7.72c-.78.78-.78 2.05 0 2.83L4 21.41c.39.39.9.59 1.41.59.51 0 1.02-.2 1.41-.59l7.78-7.78 2.81-2.81c.8-.78.8-2.07 0-2.86zM5.41 20L4 18.59l7.72-7.72 1.47 1.35L5.41 20z\"/>\n",
              "  </svg>\n",
              "      </button>\n",
              "      \n",
              "  <style>\n",
              "    .colab-df-container {\n",
              "      display:flex;\n",
              "      flex-wrap:wrap;\n",
              "      gap: 12px;\n",
              "    }\n",
              "\n",
              "    .colab-df-convert {\n",
              "      background-color: #E8F0FE;\n",
              "      border: none;\n",
              "      border-radius: 50%;\n",
              "      cursor: pointer;\n",
              "      display: none;\n",
              "      fill: #1967D2;\n",
              "      height: 32px;\n",
              "      padding: 0 0 0 0;\n",
              "      width: 32px;\n",
              "    }\n",
              "\n",
              "    .colab-df-convert:hover {\n",
              "      background-color: #E2EBFA;\n",
              "      box-shadow: 0px 1px 2px rgba(60, 64, 67, 0.3), 0px 1px 3px 1px rgba(60, 64, 67, 0.15);\n",
              "      fill: #174EA6;\n",
              "    }\n",
              "\n",
              "    [theme=dark] .colab-df-convert {\n",
              "      background-color: #3B4455;\n",
              "      fill: #D2E3FC;\n",
              "    }\n",
              "\n",
              "    [theme=dark] .colab-df-convert:hover {\n",
              "      background-color: #434B5C;\n",
              "      box-shadow: 0px 1px 3px 1px rgba(0, 0, 0, 0.15);\n",
              "      filter: drop-shadow(0px 1px 2px rgba(0, 0, 0, 0.3));\n",
              "      fill: #FFFFFF;\n",
              "    }\n",
              "  </style>\n",
              "\n",
              "      <script>\n",
              "        const buttonEl =\n",
              "          document.querySelector('#df-592aeb90-b7c7-4305-a932-8f545c0d7bc0 button.colab-df-convert');\n",
              "        buttonEl.style.display =\n",
              "          google.colab.kernel.accessAllowed ? 'block' : 'none';\n",
              "\n",
              "        async function convertToInteractive(key) {\n",
              "          const element = document.querySelector('#df-592aeb90-b7c7-4305-a932-8f545c0d7bc0');\n",
              "          const dataTable =\n",
              "            await google.colab.kernel.invokeFunction('convertToInteractive',\n",
              "                                                     [key], {});\n",
              "          if (!dataTable) return;\n",
              "\n",
              "          const docLinkHtml = 'Like what you see? Visit the ' +\n",
              "            '<a target=\"_blank\" href=https://colab.research.google.com/notebooks/data_table.ipynb>data table notebook</a>'\n",
              "            + ' to learn more about interactive tables.';\n",
              "          element.innerHTML = '';\n",
              "          dataTable['output_type'] = 'display_data';\n",
              "          await google.colab.output.renderOutput(dataTable, element);\n",
              "          const docLink = document.createElement('div');\n",
              "          docLink.innerHTML = docLinkHtml;\n",
              "          element.appendChild(docLink);\n",
              "        }\n",
              "      </script>\n",
              "    </div>\n",
              "  </div>\n",
              "  "
            ]
          },
          "metadata": {},
          "execution_count": 47
        }
      ]
    },
    {
      "cell_type": "markdown",
      "source": [
        "## **Variables Description** "
      ],
      "metadata": {
        "id": "PBTbrJXOngz2"
      }
    },
    {
      "cell_type": "markdown",
      "source": [
        "###**EdStatsData:-**\n",
        "\n",
        "**Country Name:** Names of the countries\n",
        "\n",
        "**Country Code:** Short codes for countries\n",
        "\n",
        "**Indicator Name:** This data is dependent on various indicators that resembles various factors that affect the overall Education growth and development of the country.\n",
        "\n",
        "**Indicator Code:** the codes given to different indicators such as Enrolment in early childhood education, both sexes (number) -UIS.E.0.T\n",
        "\n",
        "**Year Columns** (contains columns for each year from 1970 to 2100)\n",
        "\n",
        "###**EdStatsCountry:-**\n",
        "\n",
        "This data contains variables such as Currency, Region, Income Group, Population census, household survey, Source of Income and Expenditure data, Latest Agricultural, Industrial and Trade data and so on.\n",
        "\n",
        "###**EdStatsCountry-Series:-**\n",
        "\n",
        "**CountryCode:-** Codes of countries\n",
        "\n",
        "**SeriesCode:-** Codes of various indicators\n",
        "\n",
        "**DESCRIPTION:-** Data Sources from which these Indicators have been derived\n",
        "\n",
        "###**EdStatsFootNote:-**\n",
        "\n",
        "**CountryCode** along with their respective description. tells the nature of Indicators, if its an estimate value or a percentage distribution\n",
        "\n",
        "###**EdStatsSeries:-**\n",
        "\n",
        "Contains regional learning assessments data (e.g. **PISA TIMSS PIRLS**)\n"
      ],
      "metadata": {
        "id": "aJV4KIxSnxay"
      }
    },
    {
      "cell_type": "markdown",
      "source": [
        "##The following Indicators have been chosen for analysis:-\n",
        "**Education**\n",
        "\n",
        "Enrolment in early childhood education, both sexes (number) - **UIS.E.0.T**\n",
        "\n",
        "Enrolment in primary education, both sexes (number) - **SE.PRM.ENRL**\n",
        "\n",
        "Enrolment in secondary education, both sexes (number) - **SE.SEC.ENRL**\n",
        "\n",
        "Enrolment in tertiary education, both sexes (number) - **SE.TER.ENRL**\n",
        "\n",
        "Enrolment in post-secondary non-tertiary education, both sexes (number) - **UIS.E.4**\n",
        "\n",
        "**Expenditures**\n",
        "\n",
        "Government expenditure on education as % of GDP (%) - **SE.XPD.TOTL.GD.ZS**\n",
        "\n",
        "Expenditure on education as % of total government expenditure (%) - **SE.XPD.TOTL.GB.ZS**\n",
        "\n",
        "**Literacy**\n",
        "\n",
        "Adult literacy rate, population 15+ years, both sexes (%) - **SE.ADT.LITR.ZS**\n",
        "\n",
        "Adult illiterate population, 15+ years, both sexes (number) - **UIS.LP.AG15T99**\n",
        "\n",
        "**Population**\n",
        "\n",
        "School age population, pre-primary education, both sexes (number) - **SP.PRE.TOTL.IN**\n",
        "\n",
        "School age population, primary education, both sexes (number) - **SP.PRM.TOTL.IN**\n",
        "\n",
        "School age population, secondary education, both sexes (number) - **SP.SEC.TOTL.IN**\n",
        "\n",
        "School age population, tertiary education, both sexes (number) - **SP.TER.TOTL.IN**\n",
        "\n",
        "**Learning Outcomes**\n",
        "\n",
        "PISA: Mean performance on the Reading scale (number) - **LO.PISA.REA**\n",
        "\n",
        "PISA: Mean performance on the Mathematics scale (number) - **LO.PISA.MAT**\n",
        "\n",
        "##The following Countries have been chosen for analysis:-\n",
        "**Canada, China, India, Japan, Pakistan, United Kingdom, United States**"
      ],
      "metadata": {
        "id": "uc7At_cVOH1E"
      }
    },
    {
      "cell_type": "markdown",
      "source": [
        "### Check Unique Values for each variable."
      ],
      "metadata": {
        "id": "u3PMJOP6ngxN"
      }
    },
    {
      "cell_type": "code",
      "source": [
        "# Check Unique Values for each variable.\n",
        "for i in ed_stats_country_series_df.columns.tolist():\n",
        "  print(\"No. of unique values in \",i,\"is\",ed_stats_country_series_df[i].nunique())"
      ],
      "metadata": {
        "id": "zms12Yq5n-jE",
        "colab": {
          "base_uri": "https://localhost:8080/",
          "height": 0
        },
        "outputId": "75a309be-cd61-4806-df4d-910f7ac9bf19"
      },
      "execution_count": 4,
      "outputs": [
        {
          "output_type": "stream",
          "name": "stdout",
          "text": [
            "No. of unique values in  CountryCode is 211\n",
            "No. of unique values in  SeriesCode is 21\n",
            "No. of unique values in  DESCRIPTION is 97\n",
            "No. of unique values in  Unnamed: 3 is 0\n"
          ]
        }
      ]
    },
    {
      "cell_type": "code",
      "source": [
        "for i in ed_stats_country.columns.tolist():\n",
        "  print(\"No. of unique values in \",i,\"is\",ed_stats_country[i].nunique())"
      ],
      "metadata": {
        "colab": {
          "base_uri": "https://localhost:8080/",
          "height": 0
        },
        "id": "1ZfPpcb3MPly",
        "outputId": "32916719-01f8-4ee0-d03f-e90ef458a8d5"
      },
      "execution_count": 5,
      "outputs": [
        {
          "output_type": "stream",
          "name": "stdout",
          "text": [
            "No. of unique values in  Country Code is 241\n",
            "No. of unique values in  Short Name is 241\n",
            "No. of unique values in  Table Name is 241\n",
            "No. of unique values in  Long Name is 241\n",
            "No. of unique values in  2-alpha code is 238\n",
            "No. of unique values in  Currency Unit is 152\n",
            "No. of unique values in  Special Notes is 131\n",
            "No. of unique values in  Region is 7\n",
            "No. of unique values in  Income Group is 5\n",
            "No. of unique values in  WB-2 code is 240\n",
            "No. of unique values in  National accounts base year is 43\n",
            "No. of unique values in  National accounts reference year is 11\n",
            "No. of unique values in  SNA price valuation is 2\n",
            "No. of unique values in  Lending category is 3\n",
            "No. of unique values in  Other groups is 2\n",
            "No. of unique values in  System of National Accounts is 3\n",
            "No. of unique values in  Alternative conversion factor is 32\n",
            "No. of unique values in  PPP survey year is 3\n",
            "No. of unique values in  Balance of Payments Manual in use is 1\n",
            "No. of unique values in  External debt Reporting status is 3\n",
            "No. of unique values in  System of trade is 2\n",
            "No. of unique values in  Government Accounting concept is 2\n",
            "No. of unique values in  IMF data dissemination standard is 2\n",
            "No. of unique values in  Latest population census is 27\n",
            "No. of unique values in  Latest household survey is 60\n",
            "No. of unique values in  Source of most recent Income and expenditure data is 75\n",
            "No. of unique values in  Vital registration complete is 2\n",
            "No. of unique values in  Latest agricultural census is 35\n",
            "No. of unique values in  Latest industrial data is 11\n",
            "No. of unique values in  Latest trade data is 13\n",
            "No. of unique values in  Latest water withdrawal data is 20\n",
            "No. of unique values in  Unnamed: 31 is 0\n"
          ]
        }
      ]
    },
    {
      "cell_type": "code",
      "source": [
        "for i in ed_stats_data.columns.tolist():\n",
        "  print(\"No. of unique values in \",i,\"is\",ed_stats_data[i].nunique())"
      ],
      "metadata": {
        "colab": {
          "base_uri": "https://localhost:8080/",
          "height": 0
        },
        "id": "xJ30zrKXMPbp",
        "outputId": "efbc90f7-212f-45cd-a9cd-010ed5820442"
      },
      "execution_count": 6,
      "outputs": [
        {
          "output_type": "stream",
          "name": "stdout",
          "text": [
            "No. of unique values in  Country Name is 242\n",
            "No. of unique values in  Country Code is 242\n",
            "No. of unique values in  Indicator Name is 3665\n",
            "No. of unique values in  Indicator Code is 3665\n",
            "No. of unique values in  1970 is 24595\n",
            "No. of unique values in  1971 is 30892\n",
            "No. of unique values in  1972 is 30982\n",
            "No. of unique values in  1973 is 30988\n",
            "No. of unique values in  1974 is 31139\n",
            "No. of unique values in  1975 is 37838\n",
            "No. of unique values in  1976 is 32679\n",
            "No. of unique values in  1977 is 32808\n",
            "No. of unique values in  1978 is 32887\n",
            "No. of unique values in  1979 is 32359\n",
            "No. of unique values in  1980 is 39456\n",
            "No. of unique values in  1981 is 34090\n",
            "No. of unique values in  1982 is 32969\n",
            "No. of unique values in  1983 is 33683\n",
            "No. of unique values in  1984 is 33903\n",
            "No. of unique values in  1985 is 41133\n",
            "No. of unique values in  1986 is 34774\n",
            "No. of unique values in  1987 is 34021\n",
            "No. of unique values in  1988 is 34013\n",
            "No. of unique values in  1989 is 33181\n",
            "No. of unique values in  1990 is 72800\n",
            "No. of unique values in  1991 is 67172\n",
            "No. of unique values in  1992 is 68026\n",
            "No. of unique values in  1993 is 68440\n",
            "No. of unique values in  1994 is 69974\n",
            "No. of unique values in  1995 is 79225\n",
            "No. of unique values in  1996 is 69787\n",
            "No. of unique values in  1997 is 66665\n",
            "No. of unique values in  1998 is 77746\n",
            "No. of unique values in  1999 is 104452\n",
            "No. of unique values in  2000 is 115971\n",
            "No. of unique values in  2001 is 108633\n",
            "No. of unique values in  2002 is 108974\n",
            "No. of unique values in  2003 is 114344\n",
            "No. of unique values in  2004 is 113431\n",
            "No. of unique values in  2005 is 123821\n",
            "No. of unique values in  2006 is 124989\n",
            "No. of unique values in  2007 is 121541\n",
            "No. of unique values in  2008 is 119598\n",
            "No. of unique values in  2009 is 126177\n",
            "No. of unique values in  2010 is 135853\n",
            "No. of unique values in  2011 is 128444\n",
            "No. of unique values in  2012 is 130040\n",
            "No. of unique values in  2013 is 120987\n",
            "No. of unique values in  2014 is 100187\n",
            "No. of unique values in  2015 is 79334\n",
            "No. of unique values in  2016 is 12749\n",
            "No. of unique values in  2017 is 4\n",
            "No. of unique values in  2020 is 8595\n",
            "No. of unique values in  2025 is 8566\n",
            "No. of unique values in  2030 is 8513\n",
            "No. of unique values in  2035 is 8447\n",
            "No. of unique values in  2040 is 8403\n",
            "No. of unique values in  2045 is 8254\n",
            "No. of unique values in  2050 is 8132\n",
            "No. of unique values in  2055 is 8027\n",
            "No. of unique values in  2060 is 7914\n",
            "No. of unique values in  2065 is 7800\n",
            "No. of unique values in  2070 is 7700\n",
            "No. of unique values in  2075 is 7562\n",
            "No. of unique values in  2080 is 7466\n",
            "No. of unique values in  2085 is 7335\n",
            "No. of unique values in  2090 is 7150\n",
            "No. of unique values in  2095 is 7044\n",
            "No. of unique values in  2100 is 6914\n",
            "No. of unique values in  Unnamed: 69 is 0\n"
          ]
        }
      ]
    },
    {
      "cell_type": "code",
      "source": [
        "for i in ed_stats_footnote.columns.tolist():\n",
        "  print(\"No. of unique values in \",i,\"is\",ed_stats_footnote[i].nunique())"
      ],
      "metadata": {
        "colab": {
          "base_uri": "https://localhost:8080/",
          "height": 0
        },
        "id": "Q5mhdqL0MPEB",
        "outputId": "491e8d42-a851-4bee-ad70-e06f9104f5bd"
      },
      "execution_count": 7,
      "outputs": [
        {
          "output_type": "stream",
          "name": "stdout",
          "text": [
            "No. of unique values in  CountryCode is 239\n",
            "No. of unique values in  SeriesCode is 1558\n",
            "No. of unique values in  Year is 56\n",
            "No. of unique values in  DESCRIPTION is 9102\n",
            "No. of unique values in  Unnamed: 4 is 0\n"
          ]
        }
      ]
    },
    {
      "cell_type": "code",
      "source": [
        "for i in ed_stats_Series.columns.tolist():\n",
        "  print(\"No. of unique values in \",i,\"is\",ed_stats_Series[i].nunique())"
      ],
      "metadata": {
        "colab": {
          "base_uri": "https://localhost:8080/",
          "height": 0
        },
        "id": "b8TNWHGGMO1y",
        "outputId": "d7ec118c-b563-4a74-c9ed-06b86e949d25"
      },
      "execution_count": 8,
      "outputs": [
        {
          "output_type": "stream",
          "name": "stdout",
          "text": [
            "No. of unique values in  Series Code is 3665\n",
            "No. of unique values in  Topic is 37\n",
            "No. of unique values in  Indicator Name is 3665\n",
            "No. of unique values in  Short definition is 1169\n",
            "No. of unique values in  Long definition is 2060\n",
            "No. of unique values in  Unit of measure is 0\n",
            "No. of unique values in  Periodicity is 1\n",
            "No. of unique values in  Base Period is 4\n",
            "No. of unique values in  Other notes is 14\n",
            "No. of unique values in  Aggregation method is 3\n",
            "No. of unique values in  Limitations and exceptions is 9\n",
            "No. of unique values in  Notes from original source is 0\n",
            "No. of unique values in  General comments is 8\n",
            "No. of unique values in  Source is 31\n",
            "No. of unique values in  Statistical concept and methodology is 2\n",
            "No. of unique values in  Development relevance is 1\n",
            "No. of unique values in  Related source links is 1\n",
            "No. of unique values in  Other web links is 0\n",
            "No. of unique values in  Related indicators is 0\n",
            "No. of unique values in  License Type is 0\n",
            "No. of unique values in  Unnamed: 20 is 0\n"
          ]
        }
      ]
    },
    {
      "cell_type": "markdown",
      "source": [
        "## 3. ***Data Wrangling***"
      ],
      "metadata": {
        "id": "dauF4eBmngu3"
      }
    },
    {
      "cell_type": "markdown",
      "source": [
        "The Data wrangling is the process of extracting and discovering patterns in large data sets. Data Cleaning is one of the most integral part of analysis, in order to get something meaningful out of a huge dataset we need to figure out how to extract a generalized, smaller and more skewed sub-dataFrame out of it.\n",
        "\n"
      ],
      "metadata": {
        "id": "jT_G_Qq1NoKI"
      }
    },
    {
      "cell_type": "markdown",
      "source": [
        "### Data Wrangling Code"
      ],
      "metadata": {
        "id": "bKJF3rekwFvQ"
      }
    },
    {
      "cell_type": "code",
      "source": [
        "# Write your code to make your dataset analysis ready."
      ],
      "metadata": {
        "id": "wk-9a2fpoLcV"
      },
      "execution_count": null,
      "outputs": []
    },
    {
      "cell_type": "code",
      "source": [
        "# List of selected indicators for analysis.\n",
        "Indicators = [# Education\n",
        "              \"UIS.E.0.T\", \"SE.PRM.ENRL\", \"SE.SEC.ENRL\", \"SE.TER.ENRL\", \"UIS.E.4\",\n",
        "              # Expenditures\n",
        "              \"SE.XPD.TOTL.GD.ZS\", \"SE.XPD.TOTL.GB.ZS\",\n",
        "              # Literacy\n",
        "              \"SE.ADT.LITR.ZS\", \"UIS.LP.AG15T99\",\n",
        "              # Population\n",
        "              \"SP.PRE.TOTL.IN\", \"SP.PRM.TOTL.IN\", \"SP.SEC.TOTL.IN\", \"SP.TER.TOTL.IN\",\n",
        "              # Learning outcomes\n",
        "              \"LO.PISA.REA\", \"LO.PISA.MAT\"]\n",
        "              \n",
        "\n",
        "# length of Indicators list.\n",
        "len(Indicators)"
      ],
      "metadata": {
        "colab": {
          "base_uri": "https://localhost:8080/",
          "height": 0
        },
        "id": "2HyMMlp2PGBT",
        "outputId": "10ee4b45-5e37-4aa7-c536-0a97d53ac26a"
      },
      "execution_count": 80,
      "outputs": [
        {
          "output_type": "execute_result",
          "data": {
            "text/plain": [
              "15"
            ]
          },
          "metadata": {},
          "execution_count": 80
        }
      ]
    },
    {
      "cell_type": "code",
      "source": [
        "# List of countries that have been selected for analysis.\n",
        "Countries = [\"India\", \"United States\", \"United Kingdom\", \"Canada\", \"Japan\", \"China\", \"Pakistan\"]\n",
        "len(Countries)"
      ],
      "metadata": {
        "colab": {
          "base_uri": "https://localhost:8080/",
          "height": 0
        },
        "id": "euzKOoPlPd9d",
        "outputId": "817e20d6-14c9-4e37-cbc7-3fd84320482a"
      },
      "execution_count": 21,
      "outputs": [
        {
          "output_type": "execute_result",
          "data": {
            "text/plain": [
              "7"
            ]
          },
          "metadata": {},
          "execution_count": 21
        }
      ]
    },
    {
      "cell_type": "markdown",
      "source": [
        "We want a columnwise sub dataset that would have the selected countries as columns with the set of meaningful years (those columns/Years that have at least one available value is considered) as rows.\n",
        "This type of data is suitable for plotting line charts and get meaningful insights accross the trends it produces. \n",
        "TO achieve this we will define a function which will extract data for all available countries, and then we can extract from this data the datset for the countries which we have selected."
      ],
      "metadata": {
        "id": "HIiDS_5CPtit"
      }
    },
    {
      "cell_type": "code",
      "source": [
        "def columnwise_data(indicator_Code):\n",
        "  '''we are extracting data such as \"countries, year wise data\" for a particular indicator code, as this data is suitable for plotting graphs'''\n",
        "  # we start with extracting rows of the particular indicator\n",
        "  df = ed_stats_data[ed_stats_data[\"Indicator Code\"] == indicator_Code]\n",
        "\n",
        "  # then from the subset of the data we extract rows of the countries for which we are analysing\n",
        "  df = df.loc[df[\"Country Name\"].isin(Countries)]\n",
        "\n",
        "  # we drop the columns containing all NaN's Values as these columns are not required\n",
        "  df.dropna(how=\"all\", axis = 1, inplace=True)\n",
        "\n",
        "  # after getting the dataframe we reset its index as previous indexes are rendered useless after the filtration applied\n",
        "  df.reset_index(inplace=True)\n",
        "\n",
        "  # we extract the Indicator name of the indicator code we provided\n",
        "  title = df[\"Indicator Name\"][0]\n",
        "\n",
        "  # the dataframe thus obtained contains indicator code, Indicator name, Country Code and old index numbers which we do not require, so we drop them\n",
        "  df.drop(labels = [\"index\", \"Country Code\", \"Indicator Name\", \"Indicator Code\"], axis = 1, inplace = True)\n",
        "  \n",
        "  # To get a clear picture of dataframe containing countries and yearwise data we transpose it\n",
        "  df = df.T\n",
        "\n",
        "  # Now as we have transposed the data we need to reset index again\n",
        "  df.reset_index(inplace=True)\n",
        "\n",
        "  # the datafame thus obtained contains columns of year and countries, \n",
        "  # but their labels are the previous index numbers\n",
        "  # so to change columns name we will define new columns name & set them as our new columns\n",
        "  new_columns = [ \"Year\", \"Canada\", \"China\", \"India\", \"Japan\", \"Pakistan\", \"United Kingdom\", \"United States\"]\n",
        "\n",
        "  df.set_axis(new_columns, axis=1, inplace=True)\n",
        " \n",
        "  # the 0th row is now unneccessary as it contains same values as columns name so we drop it\n",
        "  df.drop(0, inplace=True)\n",
        "\n",
        "  # the dataframe that we wanted is now generated, so we return df and title\n",
        "  return df, title"
      ],
      "metadata": {
        "id": "0TuR002RPs35"
      },
      "execution_count": 25,
      "outputs": []
    },
    {
      "cell_type": "code",
      "source": [
        "# to check if our function works or not we will pass and indicator code through our function \n",
        "df, title = columnwise_data(\"SE.PRM.ENRL\")\n",
        "df"
      ],
      "metadata": {
        "id": "3W7V0LKNXctU"
      },
      "execution_count": null,
      "outputs": []
    },
    {
      "cell_type": "code",
      "source": [
        "# To get rowwise data we can just use the above function and change it accordingly\n",
        "def rowwise_data(indicator_code):\n",
        "  '''If we want to get the data rowwise we can just get data columnwise first and then make neccessary changes'''\n",
        "  df, title = columnwise_data(indicator_code)\n",
        "\n",
        "  # After getting the dataframe we extract years so that we can later use it to provude column names after transpose\n",
        "  cols = list(df[\"Year\"])\n",
        "\n",
        "  #  first we transpose our dataframe\n",
        "  df = df.T\n",
        "\n",
        "  #  Then we reset index\n",
        "  df.reset_index(inplace=True)\n",
        "\n",
        "  # Then we provide the columns names to the new dataframe using the list of years that we extracted before\n",
        "  df.set_axis(([\"Country Name\"]+cols), axis=1, inplace=True)\n",
        "\n",
        "  #  then we drop the 0th row as it is just the duplicated values of the column names\n",
        "  df.drop(0, inplace=True)\n",
        "\n",
        "  return df, title"
      ],
      "metadata": {
        "id": "5vGQ2pGAc8oD"
      },
      "execution_count": 27,
      "outputs": []
    },
    {
      "cell_type": "code",
      "source": [
        "# to check if our row wise function works or not we will pass and indicator code through our function \n",
        "df, title = rowwise_data(\"SE.PRM.ENRL\")\n",
        "df"
      ],
      "metadata": {
        "id": "mvufutQagPH6"
      },
      "execution_count": null,
      "outputs": []
    },
    {
      "cell_type": "markdown",
      "source": [
        "### What all manipulations have you done and insights you found?"
      ],
      "metadata": {
        "id": "MSa1f5Uengrz"
      }
    },
    {
      "cell_type": "markdown",
      "source": [
        "I extracted the dataframe as well as indicator name by performing rowwise_data() and columnwise_Data() functions on the EdStatsData dataset. For performing this I made a list of indicators which I found meaningful & relevant to my analysis and also a list of countries for which I wanted to do the analysis. then I made the above mentioned functions to retrieve the data columnwise and rowwise from the EdStatsData so that i can further work on it to derive meaningful correlations and insights  and figure out trends and patterns.\n"
      ],
      "metadata": {
        "id": "LbyXE7I1olp8"
      }
    },
    {
      "cell_type": "markdown",
      "source": [
        "## ***4. Data Vizualization, Storytelling & Experimenting with charts : Understand the relationships between variables***"
      ],
      "metadata": {
        "id": "GF8Ens_Soomf"
      }
    },
    {
      "cell_type": "markdown",
      "source": [
        "#### Chart - 1"
      ],
      "metadata": {
        "id": "0wOQAZs5pc--"
      }
    },
    {
      "cell_type": "markdown",
      "source": [
        "# Education\n",
        "\n",
        "**Early Childhood Education**\n",
        "\n",
        "Early childhood education (ECE), also known as nursery education, is a branch of education theory that relates to the teaching of children (formally and informally) from birth up to the age of eight. Traditionally, this is up to the equivalent of third grade.ECE is described as an important period in child development. \n",
        "\n",
        "The World Bank's 2019 World Development Report on The Changing Nature of Work  identifies early childhood development programs as one of the most effective ways governments can equip children with the skills they will need to succeed in future labor markets."
      ],
      "metadata": {
        "id": "w2VNfN6FXVC9"
      }
    },
    {
      "cell_type": "code",
      "source": [
        "# Chart - 1 visualization code"
      ],
      "metadata": {
        "id": "7v_ESjsspbW7"
      },
      "execution_count": null,
      "outputs": []
    },
    {
      "cell_type": "code",
      "source": [
        "plt.rcParams['axes.labelsize'] = 16\n",
        "plt.rcParams['axes.titlesize'] = 16"
      ],
      "metadata": {
        "id": "2RHcCILfyMRy"
      },
      "execution_count": 59,
      "outputs": []
    },
    {
      "cell_type": "code",
      "source": [
        "# Calling columniwse_data() function to get dataframe for first indicator and also its tilte\n",
        "first_indicator, title = columnwise_data(Indicators[0])\n",
        "\n",
        "# Displaying title of the indicator\n",
        "print(title)\n",
        "\n",
        "# Displaying the dataframe obtained\n",
        "first_indicator"
      ],
      "metadata": {
        "colab": {
          "base_uri": "https://localhost:8080/",
          "height": 568
        },
        "id": "STwzUynpr0jO",
        "outputId": "0f56a351-b0cd-45d2-fc55-b3257e14c0c9"
      },
      "execution_count": 64,
      "outputs": [
        {
          "output_type": "stream",
          "name": "stdout",
          "text": [
            "Enrolment in early childhood education, both sexes (number)\n"
          ]
        },
        {
          "output_type": "execute_result",
          "data": {
            "text/plain": [
              "    Year    Canada       China      India      Japan Pakistan United Kingdom  \\\n",
              "1   1999       NaN  24030344.0        NaN        NaN      NaN            NaN   \n",
              "2   2000       NaN  23262588.0        NaN  3425697.0      NaN            NaN   \n",
              "3   2001       NaN  22441806.0  2617403.0  3463487.0      NaN            NaN   \n",
              "4   2002       NaN  20218371.0  4623168.0  3492456.0      NaN            NaN   \n",
              "5   2003       NaN  20360245.0  5507559.0  3555478.0      NaN            NaN   \n",
              "6   2004       NaN         NaN  5050006.0  3586547.0      NaN            NaN   \n",
              "7   2005       NaN         NaN  4761485.0  3615999.0      NaN            NaN   \n",
              "8   2006       NaN         NaN  5264053.0  3630184.0      NaN       989596.0   \n",
              "9   2007  486874.0  22638509.0  5366340.0  3614874.0      NaN      1004677.0   \n",
              "10  2008       NaN  23488300.0  6576483.0  3606830.0      NaN      1108148.0   \n",
              "11  2009       NaN  24749600.0  5839725.0  3579867.0      NaN            NaN   \n",
              "12  2010       NaN  26578141.0  5570382.0  3513892.0      NaN            NaN   \n",
              "13  2011       NaN  29766695.0  5936510.0  3455771.0      NaN      1248282.0   \n",
              "14  2012       NaN  34244456.0  6073502.0  3476431.0      NaN      1281727.0   \n",
              "15  2013       NaN  36857624.0  7376378.0  2910036.0      NaN  1516079.92005   \n",
              "16  2014       NaN  38946903.0        NaN        NaN      NaN      1647239.0   \n",
              "\n",
              "    United States  \n",
              "1       7183122.0  \n",
              "2       7110066.0  \n",
              "3       7538720.0  \n",
              "4       7667685.0  \n",
              "5             NaN  \n",
              "6       7435568.0  \n",
              "7       7361682.0  \n",
              "8       7342289.0  \n",
              "9       7512518.0  \n",
              "10      7191333.0  \n",
              "11      7194512.0  \n",
              "12            NaN  \n",
              "13      9007202.0  \n",
              "14      9160270.0  \n",
              "15  8721127.13184  \n",
              "16      8762260.0  "
            ],
            "text/html": [
              "\n",
              "  <div id=\"df-449747f4-1b16-406b-baab-4be1f5a1e120\">\n",
              "    <div class=\"colab-df-container\">\n",
              "      <div>\n",
              "<style scoped>\n",
              "    .dataframe tbody tr th:only-of-type {\n",
              "        vertical-align: middle;\n",
              "    }\n",
              "\n",
              "    .dataframe tbody tr th {\n",
              "        vertical-align: top;\n",
              "    }\n",
              "\n",
              "    .dataframe thead th {\n",
              "        text-align: right;\n",
              "    }\n",
              "</style>\n",
              "<table border=\"1\" class=\"dataframe\">\n",
              "  <thead>\n",
              "    <tr style=\"text-align: right;\">\n",
              "      <th></th>\n",
              "      <th>Year</th>\n",
              "      <th>Canada</th>\n",
              "      <th>China</th>\n",
              "      <th>India</th>\n",
              "      <th>Japan</th>\n",
              "      <th>Pakistan</th>\n",
              "      <th>United Kingdom</th>\n",
              "      <th>United States</th>\n",
              "    </tr>\n",
              "  </thead>\n",
              "  <tbody>\n",
              "    <tr>\n",
              "      <th>1</th>\n",
              "      <td>1999</td>\n",
              "      <td>NaN</td>\n",
              "      <td>24030344.0</td>\n",
              "      <td>NaN</td>\n",
              "      <td>NaN</td>\n",
              "      <td>NaN</td>\n",
              "      <td>NaN</td>\n",
              "      <td>7183122.0</td>\n",
              "    </tr>\n",
              "    <tr>\n",
              "      <th>2</th>\n",
              "      <td>2000</td>\n",
              "      <td>NaN</td>\n",
              "      <td>23262588.0</td>\n",
              "      <td>NaN</td>\n",
              "      <td>3425697.0</td>\n",
              "      <td>NaN</td>\n",
              "      <td>NaN</td>\n",
              "      <td>7110066.0</td>\n",
              "    </tr>\n",
              "    <tr>\n",
              "      <th>3</th>\n",
              "      <td>2001</td>\n",
              "      <td>NaN</td>\n",
              "      <td>22441806.0</td>\n",
              "      <td>2617403.0</td>\n",
              "      <td>3463487.0</td>\n",
              "      <td>NaN</td>\n",
              "      <td>NaN</td>\n",
              "      <td>7538720.0</td>\n",
              "    </tr>\n",
              "    <tr>\n",
              "      <th>4</th>\n",
              "      <td>2002</td>\n",
              "      <td>NaN</td>\n",
              "      <td>20218371.0</td>\n",
              "      <td>4623168.0</td>\n",
              "      <td>3492456.0</td>\n",
              "      <td>NaN</td>\n",
              "      <td>NaN</td>\n",
              "      <td>7667685.0</td>\n",
              "    </tr>\n",
              "    <tr>\n",
              "      <th>5</th>\n",
              "      <td>2003</td>\n",
              "      <td>NaN</td>\n",
              "      <td>20360245.0</td>\n",
              "      <td>5507559.0</td>\n",
              "      <td>3555478.0</td>\n",
              "      <td>NaN</td>\n",
              "      <td>NaN</td>\n",
              "      <td>NaN</td>\n",
              "    </tr>\n",
              "    <tr>\n",
              "      <th>6</th>\n",
              "      <td>2004</td>\n",
              "      <td>NaN</td>\n",
              "      <td>NaN</td>\n",
              "      <td>5050006.0</td>\n",
              "      <td>3586547.0</td>\n",
              "      <td>NaN</td>\n",
              "      <td>NaN</td>\n",
              "      <td>7435568.0</td>\n",
              "    </tr>\n",
              "    <tr>\n",
              "      <th>7</th>\n",
              "      <td>2005</td>\n",
              "      <td>NaN</td>\n",
              "      <td>NaN</td>\n",
              "      <td>4761485.0</td>\n",
              "      <td>3615999.0</td>\n",
              "      <td>NaN</td>\n",
              "      <td>NaN</td>\n",
              "      <td>7361682.0</td>\n",
              "    </tr>\n",
              "    <tr>\n",
              "      <th>8</th>\n",
              "      <td>2006</td>\n",
              "      <td>NaN</td>\n",
              "      <td>NaN</td>\n",
              "      <td>5264053.0</td>\n",
              "      <td>3630184.0</td>\n",
              "      <td>NaN</td>\n",
              "      <td>989596.0</td>\n",
              "      <td>7342289.0</td>\n",
              "    </tr>\n",
              "    <tr>\n",
              "      <th>9</th>\n",
              "      <td>2007</td>\n",
              "      <td>486874.0</td>\n",
              "      <td>22638509.0</td>\n",
              "      <td>5366340.0</td>\n",
              "      <td>3614874.0</td>\n",
              "      <td>NaN</td>\n",
              "      <td>1004677.0</td>\n",
              "      <td>7512518.0</td>\n",
              "    </tr>\n",
              "    <tr>\n",
              "      <th>10</th>\n",
              "      <td>2008</td>\n",
              "      <td>NaN</td>\n",
              "      <td>23488300.0</td>\n",
              "      <td>6576483.0</td>\n",
              "      <td>3606830.0</td>\n",
              "      <td>NaN</td>\n",
              "      <td>1108148.0</td>\n",
              "      <td>7191333.0</td>\n",
              "    </tr>\n",
              "    <tr>\n",
              "      <th>11</th>\n",
              "      <td>2009</td>\n",
              "      <td>NaN</td>\n",
              "      <td>24749600.0</td>\n",
              "      <td>5839725.0</td>\n",
              "      <td>3579867.0</td>\n",
              "      <td>NaN</td>\n",
              "      <td>NaN</td>\n",
              "      <td>7194512.0</td>\n",
              "    </tr>\n",
              "    <tr>\n",
              "      <th>12</th>\n",
              "      <td>2010</td>\n",
              "      <td>NaN</td>\n",
              "      <td>26578141.0</td>\n",
              "      <td>5570382.0</td>\n",
              "      <td>3513892.0</td>\n",
              "      <td>NaN</td>\n",
              "      <td>NaN</td>\n",
              "      <td>NaN</td>\n",
              "    </tr>\n",
              "    <tr>\n",
              "      <th>13</th>\n",
              "      <td>2011</td>\n",
              "      <td>NaN</td>\n",
              "      <td>29766695.0</td>\n",
              "      <td>5936510.0</td>\n",
              "      <td>3455771.0</td>\n",
              "      <td>NaN</td>\n",
              "      <td>1248282.0</td>\n",
              "      <td>9007202.0</td>\n",
              "    </tr>\n",
              "    <tr>\n",
              "      <th>14</th>\n",
              "      <td>2012</td>\n",
              "      <td>NaN</td>\n",
              "      <td>34244456.0</td>\n",
              "      <td>6073502.0</td>\n",
              "      <td>3476431.0</td>\n",
              "      <td>NaN</td>\n",
              "      <td>1281727.0</td>\n",
              "      <td>9160270.0</td>\n",
              "    </tr>\n",
              "    <tr>\n",
              "      <th>15</th>\n",
              "      <td>2013</td>\n",
              "      <td>NaN</td>\n",
              "      <td>36857624.0</td>\n",
              "      <td>7376378.0</td>\n",
              "      <td>2910036.0</td>\n",
              "      <td>NaN</td>\n",
              "      <td>1516079.92005</td>\n",
              "      <td>8721127.13184</td>\n",
              "    </tr>\n",
              "    <tr>\n",
              "      <th>16</th>\n",
              "      <td>2014</td>\n",
              "      <td>NaN</td>\n",
              "      <td>38946903.0</td>\n",
              "      <td>NaN</td>\n",
              "      <td>NaN</td>\n",
              "      <td>NaN</td>\n",
              "      <td>1647239.0</td>\n",
              "      <td>8762260.0</td>\n",
              "    </tr>\n",
              "  </tbody>\n",
              "</table>\n",
              "</div>\n",
              "      <button class=\"colab-df-convert\" onclick=\"convertToInteractive('df-449747f4-1b16-406b-baab-4be1f5a1e120')\"\n",
              "              title=\"Convert this dataframe to an interactive table.\"\n",
              "              style=\"display:none;\">\n",
              "        \n",
              "  <svg xmlns=\"http://www.w3.org/2000/svg\" height=\"24px\"viewBox=\"0 0 24 24\"\n",
              "       width=\"24px\">\n",
              "    <path d=\"M0 0h24v24H0V0z\" fill=\"none\"/>\n",
              "    <path d=\"M18.56 5.44l.94 2.06.94-2.06 2.06-.94-2.06-.94-.94-2.06-.94 2.06-2.06.94zm-11 1L8.5 8.5l.94-2.06 2.06-.94-2.06-.94L8.5 2.5l-.94 2.06-2.06.94zm10 10l.94 2.06.94-2.06 2.06-.94-2.06-.94-.94-2.06-.94 2.06-2.06.94z\"/><path d=\"M17.41 7.96l-1.37-1.37c-.4-.4-.92-.59-1.43-.59-.52 0-1.04.2-1.43.59L10.3 9.45l-7.72 7.72c-.78.78-.78 2.05 0 2.83L4 21.41c.39.39.9.59 1.41.59.51 0 1.02-.2 1.41-.59l7.78-7.78 2.81-2.81c.8-.78.8-2.07 0-2.86zM5.41 20L4 18.59l7.72-7.72 1.47 1.35L5.41 20z\"/>\n",
              "  </svg>\n",
              "      </button>\n",
              "      \n",
              "  <style>\n",
              "    .colab-df-container {\n",
              "      display:flex;\n",
              "      flex-wrap:wrap;\n",
              "      gap: 12px;\n",
              "    }\n",
              "\n",
              "    .colab-df-convert {\n",
              "      background-color: #E8F0FE;\n",
              "      border: none;\n",
              "      border-radius: 50%;\n",
              "      cursor: pointer;\n",
              "      display: none;\n",
              "      fill: #1967D2;\n",
              "      height: 32px;\n",
              "      padding: 0 0 0 0;\n",
              "      width: 32px;\n",
              "    }\n",
              "\n",
              "    .colab-df-convert:hover {\n",
              "      background-color: #E2EBFA;\n",
              "      box-shadow: 0px 1px 2px rgba(60, 64, 67, 0.3), 0px 1px 3px 1px rgba(60, 64, 67, 0.15);\n",
              "      fill: #174EA6;\n",
              "    }\n",
              "\n",
              "    [theme=dark] .colab-df-convert {\n",
              "      background-color: #3B4455;\n",
              "      fill: #D2E3FC;\n",
              "    }\n",
              "\n",
              "    [theme=dark] .colab-df-convert:hover {\n",
              "      background-color: #434B5C;\n",
              "      box-shadow: 0px 1px 3px 1px rgba(0, 0, 0, 0.15);\n",
              "      filter: drop-shadow(0px 1px 2px rgba(0, 0, 0, 0.3));\n",
              "      fill: #FFFFFF;\n",
              "    }\n",
              "  </style>\n",
              "\n",
              "      <script>\n",
              "        const buttonEl =\n",
              "          document.querySelector('#df-449747f4-1b16-406b-baab-4be1f5a1e120 button.colab-df-convert');\n",
              "        buttonEl.style.display =\n",
              "          google.colab.kernel.accessAllowed ? 'block' : 'none';\n",
              "\n",
              "        async function convertToInteractive(key) {\n",
              "          const element = document.querySelector('#df-449747f4-1b16-406b-baab-4be1f5a1e120');\n",
              "          const dataTable =\n",
              "            await google.colab.kernel.invokeFunction('convertToInteractive',\n",
              "                                                     [key], {});\n",
              "          if (!dataTable) return;\n",
              "\n",
              "          const docLinkHtml = 'Like what you see? Visit the ' +\n",
              "            '<a target=\"_blank\" href=https://colab.research.google.com/notebooks/data_table.ipynb>data table notebook</a>'\n",
              "            + ' to learn more about interactive tables.';\n",
              "          element.innerHTML = '';\n",
              "          dataTable['output_type'] = 'display_data';\n",
              "          await google.colab.output.renderOutput(dataTable, element);\n",
              "          const docLink = document.createElement('div');\n",
              "          docLink.innerHTML = docLinkHtml;\n",
              "          element.appendChild(docLink);\n",
              "        }\n",
              "      </script>\n",
              "    </div>\n",
              "  </div>\n",
              "  "
            ]
          },
          "metadata": {},
          "execution_count": 64
        }
      ]
    },
    {
      "cell_type": "code",
      "source": [
        "# Cyrating the dataframe obtained as it contains too many NaN values\n",
        "# Using ffill method to perform upward fill for NaN values, \n",
        "# it replaces the NaN with the nearest value above it in the column\n",
        "first_indicator.fillna(method=\"ffill\", inplace= True)\n",
        "\n",
        "# Using bfill method to perform downward fill for NaN values, \n",
        "# it replaces the NaN with the nearest value below it in the column\n",
        "first_indicator.fillna(method=\"bfill\", inplace= True)\n",
        "\n",
        "# Displaying the Matrix obtained\n",
        "first_indicator\n"
      ],
      "metadata": {
        "colab": {
          "base_uri": "https://localhost:8080/",
          "height": 551
        },
        "id": "q15KUzjQuLeO",
        "outputId": "84c5d081-b5e1-4836-ab10-8122a9ee2b31"
      },
      "execution_count": 58,
      "outputs": [
        {
          "output_type": "execute_result",
          "data": {
            "text/plain": [
              "    Year    Canada       China      India      Japan  Pakistan  \\\n",
              "1   1999  486874.0  24030344.0  2617403.0  3425697.0       NaN   \n",
              "2   2000  486874.0  23262588.0  2617403.0  3425697.0       NaN   \n",
              "3   2001  486874.0  22441806.0  2617403.0  3463487.0       NaN   \n",
              "4   2002  486874.0  20218371.0  4623168.0  3492456.0       NaN   \n",
              "5   2003  486874.0  20360245.0  5507559.0  3555478.0       NaN   \n",
              "6   2004  486874.0  20360245.0  5050006.0  3586547.0       NaN   \n",
              "7   2005  486874.0  20360245.0  4761485.0  3615999.0       NaN   \n",
              "8   2006  486874.0  20360245.0  5264053.0  3630184.0       NaN   \n",
              "9   2007  486874.0  22638509.0  5366340.0  3614874.0       NaN   \n",
              "10  2008  486874.0  23488300.0  6576483.0  3606830.0       NaN   \n",
              "11  2009  486874.0  24749600.0  5839725.0  3579867.0       NaN   \n",
              "12  2010  486874.0  26578141.0  5570382.0  3513892.0       NaN   \n",
              "13  2011  486874.0  29766695.0  5936510.0  3455771.0       NaN   \n",
              "14  2012  486874.0  34244456.0  6073502.0  3476431.0       NaN   \n",
              "15  2013  486874.0  36857624.0  7376378.0  2910036.0       NaN   \n",
              "16  2014  486874.0  38946903.0  7376378.0  2910036.0       NaN   \n",
              "\n",
              "    United Kingdom  United States  \n",
              "1     9.895960e+05   7.183122e+06  \n",
              "2     9.895960e+05   7.110066e+06  \n",
              "3     9.895960e+05   7.538720e+06  \n",
              "4     9.895960e+05   7.667685e+06  \n",
              "5     9.895960e+05   7.667685e+06  \n",
              "6     9.895960e+05   7.435568e+06  \n",
              "7     9.895960e+05   7.361682e+06  \n",
              "8     9.895960e+05   7.342289e+06  \n",
              "9     1.004677e+06   7.512518e+06  \n",
              "10    1.108148e+06   7.191333e+06  \n",
              "11    1.108148e+06   7.194512e+06  \n",
              "12    1.108148e+06   7.194512e+06  \n",
              "13    1.248282e+06   9.007202e+06  \n",
              "14    1.281727e+06   9.160270e+06  \n",
              "15    1.516080e+06   8.721127e+06  \n",
              "16    1.647239e+06   8.762260e+06  "
            ],
            "text/html": [
              "\n",
              "  <div id=\"df-b2840bc1-3937-48d0-b38d-4c35379a0270\">\n",
              "    <div class=\"colab-df-container\">\n",
              "      <div>\n",
              "<style scoped>\n",
              "    .dataframe tbody tr th:only-of-type {\n",
              "        vertical-align: middle;\n",
              "    }\n",
              "\n",
              "    .dataframe tbody tr th {\n",
              "        vertical-align: top;\n",
              "    }\n",
              "\n",
              "    .dataframe thead th {\n",
              "        text-align: right;\n",
              "    }\n",
              "</style>\n",
              "<table border=\"1\" class=\"dataframe\">\n",
              "  <thead>\n",
              "    <tr style=\"text-align: right;\">\n",
              "      <th></th>\n",
              "      <th>Year</th>\n",
              "      <th>Canada</th>\n",
              "      <th>China</th>\n",
              "      <th>India</th>\n",
              "      <th>Japan</th>\n",
              "      <th>Pakistan</th>\n",
              "      <th>United Kingdom</th>\n",
              "      <th>United States</th>\n",
              "    </tr>\n",
              "  </thead>\n",
              "  <tbody>\n",
              "    <tr>\n",
              "      <th>1</th>\n",
              "      <td>1999</td>\n",
              "      <td>486874.0</td>\n",
              "      <td>24030344.0</td>\n",
              "      <td>2617403.0</td>\n",
              "      <td>3425697.0</td>\n",
              "      <td>NaN</td>\n",
              "      <td>9.895960e+05</td>\n",
              "      <td>7.183122e+06</td>\n",
              "    </tr>\n",
              "    <tr>\n",
              "      <th>2</th>\n",
              "      <td>2000</td>\n",
              "      <td>486874.0</td>\n",
              "      <td>23262588.0</td>\n",
              "      <td>2617403.0</td>\n",
              "      <td>3425697.0</td>\n",
              "      <td>NaN</td>\n",
              "      <td>9.895960e+05</td>\n",
              "      <td>7.110066e+06</td>\n",
              "    </tr>\n",
              "    <tr>\n",
              "      <th>3</th>\n",
              "      <td>2001</td>\n",
              "      <td>486874.0</td>\n",
              "      <td>22441806.0</td>\n",
              "      <td>2617403.0</td>\n",
              "      <td>3463487.0</td>\n",
              "      <td>NaN</td>\n",
              "      <td>9.895960e+05</td>\n",
              "      <td>7.538720e+06</td>\n",
              "    </tr>\n",
              "    <tr>\n",
              "      <th>4</th>\n",
              "      <td>2002</td>\n",
              "      <td>486874.0</td>\n",
              "      <td>20218371.0</td>\n",
              "      <td>4623168.0</td>\n",
              "      <td>3492456.0</td>\n",
              "      <td>NaN</td>\n",
              "      <td>9.895960e+05</td>\n",
              "      <td>7.667685e+06</td>\n",
              "    </tr>\n",
              "    <tr>\n",
              "      <th>5</th>\n",
              "      <td>2003</td>\n",
              "      <td>486874.0</td>\n",
              "      <td>20360245.0</td>\n",
              "      <td>5507559.0</td>\n",
              "      <td>3555478.0</td>\n",
              "      <td>NaN</td>\n",
              "      <td>9.895960e+05</td>\n",
              "      <td>7.667685e+06</td>\n",
              "    </tr>\n",
              "    <tr>\n",
              "      <th>6</th>\n",
              "      <td>2004</td>\n",
              "      <td>486874.0</td>\n",
              "      <td>20360245.0</td>\n",
              "      <td>5050006.0</td>\n",
              "      <td>3586547.0</td>\n",
              "      <td>NaN</td>\n",
              "      <td>9.895960e+05</td>\n",
              "      <td>7.435568e+06</td>\n",
              "    </tr>\n",
              "    <tr>\n",
              "      <th>7</th>\n",
              "      <td>2005</td>\n",
              "      <td>486874.0</td>\n",
              "      <td>20360245.0</td>\n",
              "      <td>4761485.0</td>\n",
              "      <td>3615999.0</td>\n",
              "      <td>NaN</td>\n",
              "      <td>9.895960e+05</td>\n",
              "      <td>7.361682e+06</td>\n",
              "    </tr>\n",
              "    <tr>\n",
              "      <th>8</th>\n",
              "      <td>2006</td>\n",
              "      <td>486874.0</td>\n",
              "      <td>20360245.0</td>\n",
              "      <td>5264053.0</td>\n",
              "      <td>3630184.0</td>\n",
              "      <td>NaN</td>\n",
              "      <td>9.895960e+05</td>\n",
              "      <td>7.342289e+06</td>\n",
              "    </tr>\n",
              "    <tr>\n",
              "      <th>9</th>\n",
              "      <td>2007</td>\n",
              "      <td>486874.0</td>\n",
              "      <td>22638509.0</td>\n",
              "      <td>5366340.0</td>\n",
              "      <td>3614874.0</td>\n",
              "      <td>NaN</td>\n",
              "      <td>1.004677e+06</td>\n",
              "      <td>7.512518e+06</td>\n",
              "    </tr>\n",
              "    <tr>\n",
              "      <th>10</th>\n",
              "      <td>2008</td>\n",
              "      <td>486874.0</td>\n",
              "      <td>23488300.0</td>\n",
              "      <td>6576483.0</td>\n",
              "      <td>3606830.0</td>\n",
              "      <td>NaN</td>\n",
              "      <td>1.108148e+06</td>\n",
              "      <td>7.191333e+06</td>\n",
              "    </tr>\n",
              "    <tr>\n",
              "      <th>11</th>\n",
              "      <td>2009</td>\n",
              "      <td>486874.0</td>\n",
              "      <td>24749600.0</td>\n",
              "      <td>5839725.0</td>\n",
              "      <td>3579867.0</td>\n",
              "      <td>NaN</td>\n",
              "      <td>1.108148e+06</td>\n",
              "      <td>7.194512e+06</td>\n",
              "    </tr>\n",
              "    <tr>\n",
              "      <th>12</th>\n",
              "      <td>2010</td>\n",
              "      <td>486874.0</td>\n",
              "      <td>26578141.0</td>\n",
              "      <td>5570382.0</td>\n",
              "      <td>3513892.0</td>\n",
              "      <td>NaN</td>\n",
              "      <td>1.108148e+06</td>\n",
              "      <td>7.194512e+06</td>\n",
              "    </tr>\n",
              "    <tr>\n",
              "      <th>13</th>\n",
              "      <td>2011</td>\n",
              "      <td>486874.0</td>\n",
              "      <td>29766695.0</td>\n",
              "      <td>5936510.0</td>\n",
              "      <td>3455771.0</td>\n",
              "      <td>NaN</td>\n",
              "      <td>1.248282e+06</td>\n",
              "      <td>9.007202e+06</td>\n",
              "    </tr>\n",
              "    <tr>\n",
              "      <th>14</th>\n",
              "      <td>2012</td>\n",
              "      <td>486874.0</td>\n",
              "      <td>34244456.0</td>\n",
              "      <td>6073502.0</td>\n",
              "      <td>3476431.0</td>\n",
              "      <td>NaN</td>\n",
              "      <td>1.281727e+06</td>\n",
              "      <td>9.160270e+06</td>\n",
              "    </tr>\n",
              "    <tr>\n",
              "      <th>15</th>\n",
              "      <td>2013</td>\n",
              "      <td>486874.0</td>\n",
              "      <td>36857624.0</td>\n",
              "      <td>7376378.0</td>\n",
              "      <td>2910036.0</td>\n",
              "      <td>NaN</td>\n",
              "      <td>1.516080e+06</td>\n",
              "      <td>8.721127e+06</td>\n",
              "    </tr>\n",
              "    <tr>\n",
              "      <th>16</th>\n",
              "      <td>2014</td>\n",
              "      <td>486874.0</td>\n",
              "      <td>38946903.0</td>\n",
              "      <td>7376378.0</td>\n",
              "      <td>2910036.0</td>\n",
              "      <td>NaN</td>\n",
              "      <td>1.647239e+06</td>\n",
              "      <td>8.762260e+06</td>\n",
              "    </tr>\n",
              "  </tbody>\n",
              "</table>\n",
              "</div>\n",
              "      <button class=\"colab-df-convert\" onclick=\"convertToInteractive('df-b2840bc1-3937-48d0-b38d-4c35379a0270')\"\n",
              "              title=\"Convert this dataframe to an interactive table.\"\n",
              "              style=\"display:none;\">\n",
              "        \n",
              "  <svg xmlns=\"http://www.w3.org/2000/svg\" height=\"24px\"viewBox=\"0 0 24 24\"\n",
              "       width=\"24px\">\n",
              "    <path d=\"M0 0h24v24H0V0z\" fill=\"none\"/>\n",
              "    <path d=\"M18.56 5.44l.94 2.06.94-2.06 2.06-.94-2.06-.94-.94-2.06-.94 2.06-2.06.94zm-11 1L8.5 8.5l.94-2.06 2.06-.94-2.06-.94L8.5 2.5l-.94 2.06-2.06.94zm10 10l.94 2.06.94-2.06 2.06-.94-2.06-.94-.94-2.06-.94 2.06-2.06.94z\"/><path d=\"M17.41 7.96l-1.37-1.37c-.4-.4-.92-.59-1.43-.59-.52 0-1.04.2-1.43.59L10.3 9.45l-7.72 7.72c-.78.78-.78 2.05 0 2.83L4 21.41c.39.39.9.59 1.41.59.51 0 1.02-.2 1.41-.59l7.78-7.78 2.81-2.81c.8-.78.8-2.07 0-2.86zM5.41 20L4 18.59l7.72-7.72 1.47 1.35L5.41 20z\"/>\n",
              "  </svg>\n",
              "      </button>\n",
              "      \n",
              "  <style>\n",
              "    .colab-df-container {\n",
              "      display:flex;\n",
              "      flex-wrap:wrap;\n",
              "      gap: 12px;\n",
              "    }\n",
              "\n",
              "    .colab-df-convert {\n",
              "      background-color: #E8F0FE;\n",
              "      border: none;\n",
              "      border-radius: 50%;\n",
              "      cursor: pointer;\n",
              "      display: none;\n",
              "      fill: #1967D2;\n",
              "      height: 32px;\n",
              "      padding: 0 0 0 0;\n",
              "      width: 32px;\n",
              "    }\n",
              "\n",
              "    .colab-df-convert:hover {\n",
              "      background-color: #E2EBFA;\n",
              "      box-shadow: 0px 1px 2px rgba(60, 64, 67, 0.3), 0px 1px 3px 1px rgba(60, 64, 67, 0.15);\n",
              "      fill: #174EA6;\n",
              "    }\n",
              "\n",
              "    [theme=dark] .colab-df-convert {\n",
              "      background-color: #3B4455;\n",
              "      fill: #D2E3FC;\n",
              "    }\n",
              "\n",
              "    [theme=dark] .colab-df-convert:hover {\n",
              "      background-color: #434B5C;\n",
              "      box-shadow: 0px 1px 3px 1px rgba(0, 0, 0, 0.15);\n",
              "      filter: drop-shadow(0px 1px 2px rgba(0, 0, 0, 0.3));\n",
              "      fill: #FFFFFF;\n",
              "    }\n",
              "  </style>\n",
              "\n",
              "      <script>\n",
              "        const buttonEl =\n",
              "          document.querySelector('#df-b2840bc1-3937-48d0-b38d-4c35379a0270 button.colab-df-convert');\n",
              "        buttonEl.style.display =\n",
              "          google.colab.kernel.accessAllowed ? 'block' : 'none';\n",
              "\n",
              "        async function convertToInteractive(key) {\n",
              "          const element = document.querySelector('#df-b2840bc1-3937-48d0-b38d-4c35379a0270');\n",
              "          const dataTable =\n",
              "            await google.colab.kernel.invokeFunction('convertToInteractive',\n",
              "                                                     [key], {});\n",
              "          if (!dataTable) return;\n",
              "\n",
              "          const docLinkHtml = 'Like what you see? Visit the ' +\n",
              "            '<a target=\"_blank\" href=https://colab.research.google.com/notebooks/data_table.ipynb>data table notebook</a>'\n",
              "            + ' to learn more about interactive tables.';\n",
              "          element.innerHTML = '';\n",
              "          dataTable['output_type'] = 'display_data';\n",
              "          await google.colab.output.renderOutput(dataTable, element);\n",
              "          const docLink = document.createElement('div');\n",
              "          docLink.innerHTML = docLinkHtml;\n",
              "          element.appendChild(docLink);\n",
              "        }\n",
              "      </script>\n",
              "    </div>\n",
              "  </div>\n",
              "  "
            ]
          },
          "metadata": {},
          "execution_count": 58
        }
      ]
    },
    {
      "cell_type": "code",
      "source": [
        "first_indicator.plot(x=\"Year\", kind = 'line', title = title, xlabel = \"Years\", ylabel = \"Enrollment in ECE\", figsize = (16,8), fontsize = 14, marker = 'o', linestyle = \"--\", grid = True)\n",
        "plt.grid(color = 'blue', linestyle = '--', linewidth = 0.5)\n",
        "\n"
      ],
      "metadata": {
        "colab": {
          "base_uri": "https://localhost:8080/",
          "height": 524
        },
        "id": "AX-3BtGivGO-",
        "outputId": "56f7cea5-cb17-4e10-fd20-90e67d9c17a0"
      },
      "execution_count": 60,
      "outputs": [
        {
          "output_type": "display_data",
          "data": {
            "text/plain": [
              "<Figure size 1152x576 with 1 Axes>"
            ],
            "image/png": "[encoded data removed]"
          },
          "metadata": {
            "needs_background": "light"
          }
        }
      ]
    },
    {
      "cell_type": "markdown",
      "source": [
        "##### 1. Why did you pick the specific chart?"
      ],
      "metadata": {
        "id": "K5QZ13OEpz2H"
      }
    },
    {
      "cell_type": "markdown",
      "source": [
        "As this data datframe contains 7 countries data, it will be easier to analyse it if we use line chart."
      ],
      "metadata": {
        "id": "XESiWehPqBRc"
      }
    },
    {
      "cell_type": "markdown",
      "source": [
        "##### 2. What is/are the insight(s) found from the chart?"
      ],
      "metadata": {
        "id": "lQ7QKXXCp7Bj"
      }
    },
    {
      "cell_type": "markdown",
      "source": [
        "From the above Graph it is apparent that **China** is leading in ECE followed by **United States**. However, we see that **India** started out below **Japan** but gained a significant rise in 2002 and it kept on increasing coming closer to **USA**. **UK** and **Canada** remained constant throughout these years, they are below **India**, but this can be attributed to their low populations."
      ],
      "metadata": {
        "id": "C_j1G7yiqdRP"
      }
    },
    {
      "cell_type": "markdown",
      "source": [
        "##### 3. Will the gained insights help creating a positive business impact? \n",
        "Are there any insights that lead to negative growth? Justify with specific reason."
      ],
      "metadata": {
        "id": "448CDAPjqfQr"
      }
    },
    {
      "cell_type": "markdown",
      "source": [
        "The above insights will help in deciding the Policy Makers realise what has worked so far and what policies helped in bringing major positive changes in ECE of the country in the previous years. And looking at the trends, the future policies can be shaped in bringing out higher outcomes."
      ],
      "metadata": {
        "id": "3cspy4FjqxJW"
      }
    },
    {
      "cell_type": "markdown",
      "source": [
        "#### Chart - 2"
      ],
      "metadata": {
        "id": "KSlN3yHqYklG"
      }
    },
    {
      "cell_type": "markdown",
      "source": [
        "**Enrolment in primary eductaion, both sexes**"
      ],
      "metadata": {
        "id": "Wk0zrm-e39Dl"
      }
    },
    {
      "cell_type": "code",
      "source": [
        "# Chart - 2 visualization code"
      ],
      "metadata": {
        "id": "R4YgtaqtYklH"
      },
      "execution_count": null,
      "outputs": []
    },
    {
      "cell_type": "code",
      "source": [
        "# Calling rowwise_data() function to get dataframe for Second indicator and also its tilte\n",
        "second_indicator, title2 = rowwise_data(Indicators[1])\n",
        "\n",
        "# Displaying title of the indicator\n",
        "print(title2)\n",
        "\n",
        "# Displaying the dataframe obtained\n",
        "second_indicator"
      ],
      "metadata": {
        "colab": {
          "base_uri": "https://localhost:8080/",
          "height": 432
        },
        "id": "lbMcH6rC4PdI",
        "outputId": "8baf1462-8891-4d1b-8155-16b3fcb76c8d"
      },
      "execution_count": 78,
      "outputs": [
        {
          "output_type": "stream",
          "name": "stdout",
          "text": [
            "Enrolment in primary education, both sexes (number)\n"
          ]
        },
        {
          "output_type": "execute_result",
          "data": {
            "text/plain": [
              "     Country Name         1970         1971         1972         1973  \\\n",
              "1          Canada          NaN    2846220.0    2786106.0    2695021.0   \n",
              "2           China  100668000.0  105280000.0  112112000.0  125492000.0   \n",
              "3           India          NaN   57045440.0   58818644.0   62400628.0   \n",
              "4           Japan          NaN    9630815.0    9728516.0    9825682.0   \n",
              "5        Pakistan          NaN    3992834.0    4119577.0    4460497.0   \n",
              "6  United Kingdom          NaN    5806349.0    5880238.0    5888063.0   \n",
              "7   United States          NaN   22037000.0   21676000.0   21873000.0   \n",
              "\n",
              "          1974         1975         1976         1977         1978  ...  \\\n",
              "1    2597576.0    2534137.0    2440016.0    2361318.0    2295925.0  ...   \n",
              "2  135704000.0  144814000.0  150940992.0  150055008.0  146176000.0  ...   \n",
              "3   63125100.0   64855640.0   65660024.0   69060728.0   67360992.0  ...   \n",
              "4    9816536.0   10088776.0   10364846.0   10609985.0   10819651.0  ...   \n",
              "5    4813134.0    4988873.0    5236203.0    5527860.0    5015479.0  ...   \n",
              "6    5876761.0    5811517.0    5725167.0    5636473.0    5495784.0  ...   \n",
              "7   21201000.0   20613000.0   20213000.0   19825000.0   19554000.0  ...   \n",
              "\n",
              "          2006         2007         2008         2009         2010  \\\n",
              "1    2305211.0    2260819.0    2200335.0    2193237.0    2168022.0   \n",
              "2  108925224.0  107394752.0  105950504.0  103617064.0  101018624.0   \n",
              "3          NaN  137742640.0  139317984.0  138368128.0  138413840.0   \n",
              "4    7229135.0    7220111.0    7166285.0    7156039.0    7098862.0   \n",
              "5   16687658.0   17979190.0   18175800.0   18468096.0   18756348.0   \n",
              "6    4517618.0    4409184.0    4465021.0    4416474.0    4421903.0   \n",
              "7   24319032.0   24492040.0   24676574.0   24586434.0   24393002.0   \n",
              "\n",
              "          2011         2012         2013         2014         2015  \n",
              "1    2153778.0    2182843.0    2206136.0          NaN          NaN  \n",
              "2   99707840.0   99540480.0   98870816.0   95107120.0   95958040.0  \n",
              "3  137746816.0  139869904.0  141154752.0  137808912.0  138518032.0  \n",
              "4    7029265.0    6923951.0    6801716.0    6714539.0          NaN  \n",
              "5   18050718.0   18119160.0   18150234.0   19431564.0   19846822.0  \n",
              "6    4419840.0    4523583.0    4622158.0    4737068.0          NaN  \n",
              "7   24431662.0   24381924.0   24417652.0   24538372.0   24785698.0  \n",
              "\n",
              "[7 rows x 47 columns]"
            ],
            "text/html": [
              "\n",
              "  <div id=\"df-3d673df2-98f8-4793-99de-4d1480093995\">\n",
              "    <div class=\"colab-df-container\">\n",
              "      <div>\n",
              "<style scoped>\n",
              "    .dataframe tbody tr th:only-of-type {\n",
              "        vertical-align: middle;\n",
              "    }\n",
              "\n",
              "    .dataframe tbody tr th {\n",
              "        vertical-align: top;\n",
              "    }\n",
              "\n",
              "    .dataframe thead th {\n",
              "        text-align: right;\n",
              "    }\n",
              "</style>\n",
              "<table border=\"1\" class=\"dataframe\">\n",
              "  <thead>\n",
              "    <tr style=\"text-align: right;\">\n",
              "      <th></th>\n",
              "      <th>Country Name</th>\n",
              "      <th>1970</th>\n",
              "      <th>1971</th>\n",
              "      <th>1972</th>\n",
              "      <th>1973</th>\n",
              "      <th>1974</th>\n",
              "      <th>1975</th>\n",
              "      <th>1976</th>\n",
              "      <th>1977</th>\n",
              "      <th>1978</th>\n",
              "      <th>...</th>\n",
              "      <th>2006</th>\n",
              "      <th>2007</th>\n",
              "      <th>2008</th>\n",
              "      <th>2009</th>\n",
              "      <th>2010</th>\n",
              "      <th>2011</th>\n",
              "      <th>2012</th>\n",
              "      <th>2013</th>\n",
              "      <th>2014</th>\n",
              "      <th>2015</th>\n",
              "    </tr>\n",
              "  </thead>\n",
              "  <tbody>\n",
              "    <tr>\n",
              "      <th>1</th>\n",
              "      <td>Canada</td>\n",
              "      <td>NaN</td>\n",
              "      <td>2846220.0</td>\n",
              "      <td>2786106.0</td>\n",
              "      <td>2695021.0</td>\n",
              "      <td>2597576.0</td>\n",
              "      <td>2534137.0</td>\n",
              "      <td>2440016.0</td>\n",
              "      <td>2361318.0</td>\n",
              "      <td>2295925.0</td>\n",
              "      <td>...</td>\n",
              "      <td>2305211.0</td>\n",
              "      <td>2260819.0</td>\n",
              "      <td>2200335.0</td>\n",
              "      <td>2193237.0</td>\n",
              "      <td>2168022.0</td>\n",
              "      <td>2153778.0</td>\n",
              "      <td>2182843.0</td>\n",
              "      <td>2206136.0</td>\n",
              "      <td>NaN</td>\n",
              "      <td>NaN</td>\n",
              "    </tr>\n",
              "    <tr>\n",
              "      <th>2</th>\n",
              "      <td>China</td>\n",
              "      <td>100668000.0</td>\n",
              "      <td>105280000.0</td>\n",
              "      <td>112112000.0</td>\n",
              "      <td>125492000.0</td>\n",
              "      <td>135704000.0</td>\n",
              "      <td>144814000.0</td>\n",
              "      <td>150940992.0</td>\n",
              "      <td>150055008.0</td>\n",
              "      <td>146176000.0</td>\n",
              "      <td>...</td>\n",
              "      <td>108925224.0</td>\n",
              "      <td>107394752.0</td>\n",
              "      <td>105950504.0</td>\n",
              "      <td>103617064.0</td>\n",
              "      <td>101018624.0</td>\n",
              "      <td>99707840.0</td>\n",
              "      <td>99540480.0</td>\n",
              "      <td>98870816.0</td>\n",
              "      <td>95107120.0</td>\n",
              "      <td>95958040.0</td>\n",
              "    </tr>\n",
              "    <tr>\n",
              "      <th>3</th>\n",
              "      <td>India</td>\n",
              "      <td>NaN</td>\n",
              "      <td>57045440.0</td>\n",
              "      <td>58818644.0</td>\n",
              "      <td>62400628.0</td>\n",
              "      <td>63125100.0</td>\n",
              "      <td>64855640.0</td>\n",
              "      <td>65660024.0</td>\n",
              "      <td>69060728.0</td>\n",
              "      <td>67360992.0</td>\n",
              "      <td>...</td>\n",
              "      <td>NaN</td>\n",
              "      <td>137742640.0</td>\n",
              "      <td>139317984.0</td>\n",
              "      <td>138368128.0</td>\n",
              "      <td>138413840.0</td>\n",
              "      <td>137746816.0</td>\n",
              "      <td>139869904.0</td>\n",
              "      <td>141154752.0</td>\n",
              "      <td>137808912.0</td>\n",
              "      <td>138518032.0</td>\n",
              "    </tr>\n",
              "    <tr>\n",
              "      <th>4</th>\n",
              "      <td>Japan</td>\n",
              "      <td>NaN</td>\n",
              "      <td>9630815.0</td>\n",
              "      <td>9728516.0</td>\n",
              "      <td>9825682.0</td>\n",
              "      <td>9816536.0</td>\n",
              "      <td>10088776.0</td>\n",
              "      <td>10364846.0</td>\n",
              "      <td>10609985.0</td>\n",
              "      <td>10819651.0</td>\n",
              "      <td>...</td>\n",
              "      <td>7229135.0</td>\n",
              "      <td>7220111.0</td>\n",
              "      <td>7166285.0</td>\n",
              "      <td>7156039.0</td>\n",
              "      <td>7098862.0</td>\n",
              "      <td>7029265.0</td>\n",
              "      <td>6923951.0</td>\n",
              "      <td>6801716.0</td>\n",
              "      <td>6714539.0</td>\n",
              "      <td>NaN</td>\n",
              "    </tr>\n",
              "    <tr>\n",
              "      <th>5</th>\n",
              "      <td>Pakistan</td>\n",
              "      <td>NaN</td>\n",
              "      <td>3992834.0</td>\n",
              "      <td>4119577.0</td>\n",
              "      <td>4460497.0</td>\n",
              "      <td>4813134.0</td>\n",
              "      <td>4988873.0</td>\n",
              "      <td>5236203.0</td>\n",
              "      <td>5527860.0</td>\n",
              "      <td>5015479.0</td>\n",
              "      <td>...</td>\n",
              "      <td>16687658.0</td>\n",
              "      <td>17979190.0</td>\n",
              "      <td>18175800.0</td>\n",
              "      <td>18468096.0</td>\n",
              "      <td>18756348.0</td>\n",
              "      <td>18050718.0</td>\n",
              "      <td>18119160.0</td>\n",
              "      <td>18150234.0</td>\n",
              "      <td>19431564.0</td>\n",
              "      <td>19846822.0</td>\n",
              "    </tr>\n",
              "    <tr>\n",
              "      <th>6</th>\n",
              "      <td>United Kingdom</td>\n",
              "      <td>NaN</td>\n",
              "      <td>5806349.0</td>\n",
              "      <td>5880238.0</td>\n",
              "      <td>5888063.0</td>\n",
              "      <td>5876761.0</td>\n",
              "      <td>5811517.0</td>\n",
              "      <td>5725167.0</td>\n",
              "      <td>5636473.0</td>\n",
              "      <td>5495784.0</td>\n",
              "      <td>...</td>\n",
              "      <td>4517618.0</td>\n",
              "      <td>4409184.0</td>\n",
              "      <td>4465021.0</td>\n",
              "      <td>4416474.0</td>\n",
              "      <td>4421903.0</td>\n",
              "      <td>4419840.0</td>\n",
              "      <td>4523583.0</td>\n",
              "      <td>4622158.0</td>\n",
              "      <td>4737068.0</td>\n",
              "      <td>NaN</td>\n",
              "    </tr>\n",
              "    <tr>\n",
              "      <th>7</th>\n",
              "      <td>United States</td>\n",
              "      <td>NaN</td>\n",
              "      <td>22037000.0</td>\n",
              "      <td>21676000.0</td>\n",
              "      <td>21873000.0</td>\n",
              "      <td>21201000.0</td>\n",
              "      <td>20613000.0</td>\n",
              "      <td>20213000.0</td>\n",
              "      <td>19825000.0</td>\n",
              "      <td>19554000.0</td>\n",
              "      <td>...</td>\n",
              "      <td>24319032.0</td>\n",
              "      <td>24492040.0</td>\n",
              "      <td>24676574.0</td>\n",
              "      <td>24586434.0</td>\n",
              "      <td>24393002.0</td>\n",
              "      <td>24431662.0</td>\n",
              "      <td>24381924.0</td>\n",
              "      <td>24417652.0</td>\n",
              "      <td>24538372.0</td>\n",
              "      <td>24785698.0</td>\n",
              "    </tr>\n",
              "  </tbody>\n",
              "</table>\n",
              "<p>7 rows × 47 columns</p>\n",
              "</div>\n",
              "      <button class=\"colab-df-convert\" onclick=\"convertToInteractive('df-3d673df2-98f8-4793-99de-4d1480093995')\"\n",
              "              title=\"Convert this dataframe to an interactive table.\"\n",
              "              style=\"display:none;\">\n",
              "        \n",
              "  <svg xmlns=\"http://www.w3.org/2000/svg\" height=\"24px\"viewBox=\"0 0 24 24\"\n",
              "       width=\"24px\">\n",
              "    <path d=\"M0 0h24v24H0V0z\" fill=\"none\"/>\n",
              "    <path d=\"M18.56 5.44l.94 2.06.94-2.06 2.06-.94-2.06-.94-.94-2.06-.94 2.06-2.06.94zm-11 1L8.5 8.5l.94-2.06 2.06-.94-2.06-.94L8.5 2.5l-.94 2.06-2.06.94zm10 10l.94 2.06.94-2.06 2.06-.94-2.06-.94-.94-2.06-.94 2.06-2.06.94z\"/><path d=\"M17.41 7.96l-1.37-1.37c-.4-.4-.92-.59-1.43-.59-.52 0-1.04.2-1.43.59L10.3 9.45l-7.72 7.72c-.78.78-.78 2.05 0 2.83L4 21.41c.39.39.9.59 1.41.59.51 0 1.02-.2 1.41-.59l7.78-7.78 2.81-2.81c.8-.78.8-2.07 0-2.86zM5.41 20L4 18.59l7.72-7.72 1.47 1.35L5.41 20z\"/>\n",
              "  </svg>\n",
              "      </button>\n",
              "      \n",
              "  <style>\n",
              "    .colab-df-container {\n",
              "      display:flex;\n",
              "      flex-wrap:wrap;\n",
              "      gap: 12px;\n",
              "    }\n",
              "\n",
              "    .colab-df-convert {\n",
              "      background-color: #E8F0FE;\n",
              "      border: none;\n",
              "      border-radius: 50%;\n",
              "      cursor: pointer;\n",
              "      display: none;\n",
              "      fill: #1967D2;\n",
              "      height: 32px;\n",
              "      padding: 0 0 0 0;\n",
              "      width: 32px;\n",
              "    }\n",
              "\n",
              "    .colab-df-convert:hover {\n",
              "      background-color: #E2EBFA;\n",
              "      box-shadow: 0px 1px 2px rgba(60, 64, 67, 0.3), 0px 1px 3px 1px rgba(60, 64, 67, 0.15);\n",
              "      fill: #174EA6;\n",
              "    }\n",
              "\n",
              "    [theme=dark] .colab-df-convert {\n",
              "      background-color: #3B4455;\n",
              "      fill: #D2E3FC;\n",
              "    }\n",
              "\n",
              "    [theme=dark] .colab-df-convert:hover {\n",
              "      background-color: #434B5C;\n",
              "      box-shadow: 0px 1px 3px 1px rgba(0, 0, 0, 0.15);\n",
              "      filter: drop-shadow(0px 1px 2px rgba(0, 0, 0, 0.3));\n",
              "      fill: #FFFFFF;\n",
              "    }\n",
              "  </style>\n",
              "\n",
              "      <script>\n",
              "        const buttonEl =\n",
              "          document.querySelector('#df-3d673df2-98f8-4793-99de-4d1480093995 button.colab-df-convert');\n",
              "        buttonEl.style.display =\n",
              "          google.colab.kernel.accessAllowed ? 'block' : 'none';\n",
              "\n",
              "        async function convertToInteractive(key) {\n",
              "          const element = document.querySelector('#df-3d673df2-98f8-4793-99de-4d1480093995');\n",
              "          const dataTable =\n",
              "            await google.colab.kernel.invokeFunction('convertToInteractive',\n",
              "                                                     [key], {});\n",
              "          if (!dataTable) return;\n",
              "\n",
              "          const docLinkHtml = 'Like what you see? Visit the ' +\n",
              "            '<a target=\"_blank\" href=https://colab.research.google.com/notebooks/data_table.ipynb>data table notebook</a>'\n",
              "            + ' to learn more about interactive tables.';\n",
              "          element.innerHTML = '';\n",
              "          dataTable['output_type'] = 'display_data';\n",
              "          await google.colab.output.renderOutput(dataTable, element);\n",
              "          const docLink = document.createElement('div');\n",
              "          docLink.innerHTML = docLinkHtml;\n",
              "          element.appendChild(docLink);\n",
              "        }\n",
              "      </script>\n",
              "    </div>\n",
              "  </div>\n",
              "  "
            ]
          },
          "metadata": {},
          "execution_count": 78
        }
      ]
    },
    {
      "cell_type": "code",
      "source": [
        "# Cyrating the dataframe obtained as it contains too many NaN values\n",
        "# Using ffill method to perform upward fill for NaN values, \n",
        "# it replaces the NaN with the nearest value above it in the column\n",
        "second_indicator.fillna(second_indicator.mean(), inplace=True)\n",
        "\n",
        "# Displaying the Matrix obtained\n",
        "second_indicator\n"
      ],
      "metadata": {
        "colab": {
          "base_uri": "https://localhost:8080/",
          "height": 449
        },
        "id": "QvCkLT3p5IxD",
        "outputId": "af1eefe8-50e7-4f94-8c78-be58a7db15e5"
      },
      "execution_count": 71,
      "outputs": [
        {
          "output_type": "stream",
          "name": "stderr",
          "text": [
            "<ipython-input-71-dbb58e42887f>:4: FutureWarning: Dropping of nuisance columns in DataFrame reductions (with 'numeric_only=None') is deprecated; in a future version this will raise TypeError.  Select only valid columns before calling the reduction.\n",
            "  second_indicator.fillna(second_indicator.mean(), inplace=True)\n"
          ]
        },
        {
          "output_type": "execute_result",
          "data": {
            "text/plain": [
              "     Country Name         1970         1971         1972         1973  \\\n",
              "1          Canada  100668000.0    2846220.0    2786106.0    2695021.0   \n",
              "2           China  100668000.0  105280000.0  112112000.0  125492000.0   \n",
              "3           India  100668000.0   57045440.0   58818644.0   62400628.0   \n",
              "4           Japan  100668000.0    9630815.0    9728516.0    9825682.0   \n",
              "5        Pakistan  100668000.0    3992834.0    4119577.0    4460497.0   \n",
              "6  United Kingdom  100668000.0    5806349.0    5880238.0    5888063.0   \n",
              "7   United States  100668000.0   22037000.0   21676000.0   21873000.0   \n",
              "\n",
              "          1974         1975         1976         1977         1978  ...  \\\n",
              "1    2597576.0    2534137.0    2440016.0    2361318.0    2295925.0  ...   \n",
              "2  135704000.0  144814000.0  150940992.0  150055008.0  146176000.0  ...   \n",
              "3   63125100.0   64855640.0   65660024.0   69060728.0   67360992.0  ...   \n",
              "4    9816536.0   10088776.0   10364846.0   10609985.0   10819651.0  ...   \n",
              "5    4813134.0    4988873.0    5236203.0    5527860.0    5015479.0  ...   \n",
              "6    5876761.0    5811517.0    5725167.0    5636473.0    5495784.0  ...   \n",
              "7   21201000.0   20613000.0   20213000.0   19825000.0   19554000.0  ...   \n",
              "\n",
              "           2006         2007         2008         2009         2010  \\\n",
              "1  2.305211e+06    2260819.0    2200335.0    2193237.0    2168022.0   \n",
              "2  1.089252e+08  107394752.0  105950504.0  103617064.0  101018624.0   \n",
              "3  2.733065e+07  137742640.0  139317984.0  138368128.0  138413840.0   \n",
              "4  7.229135e+06    7220111.0    7166285.0    7156039.0    7098862.0   \n",
              "5  1.668766e+07   17979190.0   18175800.0   18468096.0   18756348.0   \n",
              "6  4.517618e+06    4409184.0    4465021.0    4416474.0    4421903.0   \n",
              "7  2.431903e+07   24492040.0   24676574.0   24586434.0   24393002.0   \n",
              "\n",
              "          2011         2012         2013         2014         2015  \n",
              "1    2153778.0    2182843.0    2206136.0   48056262.5   69777148.0  \n",
              "2   99707840.0   99540480.0   98870816.0   95107120.0   95958040.0  \n",
              "3  137746816.0  139869904.0  141154752.0  137808912.0  138518032.0  \n",
              "4    7029265.0    6923951.0    6801716.0    6714539.0   69777148.0  \n",
              "5   18050718.0   18119160.0   18150234.0   19431564.0   19846822.0  \n",
              "6    4419840.0    4523583.0    4622158.0    4737068.0   69777148.0  \n",
              "7   24431662.0   24381924.0   24417652.0   24538372.0   24785698.0  \n",
              "\n",
              "[7 rows x 47 columns]"
            ],
            "text/html": [
              "\n",
              "  <div id=\"df-81c372c4-208a-4ca6-808f-b86292848237\">\n",
              "    <div class=\"colab-df-container\">\n",
              "      <div>\n",
              "<style scoped>\n",
              "    .dataframe tbody tr th:only-of-type {\n",
              "        vertical-align: middle;\n",
              "    }\n",
              "\n",
              "    .dataframe tbody tr th {\n",
              "        vertical-align: top;\n",
              "    }\n",
              "\n",
              "    .dataframe thead th {\n",
              "        text-align: right;\n",
              "    }\n",
              "</style>\n",
              "<table border=\"1\" class=\"dataframe\">\n",
              "  <thead>\n",
              "    <tr style=\"text-align: right;\">\n",
              "      <th></th>\n",
              "      <th>Country Name</th>\n",
              "      <th>1970</th>\n",
              "      <th>1971</th>\n",
              "      <th>1972</th>\n",
              "      <th>1973</th>\n",
              "      <th>1974</th>\n",
              "      <th>1975</th>\n",
              "      <th>1976</th>\n",
              "      <th>1977</th>\n",
              "      <th>1978</th>\n",
              "      <th>...</th>\n",
              "      <th>2006</th>\n",
              "      <th>2007</th>\n",
              "      <th>2008</th>\n",
              "      <th>2009</th>\n",
              "      <th>2010</th>\n",
              "      <th>2011</th>\n",
              "      <th>2012</th>\n",
              "      <th>2013</th>\n",
              "      <th>2014</th>\n",
              "      <th>2015</th>\n",
              "    </tr>\n",
              "  </thead>\n",
              "  <tbody>\n",
              "    <tr>\n",
              "      <th>1</th>\n",
              "      <td>Canada</td>\n",
              "      <td>100668000.0</td>\n",
              "      <td>2846220.0</td>\n",
              "      <td>2786106.0</td>\n",
              "      <td>2695021.0</td>\n",
              "      <td>2597576.0</td>\n",
              "      <td>2534137.0</td>\n",
              "      <td>2440016.0</td>\n",
              "      <td>2361318.0</td>\n",
              "      <td>2295925.0</td>\n",
              "      <td>...</td>\n",
              "      <td>2.305211e+06</td>\n",
              "      <td>2260819.0</td>\n",
              "      <td>2200335.0</td>\n",
              "      <td>2193237.0</td>\n",
              "      <td>2168022.0</td>\n",
              "      <td>2153778.0</td>\n",
              "      <td>2182843.0</td>\n",
              "      <td>2206136.0</td>\n",
              "      <td>48056262.5</td>\n",
              "      <td>69777148.0</td>\n",
              "    </tr>\n",
              "    <tr>\n",
              "      <th>2</th>\n",
              "      <td>China</td>\n",
              "      <td>100668000.0</td>\n",
              "      <td>105280000.0</td>\n",
              "      <td>112112000.0</td>\n",
              "      <td>125492000.0</td>\n",
              "      <td>135704000.0</td>\n",
              "      <td>144814000.0</td>\n",
              "      <td>150940992.0</td>\n",
              "      <td>150055008.0</td>\n",
              "      <td>146176000.0</td>\n",
              "      <td>...</td>\n",
              "      <td>1.089252e+08</td>\n",
              "      <td>107394752.0</td>\n",
              "      <td>105950504.0</td>\n",
              "      <td>103617064.0</td>\n",
              "      <td>101018624.0</td>\n",
              "      <td>99707840.0</td>\n",
              "      <td>99540480.0</td>\n",
              "      <td>98870816.0</td>\n",
              "      <td>95107120.0</td>\n",
              "      <td>95958040.0</td>\n",
              "    </tr>\n",
              "    <tr>\n",
              "      <th>3</th>\n",
              "      <td>India</td>\n",
              "      <td>100668000.0</td>\n",
              "      <td>57045440.0</td>\n",
              "      <td>58818644.0</td>\n",
              "      <td>62400628.0</td>\n",
              "      <td>63125100.0</td>\n",
              "      <td>64855640.0</td>\n",
              "      <td>65660024.0</td>\n",
              "      <td>69060728.0</td>\n",
              "      <td>67360992.0</td>\n",
              "      <td>...</td>\n",
              "      <td>2.733065e+07</td>\n",
              "      <td>137742640.0</td>\n",
              "      <td>139317984.0</td>\n",
              "      <td>138368128.0</td>\n",
              "      <td>138413840.0</td>\n",
              "      <td>137746816.0</td>\n",
              "      <td>139869904.0</td>\n",
              "      <td>141154752.0</td>\n",
              "      <td>137808912.0</td>\n",
              "      <td>138518032.0</td>\n",
              "    </tr>\n",
              "    <tr>\n",
              "      <th>4</th>\n",
              "      <td>Japan</td>\n",
              "      <td>100668000.0</td>\n",
              "      <td>9630815.0</td>\n",
              "      <td>9728516.0</td>\n",
              "      <td>9825682.0</td>\n",
              "      <td>9816536.0</td>\n",
              "      <td>10088776.0</td>\n",
              "      <td>10364846.0</td>\n",
              "      <td>10609985.0</td>\n",
              "      <td>10819651.0</td>\n",
              "      <td>...</td>\n",
              "      <td>7.229135e+06</td>\n",
              "      <td>7220111.0</td>\n",
              "      <td>7166285.0</td>\n",
              "      <td>7156039.0</td>\n",
              "      <td>7098862.0</td>\n",
              "      <td>7029265.0</td>\n",
              "      <td>6923951.0</td>\n",
              "      <td>6801716.0</td>\n",
              "      <td>6714539.0</td>\n",
              "      <td>69777148.0</td>\n",
              "    </tr>\n",
              "    <tr>\n",
              "      <th>5</th>\n",
              "      <td>Pakistan</td>\n",
              "      <td>100668000.0</td>\n",
              "      <td>3992834.0</td>\n",
              "      <td>4119577.0</td>\n",
              "      <td>4460497.0</td>\n",
              "      <td>4813134.0</td>\n",
              "      <td>4988873.0</td>\n",
              "      <td>5236203.0</td>\n",
              "      <td>5527860.0</td>\n",
              "      <td>5015479.0</td>\n",
              "      <td>...</td>\n",
              "      <td>1.668766e+07</td>\n",
              "      <td>17979190.0</td>\n",
              "      <td>18175800.0</td>\n",
              "      <td>18468096.0</td>\n",
              "      <td>18756348.0</td>\n",
              "      <td>18050718.0</td>\n",
              "      <td>18119160.0</td>\n",
              "      <td>18150234.0</td>\n",
              "      <td>19431564.0</td>\n",
              "      <td>19846822.0</td>\n",
              "    </tr>\n",
              "    <tr>\n",
              "      <th>6</th>\n",
              "      <td>United Kingdom</td>\n",
              "      <td>100668000.0</td>\n",
              "      <td>5806349.0</td>\n",
              "      <td>5880238.0</td>\n",
              "      <td>5888063.0</td>\n",
              "      <td>5876761.0</td>\n",
              "      <td>5811517.0</td>\n",
              "      <td>5725167.0</td>\n",
              "      <td>5636473.0</td>\n",
              "      <td>5495784.0</td>\n",
              "      <td>...</td>\n",
              "      <td>4.517618e+06</td>\n",
              "      <td>4409184.0</td>\n",
              "      <td>4465021.0</td>\n",
              "      <td>4416474.0</td>\n",
              "      <td>4421903.0</td>\n",
              "      <td>4419840.0</td>\n",
              "      <td>4523583.0</td>\n",
              "      <td>4622158.0</td>\n",
              "      <td>4737068.0</td>\n",
              "      <td>69777148.0</td>\n",
              "    </tr>\n",
              "    <tr>\n",
              "      <th>7</th>\n",
              "      <td>United States</td>\n",
              "      <td>100668000.0</td>\n",
              "      <td>22037000.0</td>\n",
              "      <td>21676000.0</td>\n",
              "      <td>21873000.0</td>\n",
              "      <td>21201000.0</td>\n",
              "      <td>20613000.0</td>\n",
              "      <td>20213000.0</td>\n",
              "      <td>19825000.0</td>\n",
              "      <td>19554000.0</td>\n",
              "      <td>...</td>\n",
              "      <td>2.431903e+07</td>\n",
              "      <td>24492040.0</td>\n",
              "      <td>24676574.0</td>\n",
              "      <td>24586434.0</td>\n",
              "      <td>24393002.0</td>\n",
              "      <td>24431662.0</td>\n",
              "      <td>24381924.0</td>\n",
              "      <td>24417652.0</td>\n",
              "      <td>24538372.0</td>\n",
              "      <td>24785698.0</td>\n",
              "    </tr>\n",
              "  </tbody>\n",
              "</table>\n",
              "<p>7 rows × 47 columns</p>\n",
              "</div>\n",
              "      <button class=\"colab-df-convert\" onclick=\"convertToInteractive('df-81c372c4-208a-4ca6-808f-b86292848237')\"\n",
              "              title=\"Convert this dataframe to an interactive table.\"\n",
              "              style=\"display:none;\">\n",
              "        \n",
              "  <svg xmlns=\"http://www.w3.org/2000/svg\" height=\"24px\"viewBox=\"0 0 24 24\"\n",
              "       width=\"24px\">\n",
              "    <path d=\"M0 0h24v24H0V0z\" fill=\"none\"/>\n",
              "    <path d=\"M18.56 5.44l.94 2.06.94-2.06 2.06-.94-2.06-.94-.94-2.06-.94 2.06-2.06.94zm-11 1L8.5 8.5l.94-2.06 2.06-.94-2.06-.94L8.5 2.5l-.94 2.06-2.06.94zm10 10l.94 2.06.94-2.06 2.06-.94-2.06-.94-.94-2.06-.94 2.06-2.06.94z\"/><path d=\"M17.41 7.96l-1.37-1.37c-.4-.4-.92-.59-1.43-.59-.52 0-1.04.2-1.43.59L10.3 9.45l-7.72 7.72c-.78.78-.78 2.05 0 2.83L4 21.41c.39.39.9.59 1.41.59.51 0 1.02-.2 1.41-.59l7.78-7.78 2.81-2.81c.8-.78.8-2.07 0-2.86zM5.41 20L4 18.59l7.72-7.72 1.47 1.35L5.41 20z\"/>\n",
              "  </svg>\n",
              "      </button>\n",
              "      \n",
              "  <style>\n",
              "    .colab-df-container {\n",
              "      display:flex;\n",
              "      flex-wrap:wrap;\n",
              "      gap: 12px;\n",
              "    }\n",
              "\n",
              "    .colab-df-convert {\n",
              "      background-color: #E8F0FE;\n",
              "      border: none;\n",
              "      border-radius: 50%;\n",
              "      cursor: pointer;\n",
              "      display: none;\n",
              "      fill: #1967D2;\n",
              "      height: 32px;\n",
              "      padding: 0 0 0 0;\n",
              "      width: 32px;\n",
              "    }\n",
              "\n",
              "    .colab-df-convert:hover {\n",
              "      background-color: #E2EBFA;\n",
              "      box-shadow: 0px 1px 2px rgba(60, 64, 67, 0.3), 0px 1px 3px 1px rgba(60, 64, 67, 0.15);\n",
              "      fill: #174EA6;\n",
              "    }\n",
              "\n",
              "    [theme=dark] .colab-df-convert {\n",
              "      background-color: #3B4455;\n",
              "      fill: #D2E3FC;\n",
              "    }\n",
              "\n",
              "    [theme=dark] .colab-df-convert:hover {\n",
              "      background-color: #434B5C;\n",
              "      box-shadow: 0px 1px 3px 1px rgba(0, 0, 0, 0.15);\n",
              "      filter: drop-shadow(0px 1px 2px rgba(0, 0, 0, 0.3));\n",
              "      fill: #FFFFFF;\n",
              "    }\n",
              "  </style>\n",
              "\n",
              "      <script>\n",
              "        const buttonEl =\n",
              "          document.querySelector('#df-81c372c4-208a-4ca6-808f-b86292848237 button.colab-df-convert');\n",
              "        buttonEl.style.display =\n",
              "          google.colab.kernel.accessAllowed ? 'block' : 'none';\n",
              "\n",
              "        async function convertToInteractive(key) {\n",
              "          const element = document.querySelector('#df-81c372c4-208a-4ca6-808f-b86292848237');\n",
              "          const dataTable =\n",
              "            await google.colab.kernel.invokeFunction('convertToInteractive',\n",
              "                                                     [key], {});\n",
              "          if (!dataTable) return;\n",
              "\n",
              "          const docLinkHtml = 'Like what you see? Visit the ' +\n",
              "            '<a target=\"_blank\" href=https://colab.research.google.com/notebooks/data_table.ipynb>data table notebook</a>'\n",
              "            + ' to learn more about interactive tables.';\n",
              "          element.innerHTML = '';\n",
              "          dataTable['output_type'] = 'display_data';\n",
              "          await google.colab.output.renderOutput(dataTable, element);\n",
              "          const docLink = document.createElement('div');\n",
              "          docLink.innerHTML = docLinkHtml;\n",
              "          element.appendChild(docLink);\n",
              "        }\n",
              "      </script>\n",
              "    </div>\n",
              "  </div>\n",
              "  "
            ]
          },
          "metadata": {},
          "execution_count": 71
        }
      ]
    },
    {
      "cell_type": "code",
      "source": [
        "second_indicator.plot(x=\"Country Name\", y=[\"1980\",\"1990\",\"2000\",\"2010\"],  kind = 'bar', title = title, xlabel = \"Countries\", ylabel = \"Enrollment in Primary Education\", figsize = (16,8), fontsize = 14, grid = True)\n",
        "plt.grid(color = 'blue', linestyle = '--', linewidth = 0.5)"
      ],
      "metadata": {
        "colab": {
          "base_uri": "https://localhost:8080/",
          "height": 622
        },
        "id": "3Ej4PjmM5Iga",
        "outputId": "044c5e73-1485-4338-f65d-6b00e2312053"
      },
      "execution_count": 77,
      "outputs": [
        {
          "output_type": "display_data",
          "data": {
            "text/plain": [
              "<Figure size 1152x576 with 1 Axes>"
            ],
            "image/png": "[encoded data removed]"
          },
          "metadata": {
            "needs_background": "light"
          }
        }
      ]
    },
    {
      "cell_type": "markdown",
      "source": [
        "##### 1. Why did you pick the specific chart?"
      ],
      "metadata": {
        "id": "t6dVpIINYklI"
      }
    },
    {
      "cell_type": "markdown",
      "source": [
        "I chose Bar plot to show how the countries have progressed in every decade. India has shown Linear positive growth in the number of enrolments in primary education."
      ],
      "metadata": {
        "id": "5aaW0BYyYklI"
      }
    },
    {
      "cell_type": "markdown",
      "source": [
        "##### 2. What is/are the insight(s) found from the chart?"
      ],
      "metadata": {
        "id": "ijmpgYnKYklI"
      }
    },
    {
      "cell_type": "markdown",
      "source": [
        "It shows that there is continuous spread of awareness in Indian parents about the importance of education and so the enrolment in primary education is showing positive growth."
      ],
      "metadata": {
        "id": "PSx9atu2YklI"
      }
    },
    {
      "cell_type": "markdown",
      "source": [
        "##### 3. Will the gained insights help creating a positive business impact? \n",
        "Are there any insights that lead to negative growth? Justify with specific reason."
      ],
      "metadata": {
        "id": "-JiQyfWJYklI"
      }
    },
    {
      "cell_type": "markdown",
      "source": [
        "Awareness programmes, midday meals policy and other govt initiated programmes are working well to ensure enrolments in primary education."
      ],
      "metadata": {
        "id": "BcBbebzrYklV"
      }
    },
    {
      "cell_type": "markdown",
      "source": [
        "#### Chart - 3"
      ],
      "metadata": {
        "id": "EM7whBJCYoAo"
      }
    },
    {
      "cell_type": "code",
      "source": [
        "# Chart - 3 visualization code"
      ],
      "metadata": {
        "id": "t6GMdE67YoAp"
      },
      "execution_count": null,
      "outputs": []
    },
    {
      "cell_type": "code",
      "source": [
        "def get_dataframe(year):\n",
        "  temp, title_ = rowwise_data(Indicators[1])\n",
        "  countries = temp[\"Country Name\"]\n",
        "  cols =[\"Primary\",\"Secondary\",\"Tertiary\",\"Post-Secondary-Non-Tertiary\"]\n",
        "  temporary_df = pd.DataFrame()\n",
        "  empty_list = []\n",
        "  for i in range(1,5):\n",
        "    temp1, titles = rowwise_data(Indicators[i])\n",
        "    empty_list.append(list(temp1[str(year)]))\n",
        "\n",
        "  temporary_df = pd.DataFrame(empty_list, columns = countries, index = cols)\n",
        "  temporary_df.fillna(temporary_df.mean(), inplace=True)\n",
        "\n",
        "  return temporary_df.T\n"
      ],
      "metadata": {
        "id": "3gN98CZZ_jH8"
      },
      "execution_count": 185,
      "outputs": []
    },
    {
      "cell_type": "code",
      "source": [
        "temporary_df_1 = get_dataframe(2000)\n",
        "temporary_df_1"
      ],
      "metadata": {
        "colab": {
          "base_uri": "https://localhost:8080/",
          "height": 300
        },
        "id": "M2YYVZiFU_T6",
        "outputId": "87d9c9fe-601b-4b64-ca46-a2d6fbf61b6c"
      },
      "execution_count": 186,
      "outputs": [
        {
          "output_type": "execute_result",
          "data": {
            "text/plain": [
              "                    Primary   Secondary    Tertiary  \\\n",
              "Country Name                                          \n",
              "Canada            2456434.0   2519080.0   1212161.0   \n",
              "China            29953669.0  81487960.0   7364111.0   \n",
              "India           113612544.0  71030512.0   9404460.0   \n",
              "Japan             7528907.0   8782114.0   3982069.0   \n",
              "Pakistan         13987198.0  13987198.0  13987198.0   \n",
              "United Kingdom    4631623.0   5314730.0   2024138.0   \n",
              "United States    24973176.0  22593562.0  13202880.0   \n",
              "\n",
              "                Post-Secondary-Non-Tertiary  \n",
              "Country Name                                 \n",
              "Canada                         3.138050e+05  \n",
              "China                          1.008936e+06  \n",
              "India                          3.825790e+05  \n",
              "Japan                          1.323200e+04  \n",
              "Pakistan                       1.398720e+07  \n",
              "United Kingdom                 3.990164e+06  \n",
              "United States                  1.553645e+06  "
            ],
            "text/html": [
              "\n",
              "  <div id=\"df-a44d2964-d035-4b98-a49b-df1d2a7e7569\">\n",
              "    <div class=\"colab-df-container\">\n",
              "      <div>\n",
              "<style scoped>\n",
              "    .dataframe tbody tr th:only-of-type {\n",
              "        vertical-align: middle;\n",
              "    }\n",
              "\n",
              "    .dataframe tbody tr th {\n",
              "        vertical-align: top;\n",
              "    }\n",
              "\n",
              "    .dataframe thead th {\n",
              "        text-align: right;\n",
              "    }\n",
              "</style>\n",
              "<table border=\"1\" class=\"dataframe\">\n",
              "  <thead>\n",
              "    <tr style=\"text-align: right;\">\n",
              "      <th></th>\n",
              "      <th>Primary</th>\n",
              "      <th>Secondary</th>\n",
              "      <th>Tertiary</th>\n",
              "      <th>Post-Secondary-Non-Tertiary</th>\n",
              "    </tr>\n",
              "    <tr>\n",
              "      <th>Country Name</th>\n",
              "      <th></th>\n",
              "      <th></th>\n",
              "      <th></th>\n",
              "      <th></th>\n",
              "    </tr>\n",
              "  </thead>\n",
              "  <tbody>\n",
              "    <tr>\n",
              "      <th>Canada</th>\n",
              "      <td>2456434.0</td>\n",
              "      <td>2519080.0</td>\n",
              "      <td>1212161.0</td>\n",
              "      <td>3.138050e+05</td>\n",
              "    </tr>\n",
              "    <tr>\n",
              "      <th>China</th>\n",
              "      <td>29953669.0</td>\n",
              "      <td>81487960.0</td>\n",
              "      <td>7364111.0</td>\n",
              "      <td>1.008936e+06</td>\n",
              "    </tr>\n",
              "    <tr>\n",
              "      <th>India</th>\n",
              "      <td>113612544.0</td>\n",
              "      <td>71030512.0</td>\n",
              "      <td>9404460.0</td>\n",
              "      <td>3.825790e+05</td>\n",
              "    </tr>\n",
              "    <tr>\n",
              "      <th>Japan</th>\n",
              "      <td>7528907.0</td>\n",
              "      <td>8782114.0</td>\n",
              "      <td>3982069.0</td>\n",
              "      <td>1.323200e+04</td>\n",
              "    </tr>\n",
              "    <tr>\n",
              "      <th>Pakistan</th>\n",
              "      <td>13987198.0</td>\n",
              "      <td>13987198.0</td>\n",
              "      <td>13987198.0</td>\n",
              "      <td>1.398720e+07</td>\n",
              "    </tr>\n",
              "    <tr>\n",
              "      <th>United Kingdom</th>\n",
              "      <td>4631623.0</td>\n",
              "      <td>5314730.0</td>\n",
              "      <td>2024138.0</td>\n",
              "      <td>3.990164e+06</td>\n",
              "    </tr>\n",
              "    <tr>\n",
              "      <th>United States</th>\n",
              "      <td>24973176.0</td>\n",
              "      <td>22593562.0</td>\n",
              "      <td>13202880.0</td>\n",
              "      <td>1.553645e+06</td>\n",
              "    </tr>\n",
              "  </tbody>\n",
              "</table>\n",
              "</div>\n",
              "      <button class=\"colab-df-convert\" onclick=\"convertToInteractive('df-a44d2964-d035-4b98-a49b-df1d2a7e7569')\"\n",
              "              title=\"Convert this dataframe to an interactive table.\"\n",
              "              style=\"display:none;\">\n",
              "        \n",
              "  <svg xmlns=\"http://www.w3.org/2000/svg\" height=\"24px\"viewBox=\"0 0 24 24\"\n",
              "       width=\"24px\">\n",
              "    <path d=\"M0 0h24v24H0V0z\" fill=\"none\"/>\n",
              "    <path d=\"M18.56 5.44l.94 2.06.94-2.06 2.06-.94-2.06-.94-.94-2.06-.94 2.06-2.06.94zm-11 1L8.5 8.5l.94-2.06 2.06-.94-2.06-.94L8.5 2.5l-.94 2.06-2.06.94zm10 10l.94 2.06.94-2.06 2.06-.94-2.06-.94-.94-2.06-.94 2.06-2.06.94z\"/><path d=\"M17.41 7.96l-1.37-1.37c-.4-.4-.92-.59-1.43-.59-.52 0-1.04.2-1.43.59L10.3 9.45l-7.72 7.72c-.78.78-.78 2.05 0 2.83L4 21.41c.39.39.9.59 1.41.59.51 0 1.02-.2 1.41-.59l7.78-7.78 2.81-2.81c.8-.78.8-2.07 0-2.86zM5.41 20L4 18.59l7.72-7.72 1.47 1.35L5.41 20z\"/>\n",
              "  </svg>\n",
              "      </button>\n",
              "      \n",
              "  <style>\n",
              "    .colab-df-container {\n",
              "      display:flex;\n",
              "      flex-wrap:wrap;\n",
              "      gap: 12px;\n",
              "    }\n",
              "\n",
              "    .colab-df-convert {\n",
              "      background-color: #E8F0FE;\n",
              "      border: none;\n",
              "      border-radius: 50%;\n",
              "      cursor: pointer;\n",
              "      display: none;\n",
              "      fill: #1967D2;\n",
              "      height: 32px;\n",
              "      padding: 0 0 0 0;\n",
              "      width: 32px;\n",
              "    }\n",
              "\n",
              "    .colab-df-convert:hover {\n",
              "      background-color: #E2EBFA;\n",
              "      box-shadow: 0px 1px 2px rgba(60, 64, 67, 0.3), 0px 1px 3px 1px rgba(60, 64, 67, 0.15);\n",
              "      fill: #174EA6;\n",
              "    }\n",
              "\n",
              "    [theme=dark] .colab-df-convert {\n",
              "      background-color: #3B4455;\n",
              "      fill: #D2E3FC;\n",
              "    }\n",
              "\n",
              "    [theme=dark] .colab-df-convert:hover {\n",
              "      background-color: #434B5C;\n",
              "      box-shadow: 0px 1px 3px 1px rgba(0, 0, 0, 0.15);\n",
              "      filter: drop-shadow(0px 1px 2px rgba(0, 0, 0, 0.3));\n",
              "      fill: #FFFFFF;\n",
              "    }\n",
              "  </style>\n",
              "\n",
              "      <script>\n",
              "        const buttonEl =\n",
              "          document.querySelector('#df-a44d2964-d035-4b98-a49b-df1d2a7e7569 button.colab-df-convert');\n",
              "        buttonEl.style.display =\n",
              "          google.colab.kernel.accessAllowed ? 'block' : 'none';\n",
              "\n",
              "        async function convertToInteractive(key) {\n",
              "          const element = document.querySelector('#df-a44d2964-d035-4b98-a49b-df1d2a7e7569');\n",
              "          const dataTable =\n",
              "            await google.colab.kernel.invokeFunction('convertToInteractive',\n",
              "                                                     [key], {});\n",
              "          if (!dataTable) return;\n",
              "\n",
              "          const docLinkHtml = 'Like what you see? Visit the ' +\n",
              "            '<a target=\"_blank\" href=https://colab.research.google.com/notebooks/data_table.ipynb>data table notebook</a>'\n",
              "            + ' to learn more about interactive tables.';\n",
              "          element.innerHTML = '';\n",
              "          dataTable['output_type'] = 'display_data';\n",
              "          await google.colab.output.renderOutput(dataTable, element);\n",
              "          const docLink = document.createElement('div');\n",
              "          docLink.innerHTML = docLinkHtml;\n",
              "          element.appendChild(docLink);\n",
              "        }\n",
              "      </script>\n",
              "    </div>\n",
              "  </div>\n",
              "  "
            ]
          },
          "metadata": {},
          "execution_count": 186
        }
      ]
    },
    {
      "cell_type": "code",
      "source": [
        "temporary_df_1.plot(kind = 'bar', title = \"Enrolment in Primary, Secondary, Tertiary and Post-secondary Non-Tertiary Education \", xlabel = \"Countries\", ylabel = \"Enrollment in different Classes in 2014\", figsize = (16,8), fontsize = 14, grid = True)\n",
        "plt.grid(color = 'blue', linestyle = '--', linewidth = 0.5)"
      ],
      "metadata": {
        "colab": {
          "base_uri": "https://localhost:8080/",
          "height": 622
        },
        "id": "ta97c_zvDApW",
        "outputId": "c7014c0e-8b1b-447c-c82f-12dc35fcfc0b"
      },
      "execution_count": 182,
      "outputs": [
        {
          "output_type": "display_data",
          "data": {
            "text/plain": [
              "<Figure size 1152x576 with 1 Axes>"
            ],
            "image/png": "[encoded data removed]"
          },
          "metadata": {
            "needs_background": "light"
          }
        }
      ]
    },
    {
      "cell_type": "markdown",
      "source": [
        "##### 1. Why did you pick the specific chart?"
      ],
      "metadata": {
        "id": "fge-S5ZAYoAp"
      }
    },
    {
      "cell_type": "markdown",
      "source": [
        "To show how many Students are enrolling in Primary, Secondary, Tertiary And Non-Tertiary education sector of a country in a particular year. "
      ],
      "metadata": {
        "id": "5dBItgRVYoAp"
      }
    },
    {
      "cell_type": "markdown",
      "source": [
        "##### 2. What is/are the insight(s) found from the chart?"
      ],
      "metadata": {
        "id": "85gYPyotYoAp"
      }
    },
    {
      "cell_type": "markdown",
      "source": [
        "This graph shows That the enrolment in primary section is much higher than any other sector, which in turn says that many students are dropping out of schools in secondary then in tertiary courses. The Govt need to bring initiatives such as scholarships, paid internships in govt offices, voactional courses, interactive classes in higher classes to attract more students."
      ],
      "metadata": {
        "id": "4jstXR6OYoAp"
      }
    },
    {
      "cell_type": "markdown",
      "source": [
        "##### 3. Will the gained insights help creating a positive business impact? "
      ],
      "metadata": {
        "id": "RoGjAbkUYoAp"
      }
    },
    {
      "cell_type": "markdown",
      "source": [
        "It creates a positive impact on our business as it steers us in right direction."
      ],
      "metadata": {
        "id": "zfJ8IqMcYoAp"
      }
    },
    {
      "cell_type": "markdown",
      "source": [
        "#### Chart - 4"
      ],
      "metadata": {
        "id": "4Of9eVA-YrdM"
      }
    },
    {
      "cell_type": "code",
      "source": [
        "# Chart - 4 visualization code"
      ],
      "metadata": {
        "id": "irlUoxc8YrdO"
      },
      "execution_count": null,
      "outputs": []
    },
    {
      "cell_type": "markdown",
      "source": [
        "##### 1. Why did you pick the specific chart?"
      ],
      "metadata": {
        "id": "iky9q4vBYrdO"
      }
    },
    {
      "cell_type": "markdown",
      "source": [
        "Answer Here."
      ],
      "metadata": {
        "id": "aJRCwT6DYrdO"
      }
    },
    {
      "cell_type": "markdown",
      "source": [
        "##### 2. What is/are the insight(s) found from the chart?"
      ],
      "metadata": {
        "id": "F6T5p64dYrdO"
      }
    },
    {
      "cell_type": "markdown",
      "source": [
        "Answer Here"
      ],
      "metadata": {
        "id": "Xx8WAJvtYrdO"
      }
    },
    {
      "cell_type": "markdown",
      "source": [
        "##### 3. Will the gained insights help creating a positive business impact? \n",
        "Are there any insights that lead to negative growth? Justify with specific reason."
      ],
      "metadata": {
        "id": "y-Ehk30pYrdP"
      }
    },
    {
      "cell_type": "markdown",
      "source": [
        "Answer Here"
      ],
      "metadata": {
        "id": "jLNxxz7MYrdP"
      }
    },
    {
      "cell_type": "markdown",
      "source": [
        "#### Chart - 5"
      ],
      "metadata": {
        "id": "bamQiAODYuh1"
      }
    },
    {
      "cell_type": "code",
      "source": [
        "# Chart - 5 visualization code"
      ],
      "metadata": {
        "id": "TIJwrbroYuh3"
      },
      "execution_count": null,
      "outputs": []
    },
    {
      "cell_type": "markdown",
      "source": [
        "##### 1. Why did you pick the specific chart?"
      ],
      "metadata": {
        "id": "QHF8YVU7Yuh3"
      }
    },
    {
      "cell_type": "markdown",
      "source": [
        "Answer Here."
      ],
      "metadata": {
        "id": "dcxuIMRPYuh3"
      }
    },
    {
      "cell_type": "markdown",
      "source": [
        "##### 2. What is/are the insight(s) found from the chart?"
      ],
      "metadata": {
        "id": "GwzvFGzlYuh3"
      }
    },
    {
      "cell_type": "markdown",
      "source": [
        "Answer Here"
      ],
      "metadata": {
        "id": "uyqkiB8YYuh3"
      }
    },
    {
      "cell_type": "markdown",
      "source": [
        "##### 3. Will the gained insights help creating a positive business impact? \n",
        "Are there any insights that lead to negative growth? Justify with specific reason."
      ],
      "metadata": {
        "id": "qYpmQ266Yuh3"
      }
    },
    {
      "cell_type": "markdown",
      "source": [
        "Answer Here"
      ],
      "metadata": {
        "id": "_WtzZ_hCYuh4"
      }
    },
    {
      "cell_type": "markdown",
      "source": [
        "#### Chart - 6"
      ],
      "metadata": {
        "id": "OH-pJp9IphqM"
      }
    },
    {
      "cell_type": "code",
      "source": [
        "# Chart - 6 visualization code"
      ],
      "metadata": {
        "id": "kuRf4wtuphqN"
      },
      "execution_count": null,
      "outputs": []
    },
    {
      "cell_type": "markdown",
      "source": [
        "##### 1. Why did you pick the specific chart?"
      ],
      "metadata": {
        "id": "bbFf2-_FphqN"
      }
    },
    {
      "cell_type": "markdown",
      "source": [
        "Answer Here."
      ],
      "metadata": {
        "id": "loh7H2nzphqN"
      }
    },
    {
      "cell_type": "markdown",
      "source": [
        "##### 2. What is/are the insight(s) found from the chart?"
      ],
      "metadata": {
        "id": "_ouA3fa0phqN"
      }
    },
    {
      "cell_type": "markdown",
      "source": [
        "Answer Here"
      ],
      "metadata": {
        "id": "VECbqPI7phqN"
      }
    },
    {
      "cell_type": "markdown",
      "source": [
        "##### 3. Will the gained insights help creating a positive business impact? \n",
        "Are there any insights that lead to negative growth? Justify with specific reason."
      ],
      "metadata": {
        "id": "Seke61FWphqN"
      }
    },
    {
      "cell_type": "markdown",
      "source": [
        "Answer Here"
      ],
      "metadata": {
        "id": "DW4_bGpfphqN"
      }
    },
    {
      "cell_type": "markdown",
      "source": [
        "#### Chart - 7"
      ],
      "metadata": {
        "id": "PIIx-8_IphqN"
      }
    },
    {
      "cell_type": "code",
      "source": [
        "# Chart - 7 visualization code"
      ],
      "metadata": {
        "id": "lqAIGUfyphqO"
      },
      "execution_count": null,
      "outputs": []
    },
    {
      "cell_type": "markdown",
      "source": [
        "##### 1. Why did you pick the specific chart?"
      ],
      "metadata": {
        "id": "t27r6nlMphqO"
      }
    },
    {
      "cell_type": "markdown",
      "source": [
        "Answer Here."
      ],
      "metadata": {
        "id": "iv6ro40sphqO"
      }
    },
    {
      "cell_type": "markdown",
      "source": [
        "##### 2. What is/are the insight(s) found from the chart?"
      ],
      "metadata": {
        "id": "r2jJGEOYphqO"
      }
    },
    {
      "cell_type": "markdown",
      "source": [
        "Answer Here"
      ],
      "metadata": {
        "id": "Po6ZPi4hphqO"
      }
    },
    {
      "cell_type": "markdown",
      "source": [
        "##### 3. Will the gained insights help creating a positive business impact? \n",
        "Are there any insights that lead to negative growth? Justify with specific reason."
      ],
      "metadata": {
        "id": "b0JNsNcRphqO"
      }
    },
    {
      "cell_type": "markdown",
      "source": [
        "Answer Here"
      ],
      "metadata": {
        "id": "xvSq8iUTphqO"
      }
    },
    {
      "cell_type": "markdown",
      "source": [
        "#### Chart - 8"
      ],
      "metadata": {
        "id": "BZR9WyysphqO"
      }
    },
    {
      "cell_type": "code",
      "source": [
        "# Chart - 8 visualization code"
      ],
      "metadata": {
        "id": "TdPTWpAVphqO"
      },
      "execution_count": null,
      "outputs": []
    },
    {
      "cell_type": "markdown",
      "source": [
        "##### 1. Why did you pick the specific chart?"
      ],
      "metadata": {
        "id": "jj7wYXLtphqO"
      }
    },
    {
      "cell_type": "markdown",
      "source": [
        "Answer Here."
      ],
      "metadata": {
        "id": "Ob8u6rCTphqO"
      }
    },
    {
      "cell_type": "markdown",
      "source": [
        "##### 2. What is/are the insight(s) found from the chart?"
      ],
      "metadata": {
        "id": "eZrbJ2SmphqO"
      }
    },
    {
      "cell_type": "markdown",
      "source": [
        "Answer Here"
      ],
      "metadata": {
        "id": "mZtgC_hjphqO"
      }
    },
    {
      "cell_type": "markdown",
      "source": [
        "##### 3. Will the gained insights help creating a positive business impact? \n",
        "Are there any insights that lead to negative growth? Justify with specific reason."
      ],
      "metadata": {
        "id": "rFu4xreNphqO"
      }
    },
    {
      "cell_type": "markdown",
      "source": [
        "Answer Here"
      ],
      "metadata": {
        "id": "ey_0qi68phqO"
      }
    },
    {
      "cell_type": "markdown",
      "source": [
        "#### Chart - 9"
      ],
      "metadata": {
        "id": "YJ55k-q6phqO"
      }
    },
    {
      "cell_type": "code",
      "source": [
        "# Chart - 9 visualization code"
      ],
      "metadata": {
        "id": "B2aS4O1ophqO"
      },
      "execution_count": null,
      "outputs": []
    },
    {
      "cell_type": "markdown",
      "source": [
        "##### 1. Why did you pick the specific chart?"
      ],
      "metadata": {
        "id": "gCFgpxoyphqP"
      }
    },
    {
      "cell_type": "markdown",
      "source": [
        "Answer Here."
      ],
      "metadata": {
        "id": "TVxDimi2phqP"
      }
    },
    {
      "cell_type": "markdown",
      "source": [
        "##### 2. What is/are the insight(s) found from the chart?"
      ],
      "metadata": {
        "id": "OVtJsKN_phqQ"
      }
    },
    {
      "cell_type": "markdown",
      "source": [
        "Answer Here"
      ],
      "metadata": {
        "id": "ngGi97qjphqQ"
      }
    },
    {
      "cell_type": "markdown",
      "source": [
        "##### 3. Will the gained insights help creating a positive business impact? \n",
        "Are there any insights that lead to negative growth? Justify with specific reason."
      ],
      "metadata": {
        "id": "lssrdh5qphqQ"
      }
    },
    {
      "cell_type": "markdown",
      "source": [
        "Answer Here"
      ],
      "metadata": {
        "id": "tBpY5ekJphqQ"
      }
    },
    {
      "cell_type": "markdown",
      "source": [
        "#### Chart - 10"
      ],
      "metadata": {
        "id": "U2RJ9gkRphqQ"
      }
    },
    {
      "cell_type": "code",
      "source": [
        "# Chart - 10 visualization code"
      ],
      "metadata": {
        "id": "GM7a4YP4phqQ"
      },
      "execution_count": null,
      "outputs": []
    },
    {
      "cell_type": "markdown",
      "source": [
        "##### 1. Why did you pick the specific chart?"
      ],
      "metadata": {
        "id": "1M8mcRywphqQ"
      }
    },
    {
      "cell_type": "markdown",
      "source": [
        "Answer Here."
      ],
      "metadata": {
        "id": "8agQvks0phqQ"
      }
    },
    {
      "cell_type": "markdown",
      "source": [
        "##### 2. What is/are the insight(s) found from the chart?"
      ],
      "metadata": {
        "id": "tgIPom80phqQ"
      }
    },
    {
      "cell_type": "markdown",
      "source": [
        "Answer Here"
      ],
      "metadata": {
        "id": "Qp13pnNzphqQ"
      }
    },
    {
      "cell_type": "markdown",
      "source": [
        "##### 3. Will the gained insights help creating a positive business impact? \n",
        "Are there any insights that lead to negative growth? Justify with specific reason."
      ],
      "metadata": {
        "id": "JMzcOPDDphqR"
      }
    },
    {
      "cell_type": "markdown",
      "source": [
        "Answer Here"
      ],
      "metadata": {
        "id": "R4Ka1PC2phqR"
      }
    },
    {
      "cell_type": "markdown",
      "source": [
        "#### Chart - 11"
      ],
      "metadata": {
        "id": "x-EpHcCOp1ci"
      }
    },
    {
      "cell_type": "code",
      "source": [
        "# Chart - 11 visualization code"
      ],
      "metadata": {
        "id": "mAQTIvtqp1cj"
      },
      "execution_count": null,
      "outputs": []
    },
    {
      "cell_type": "markdown",
      "source": [
        "##### 1. Why did you pick the specific chart?"
      ],
      "metadata": {
        "id": "X_VqEhTip1ck"
      }
    },
    {
      "cell_type": "markdown",
      "source": [
        "Answer Here."
      ],
      "metadata": {
        "id": "-vsMzt_np1ck"
      }
    },
    {
      "cell_type": "markdown",
      "source": [
        "##### 2. What is/are the insight(s) found from the chart?"
      ],
      "metadata": {
        "id": "8zGJKyg5p1ck"
      }
    },
    {
      "cell_type": "markdown",
      "source": [
        "Answer Here"
      ],
      "metadata": {
        "id": "ZYdMsrqVp1ck"
      }
    },
    {
      "cell_type": "markdown",
      "source": [
        "##### 3. Will the gained insights help creating a positive business impact? \n",
        "Are there any insights that lead to negative growth? Justify with specific reason."
      ],
      "metadata": {
        "id": "PVzmfK_Ep1ck"
      }
    },
    {
      "cell_type": "markdown",
      "source": [
        "Answer Here"
      ],
      "metadata": {
        "id": "druuKYZpp1ck"
      }
    },
    {
      "cell_type": "markdown",
      "source": [
        "#### Chart - 12"
      ],
      "metadata": {
        "id": "n3dbpmDWp1ck"
      }
    },
    {
      "cell_type": "code",
      "source": [
        "# Chart - 12 visualization code"
      ],
      "metadata": {
        "id": "bwevp1tKp1ck"
      },
      "execution_count": null,
      "outputs": []
    },
    {
      "cell_type": "markdown",
      "source": [
        "##### 1. Why did you pick the specific chart?"
      ],
      "metadata": {
        "id": "ylSl6qgtp1ck"
      }
    },
    {
      "cell_type": "markdown",
      "source": [
        "Answer Here."
      ],
      "metadata": {
        "id": "m2xqNkiQp1ck"
      }
    },
    {
      "cell_type": "markdown",
      "source": [
        "##### 2. What is/are the insight(s) found from the chart?"
      ],
      "metadata": {
        "id": "ZWILFDl5p1ck"
      }
    },
    {
      "cell_type": "markdown",
      "source": [
        "Answer Here"
      ],
      "metadata": {
        "id": "x-lUsV2mp1ck"
      }
    },
    {
      "cell_type": "markdown",
      "source": [
        "##### 3. Will the gained insights help creating a positive business impact? \n",
        "Are there any insights that lead to negative growth? Justify with specific reason."
      ],
      "metadata": {
        "id": "M7G43BXep1ck"
      }
    },
    {
      "cell_type": "markdown",
      "source": [
        "Answer Here"
      ],
      "metadata": {
        "id": "5wwDJXsLp1cl"
      }
    },
    {
      "cell_type": "markdown",
      "source": [
        "#### Chart - 13"
      ],
      "metadata": {
        "id": "Ag9LCva-p1cl"
      }
    },
    {
      "cell_type": "code",
      "source": [
        "# Chart - 13 visualization code"
      ],
      "metadata": {
        "id": "EUfxeq9-p1cl"
      },
      "execution_count": null,
      "outputs": []
    },
    {
      "cell_type": "markdown",
      "source": [
        "##### 1. Why did you pick the specific chart?"
      ],
      "metadata": {
        "id": "E6MkPsBcp1cl"
      }
    },
    {
      "cell_type": "markdown",
      "source": [
        "Answer Here."
      ],
      "metadata": {
        "id": "V22bRsFWp1cl"
      }
    },
    {
      "cell_type": "markdown",
      "source": [
        "##### 2. What is/are the insight(s) found from the chart?"
      ],
      "metadata": {
        "id": "2cELzS2fp1cl"
      }
    },
    {
      "cell_type": "markdown",
      "source": [
        "Answer Here"
      ],
      "metadata": {
        "id": "ozQPc2_Ip1cl"
      }
    },
    {
      "cell_type": "markdown",
      "source": [
        "##### 3. Will the gained insights help creating a positive business impact? \n",
        "Are there any insights that lead to negative growth? Justify with specific reason."
      ],
      "metadata": {
        "id": "3MPXvC8up1cl"
      }
    },
    {
      "cell_type": "markdown",
      "source": [
        "Answer Here"
      ],
      "metadata": {
        "id": "GL8l1tdLp1cl"
      }
    },
    {
      "cell_type": "markdown",
      "source": [
        "#### Chart - 14 - Correlation Heatmap"
      ],
      "metadata": {
        "id": "NC_X3p0fY2L0"
      }
    },
    {
      "cell_type": "code",
      "source": [
        "# Correlation Heatmap visualization code"
      ],
      "metadata": {
        "id": "xyC9zolEZNRQ"
      },
      "execution_count": null,
      "outputs": []
    },
    {
      "cell_type": "markdown",
      "source": [
        "##### 1. Why did you pick the specific chart?"
      ],
      "metadata": {
        "id": "UV0SzAkaZNRQ"
      }
    },
    {
      "cell_type": "markdown",
      "source": [
        "Answer Here."
      ],
      "metadata": {
        "id": "DVPuT8LYZNRQ"
      }
    },
    {
      "cell_type": "markdown",
      "source": [
        "##### 2. What is/are the insight(s) found from the chart?"
      ],
      "metadata": {
        "id": "YPEH6qLeZNRQ"
      }
    },
    {
      "cell_type": "markdown",
      "source": [
        "Answer Here"
      ],
      "metadata": {
        "id": "bfSqtnDqZNRR"
      }
    },
    {
      "cell_type": "markdown",
      "source": [
        "#### Chart - 15 - Pair Plot "
      ],
      "metadata": {
        "id": "q29F0dvdveiT"
      }
    },
    {
      "cell_type": "code",
      "source": [
        "# Pair Plot visualization code"
      ],
      "metadata": {
        "id": "o58-TEIhveiU"
      },
      "execution_count": null,
      "outputs": []
    },
    {
      "cell_type": "markdown",
      "source": [
        "##### 1. Why did you pick the specific chart?"
      ],
      "metadata": {
        "id": "EXh0U9oCveiU"
      }
    },
    {
      "cell_type": "markdown",
      "source": [
        "Answer Here."
      ],
      "metadata": {
        "id": "eMmPjTByveiU"
      }
    },
    {
      "cell_type": "markdown",
      "source": [
        "##### 2. What is/are the insight(s) found from the chart?"
      ],
      "metadata": {
        "id": "22aHeOlLveiV"
      }
    },
    {
      "cell_type": "markdown",
      "source": [
        "Answer Here"
      ],
      "metadata": {
        "id": "uPQ8RGwHveiV"
      }
    },
    {
      "cell_type": "markdown",
      "source": [
        "## **5. Solution to Business Objective**"
      ],
      "metadata": {
        "id": "JcMwzZxoAimU"
      }
    },
    {
      "cell_type": "markdown",
      "source": [
        "#### What do you suggest the client to achieve Business Objective ? \n",
        "Explain Briefly."
      ],
      "metadata": {
        "id": "8G2x9gOozGDZ"
      }
    },
    {
      "cell_type": "markdown",
      "source": [
        "Answer Here."
      ],
      "metadata": {
        "id": "pASKb0qOza21"
      }
    },
    {
      "cell_type": "markdown",
      "source": [
        "# **Conclusion**"
      ],
      "metadata": {
        "id": "gCX9965dhzqZ"
      }
    },
    {
      "cell_type": "markdown",
      "source": [
        "Write the conclusion here."
      ],
      "metadata": {
        "id": "Fjb1IsQkh3yE"
      }
    },
    {
      "cell_type": "markdown",
      "source": [
        "### ***Hurrah! You have successfully completed your EDA Capstone Project !!!***"
      ],
      "metadata": {
        "id": "gIfDvo9L0UH2"
      }
    }
  ]
}